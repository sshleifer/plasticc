{
 "cells": [
  {
   "cell_type": "code",
   "execution_count": 2,
   "metadata": {
    "ExecuteTime": {
     "end_time": "2018-11-27T20:58:16.931212Z",
     "start_time": "2018-11-27T20:58:12.797346Z"
    },
    "code_folding": [
     0
    ]
   },
   "outputs": [
    {
     "name": "stderr",
     "output_type": "stream",
     "text": [
      "/Users/shleifer/k2/zentreefish/record_linking/lib/python3.6/site-packages/lightgbm/__init__.py:45: FutureWarning: Starting from version 2.2.1, the library file in distribution wheels for macOS will be built by the Apple Clang compiler.\n",
      "This means that in case of installing LightGBM from PyPI via the ``pip install lightgbm`` command, you won't need to install the gcc compiler anymore.\n",
      "Instead of that, you'll need to install the OpenMP library, which is required for running LightGBM on the system with the Apple Clang compiler.\n",
      "You can install the OpenMP library by the following command: ``brew install libomp``.\n",
      "  \"You can install the OpenMP library by the following command: ``brew install libomp``.\", FutureWarning)\n"
     ]
    },
    {
     "data": {
      "text/html": [
       "<style>.container { width:90% !important; }</style>"
      ],
      "text/plain": [
       "<IPython.core.display.HTML object>"
      ]
     },
     "metadata": {},
     "output_type": "display_data"
    }
   ],
   "source": [
    "# %load /Users/shleifer/dotfiles/py_util/imports.py\n",
    "#IMPORTS\n",
    "import os\n",
    "import pickle\n",
    "\n",
    "%load_ext autoreload\n",
    "%autoreload 2\n",
    "%matplotlib inline\n",
    "ISO = \"ISO-8859-1\"\n",
    "\n",
    "from tqdm import tqdm, tqdm_notebook, tnrange\n",
    "import numpy as np\n",
    "import pandas as pd\n",
    "import gc\n",
    "import IPython\n",
    "import sqlalchemy\n",
    "import eli5\n",
    "from lightgbm.sklearn import *\n",
    "from sklearn.metrics import *\n",
    "import itertools\n",
    "from collections import *\n",
    "from tqdm import tqdm, tqdm_notebook\n",
    "import funcy\n",
    "import matplotlib.pyplot as plt\n",
    "from time import time\n",
    "from lightgbm.sklearn import *\n",
    "from sklearn.metrics import *\n",
    "from sklearn.linear_model import *\n",
    "from itertools import chain\n",
    "from functools import partial\n",
    "from sklearn.feature_extraction.text import CountVectorizer, HashingVectorizer, TfidfTransformer, TfidfVectorizer\n",
    "from sklearn.model_selection import train_test_split\n",
    "from sklearn.utils import shuffle\n",
    "from numpy.testing import assert_array_equal\n",
    "from pandas.testing import assert_frame_equal, assert_series_equal, assert_index_equal\n",
    "# import seaborn as sns\n",
    "from sklearn.utils import shuffle\n",
    "from sklearn.preprocessing import StandardScaler, RobustScaler\n",
    "\n",
    "#from pandas_summary import DataFrameSummary\n",
    "from IPython.lib.display import FileLink\n",
    "from pathlib import Path\n",
    "import re\n",
    "mock_df = pd.DataFrame(np.ones((5,5)), columns=['a', 'b', 'c', 'd', 'e'])\n",
    "mock_df['color'] = ['red', 'blue', 'red', 'blue', 'green']\n",
    "mock_df['bool_col'] = [True, False, True, False, True]\n",
    "from pathlib import Path\n",
    "KLIB_PATH = Path('/Users/shleifer/k2/zentreefish/klib/pkgs/')\n",
    "if KLIB_PATH.exists():\n",
    "    KRL_PATH = KLIB_PATH / 'kensho_record_linking/'\n",
    "    KMLM_PATH = KLIB_PATH / 'kensho_ml_models'\n",
    "    PATH_TO_MI_DF = KRL_PATH / 'shleifer/mi_cached_data/sub_mi_df.mp'\n",
    "    ADVERSE_DATA_DIR = KRL_PATH / 'adverse_data'\n",
    "    WIKI_DATA_DIR = KRL_PATH / 'wiki_linking'\n",
    "\n",
    "\n",
    "np.set_printoptions(precision=5, linewidth=110, suppress=True)\n",
    "\n",
    "from ipykernel.kernelapp import IPKernelApp\n",
    "def in_notebook(): return IPKernelApp.initialized()\n",
    "\n",
    "from IPython.display import Markdown, display\n",
    "def printmd(string):\n",
    "    display(Markdown(string))\n",
    "\n",
    "from IPython.core.interactiveshell import InteractiveShell\n",
    "\n",
    "# pretty print only the last output of the cell\n",
    "InteractiveShell.ast_node_interactivity = \"last_expr\" # \"all\" for all\n",
    "START_DIR = !pwd\n",
    "try:\n",
    "    from search_magic import SearchMagic\n",
    "    get_ipython().register_magics(SearchMagic)\n",
    "except Exception:\n",
    "    pass\n",
    "import pickle\n",
    "def pickle_save(obj, path):\n",
    "    with open(path, 'wb') as f:\n",
    "        pickle.dump(obj, f)\n",
    "\n",
    "def pickle_load(path):\n",
    "    with open(path, 'rb') as f:\n",
    "        return pickle.load(f)\n",
    "save_pickle = pickle_save\n",
    "load_pickle = pickle_load\n",
    "def denumerate(lst): return dict(enumerate(lst))\n",
    "def lmap(fn, coll): return list(map(fn, coll))\n",
    "def dhead(d, n=5): return funcy.project(d, funcy.take(n, d.keys()))\n",
    "def run_query(query): return pd.read_sql(query, engine)\n",
    "def sample_row(df): return df.sample(1).iloc[0]\n",
    "def lzip(*args): return list(zip(*args))\n",
    "def lmap(*args): return list(map(*args))\n",
    "def keys(dct): return list(dct.keys())\n",
    "def vals(dct): return list(dct.values())\n",
    "\n",
    "from IPython.core.display import display, HTML\n",
    "display(HTML(\"<style>.container { width:90% !important; }</style>\"))\n",
    "from sklearn.linear_model import *\n"
   ]
  },
  {
   "cell_type": "code",
   "execution_count": 3,
   "metadata": {
    "ExecuteTime": {
     "end_time": "2018-11-27T20:58:39.063930Z",
     "start_time": "2018-11-27T20:58:38.248580Z"
    }
   },
   "outputs": [],
   "source": [
    "import sys, os\n",
    "import argparse\n",
    "import time\n",
    "from datetime import datetime as dt\n",
    "import gc; gc.enable()\n",
    "from functools import partial, wraps\n",
    "\n",
    "import pandas as pd # data processing, CSV file I/O (e.g. pd.read_csv)\n",
    "import numpy as np # linear algebra\n",
    "np.warnings.filterwarnings('ignore')\n",
    "\n",
    "from sklearn.model_selection import StratifiedKFold\n",
    "from tsfresh.feature_extraction import extract_features\n",
    "from xgboost import XGBClassifier\n",
    "from lightgbm import LGBMClassifier\n",
    "\n",
    "from numba import jit"
   ]
  },
  {
   "cell_type": "code",
   "execution_count": 5,
   "metadata": {
    "ExecuteTime": {
     "end_time": "2018-11-27T21:03:16.092831Z",
     "start_time": "2018-11-27T21:03:16.018094Z"
    }
   },
   "outputs": [],
   "source": [
    "from plasticc.forked_lgbm_script import *\n",
    "from plasticc.constants import *"
   ]
  },
  {
   "cell_type": "code",
   "execution_count": 112,
   "metadata": {
    "ExecuteTime": {
     "end_time": "2018-11-27T22:23:51.489291Z",
     "start_time": "2018-11-27T22:23:51.429671Z"
    }
   },
   "outputs": [
    {
     "data": {
      "text/plain": [
       "{'flux_err': numpy.float16,\n",
       " 'flux': numpy.float32,\n",
       " 'mjd': numpy.float16,\n",
       " 'passband': numpy.int8,\n",
       " 'detected': numpy.int8,\n",
       " 'object_id': numpy.int32}"
      ]
     },
     "execution_count": 112,
     "metadata": {},
     "output_type": "execute_result"
    }
   ],
   "source": [
    "DTYPES"
   ]
  },
  {
   "cell_type": "code",
   "execution_count": 352,
   "metadata": {
    "ExecuteTime": {
     "end_time": "2018-11-28T08:31:20.492687Z",
     "start_time": "2018-11-28T08:31:20.287826Z"
    }
   },
   "outputs": [],
   "source": [
    "#imp"
   ]
  },
  {
   "cell_type": "code",
   "execution_count": 113,
   "metadata": {
    "ExecuteTime": {
     "end_time": "2018-11-27T22:33:27.945380Z",
     "start_time": "2018-11-27T22:33:27.771243Z"
    }
   },
   "outputs": [],
   "source": [
    "COLUMN_TO_TYPE = {\n",
    "    'object_id': np.int32,\n",
    "    'mjd': np.float32,\n",
    "    'passband': np.int8,\n",
    "    'flux': np.float32,\n",
    "    'flux_err': np.float32,\n",
    "    'detected': np.int8\n",
    "}\n"
   ]
  },
  {
   "cell_type": "code",
   "execution_count": 114,
   "metadata": {
    "ExecuteTime": {
     "end_time": "2018-11-27T22:34:18.934117Z",
     "start_time": "2018-11-27T22:33:43.953914Z"
    }
   },
   "outputs": [
    {
     "name": "stderr",
     "output_type": "stream",
     "text": [
      "Feature Extraction: 100%|██████████| 20/20 [00:01<00:00, 13.75it/s]\n",
      "Feature Extraction: 100%|██████████| 20/20 [00:01<00:00, 14.95it/s]\n"
     ]
    },
    {
     "name": "stdout",
     "output_type": "stream",
     "text": [
      "Unique classes : 14, [6, 15, 16, 42, 52, 53, 62, 64, 65, 67, 88, 90, 92, 95]\n",
      "{6: 1, 15: 2, 16: 1, 42: 1, 52: 1, 53: 1, 62: 1, 64: 2, 65: 1, 67: 1, 88: 1, 90: 1, 92: 1, 95: 1}\n"
     ]
    }
   ],
   "source": [
    "\n",
    "meta_train = process_meta(DATA_DIR / 'training_set_metadata.csv')\n",
    "\n",
    "train = pd.read_csv(DATA_DIR / 'training_set.csv',\n",
    "                    dtype=COLUMN_TO_TYPE)\n",
    "full_train = featurize(train, meta_train, aggs, fcp)\n",
    "\n",
    "if 'target' in full_train:\n",
    "    y = full_train['target']\n",
    "    del full_train['target']\n",
    "\n",
    "classes = sorted(y.unique())    \n",
    "# Taken from Giba's topic : https://www.kaggle.com/titericz\n",
    "# https://www.kaggle.com/c/PLAsTiCC-2018/discussion/67194\n",
    "# with Kyle Boone's post https://www.kaggle.com/kyleboone\n",
    "class_weights = {c: 1 for c in classes}\n",
    "class_weights.update({c:2 for c in [64, 15]})\n",
    "print('Unique classes : {}, {}'.format(len(classes), classes))\n",
    "print(class_weights)"
   ]
  },
  {
   "cell_type": "code",
   "execution_count": 485,
   "metadata": {
    "ExecuteTime": {
     "end_time": "2018-11-28T13:08:07.906551Z",
     "start_time": "2018-11-28T13:06:48.973982Z"
    },
    "scrolled": true
   },
   "outputs": [],
   "source": [
    "full_train = featurize(train, meta_train, aggs, fcp)"
   ]
  },
  {
   "cell_type": "code",
   "execution_count": null,
   "metadata": {
    "ExecuteTime": {
     "end_time": "2018-11-28T13:06:07.935463Z",
     "start_time": "2018-11-28T13:05:14.583Z"
    }
   },
   "outputs": [],
   "source": [
    "(meta_train.distmod == 0).any( mm   )zz"
   ]
  },
  {
   "cell_type": "code",
   "execution_count": 464,
   "metadata": {
    "ExecuteTime": {
     "end_time": "2018-11-28T13:02:51.726568Z",
     "start_time": "2018-11-28T13:02:51.676335Z"
    }
   },
   "outputs": [],
   "source": [
    "#full_train2.distmod"
   ]
  },
  {
   "cell_type": "code",
   "execution_count": 466,
   "metadata": {
    "ExecuteTime": {
     "end_time": "2018-11-28T13:02:59.053817Z",
     "start_time": "2018-11-28T13:02:58.997979Z"
    }
   },
   "outputs": [],
   "source": [
    "#full_train.distmod"
   ]
  },
  {
   "cell_type": "code",
   "execution_count": null,
   "metadata": {
    "ExecuteTime": {
     "end_time": "2018-11-28T13:06:07.937751Z",
     "start_time": "2018-11-28T13:05:28.378Z"
    }
   },
   "outputs": [],
   "source": [
    "%%script False\n",
    "comp = pd.DataFrame(dict(new=full_train2.mean(), old=full_train.mean()))\n",
    "comp['delta'] = comp['new'] - comp['old']"
   ]
  },
  {
   "cell_type": "code",
   "execution_count": 459,
   "metadata": {
    "ExecuteTime": {
     "end_time": "2018-11-28T13:01:47.096144Z",
     "start_time": "2018-11-28T13:01:47.036161Z"
    }
   },
   "outputs": [],
   "source": [
    "comp['delta'] = comp['new'] - comp['old']"
   ]
  },
  {
   "cell_type": "code",
   "execution_count": 471,
   "metadata": {
    "ExecuteTime": {
     "end_time": "2018-11-28T13:03:33.192430Z",
     "start_time": "2018-11-28T13:03:33.140188Z"
    }
   },
   "outputs": [],
   "source": [
    "# F1 = '1__kurtosis'\n",
    "# full_train2.loc[\n",
    "#     (full_train2[F1] !=full_train[F1]), [OBJECT_ID, F1]]"
   ]
  },
  {
   "cell_type": "code",
   "execution_count": 305,
   "metadata": {
    "ExecuteTime": {
     "end_time": "2018-11-28T08:12:37.738075Z",
     "start_time": "2018-11-28T08:12:36.841138Z"
    }
   },
   "outputs": [],
   "source": [
    "agg = train.groupby('mjd')[['flux_err', 'flux']].agg([np.median]).pipe"
   ]
  },
  {
   "cell_type": "code",
   "execution_count": 476,
   "metadata": {
    "ExecuteTime": {
     "end_time": "2018-11-28T13:04:26.032259Z",
     "start_time": "2018-11-28T13:04:25.979727Z"
    }
   },
   "outputs": [],
   "source": [
    "full_train = full_train2"
   ]
  },
  {
   "cell_type": "code",
   "execution_count": null,
   "metadata": {
    "ExecuteTime": {
     "end_time": "2018-11-28T16:34:31.972224Z",
     "start_time": "2018-11-28T16:34:31.830620Z"
    }
   },
   "outputs": [],
   "source": [
    "if 'object_id' in full_train.columns:\n",
    "    oof_df = full_train[['object_id']]\n",
    "    #del full_train['object_id'] \n",
    "    #del full_train['distmod'] \n",
    "    del full_train['hostgal_specz']\n",
    "    del full_train['ra'], full_train['decl'], full_train['gal_l'], full_train['gal_b']\n",
    "    del full_train['ddf']\n",
    "\n",
    "train_mean = full_train.mean(axis=0)\n",
    "#train_mean.to_hdf('train_data.hdf5', 'data')\n",
    "pd.set_option('display.max_rows', 500)\n",
    "#print(full_train.describe().T)\n",
    "#import pdb; pdb.set_trace()\n",
    "#full_train.fillna(0, inplace=True)"
   ]
  },
  {
   "cell_type": "code",
   "execution_count": 565,
   "metadata": {
    "ExecuteTime": {
     "end_time": "2018-11-28T16:34:12.059236Z",
     "start_time": "2018-11-28T16:34:12.003619Z"
    }
   },
   "outputs": [
    {
     "data": {
      "text/plain": [
       "Index(['object_id', 'target'], dtype='object')"
      ]
     },
     "execution_count": 565,
     "metadata": {},
     "output_type": "execute_result"
    }
   ],
   "source": [
    "full_train.columns.difference(fnames)"
   ]
  },
  {
   "cell_type": "code",
   "execution_count": 569,
   "metadata": {
    "ExecuteTime": {
     "end_time": "2018-11-28T16:36:40.955184Z",
     "start_time": "2018-11-28T16:36:40.890461Z"
    }
   },
   "outputs": [],
   "source": [
    "#fnames.difference(full_train.columns)"
   ]
  },
  {
   "cell_type": "code",
   "execution_count": null,
   "metadata": {},
   "outputs": [],
   "source": []
  },
  {
   "cell_type": "code",
   "execution_count": 558,
   "metadata": {
    "ExecuteTime": {
     "end_time": "2018-11-28T16:33:07.295578Z",
     "start_time": "2018-11-28T16:33:07.237959Z"
    }
   },
   "outputs": [
    {
     "data": {
      "text/plain": [
       "mean_gain    129.0\n",
       "std_gain      32.0\n",
       "len_gain       3.0\n",
       "Name: ra, dtype: float64"
      ]
     },
     "execution_count": 558,
     "metadata": {},
     "output_type": "execute_result"
    }
   ],
   "source": [
    "fi.loc[['ra'"
   ]
  },
  {
   "cell_type": "code",
   "execution_count": 563,
   "metadata": {
    "ExecuteTime": {
     "end_time": "2018-11-28T16:33:40.676056Z",
     "start_time": "2018-11-28T16:33:40.625237Z"
    }
   },
   "outputs": [],
   "source": [
    "#meta_train.ra"
   ]
  },
  {
   "cell_type": "code",
   "execution_count": 470,
   "metadata": {
    "ExecuteTime": {
     "end_time": "2018-11-28T13:03:26.676758Z",
     "start_time": "2018-11-28T13:03:26.625342Z"
    }
   },
   "outputs": [],
   "source": [
    "#comp.sort_values('delta', ascending=False).head()"
   ]
  },
  {
   "cell_type": "code",
   "execution_count": 478,
   "metadata": {
    "ExecuteTime": {
     "end_time": "2018-11-28T13:04:31.073647Z",
     "start_time": "2018-11-28T13:04:31.006105Z"
    }
   },
   "outputs": [],
   "source": [
    "full_train.to_msgpack('full_train2.mp')"
   ]
  },
  {
   "cell_type": "code",
   "execution_count": 480,
   "metadata": {
    "ExecuteTime": {
     "end_time": "2018-11-28T13:04:39.448585Z",
     "start_time": "2018-11-28T13:04:39.381748Z"
    }
   },
   "outputs": [],
   "source": [
    "full_train['score'] = full_train.count(1)"
   ]
  },
  {
   "cell_type": "code",
   "execution_count": 490,
   "metadata": {
    "ExecuteTime": {
     "end_time": "2018-11-28T16:03:34.923516Z",
     "start_time": "2018-11-28T16:03:34.582866Z"
    }
   },
   "outputs": [
    {
     "data": {
      "text/plain": [
       "63"
      ]
     },
     "execution_count": 490,
     "metadata": {},
     "output_type": "execute_result"
    }
   ],
   "source": [
    "len(ComprehensiveFCParameters())"
   ]
  },
  {
   "cell_type": "code",
   "execution_count": null,
   "metadata": {},
   "outputs": [],
   "source": []
  },
  {
   "cell_type": "markdown",
   "metadata": {},
   "source": [
    "### Try to make more features"
   ]
  },
  {
   "cell_type": "code",
   "execution_count": 273,
   "metadata": {
    "ExecuteTime": {
     "end_time": "2018-11-28T08:06:37.367208Z",
     "start_time": "2018-11-28T08:06:37.315896Z"
    }
   },
   "outputs": [],
   "source": [
    "import tsfresh\n",
    "from plasticc.constants import *\n",
    "#from plast"
   ]
  },
  {
   "cell_type": "code",
   "execution_count": 277,
   "metadata": {
    "ExecuteTime": {
     "end_time": "2018-11-28T08:07:07.159563Z",
     "start_time": "2018-11-28T08:07:07.109889Z"
    }
   },
   "outputs": [],
   "source": [
    "#full_train.columns"
   ]
  },
  {
   "cell_type": "code",
   "execution_count": 486,
   "metadata": {
    "ExecuteTime": {
     "end_time": "2018-11-28T13:29:43.938910Z",
     "start_time": "2018-11-28T13:29:43.622890Z"
    }
   },
   "outputs": [],
   "source": [
    "full_train['object_id'] = oof_df.object_id"
   ]
  },
  {
   "cell_type": "code",
   "execution_count": 332,
   "metadata": {
    "ExecuteTime": {
     "end_time": "2018-11-28T08:20:48.634329Z",
     "start_time": "2018-11-28T08:20:48.554600Z"
    }
   },
   "outputs": [],
   "source": [
    "TSKW  =dict(column_id=OBJECT_ID, column_sort='mjd')"
   ]
  },
  {
   "cell_type": "code",
   "execution_count": null,
   "metadata": {
    "ExecuteTime": {
     "end_time": "2018-11-28T16:11:20.697389Z",
     "start_time": "2018-11-28T16:11:20.583692Z"
    },
    "scrolled": false
   },
   "outputs": [],
   "source": [
    "comprehensive_params"
   ]
  },
  {
   "cell_type": "code",
   "execution_count": 519,
   "metadata": {
    "ExecuteTime": {
     "end_time": "2018-11-28T16:10:44.740003Z",
     "start_time": "2018-11-28T16:10:44.602016Z"
    }
   },
   "outputs": [
    {
     "data": {
      "text/html": [
       "<div>\n",
       "<style scoped>\n",
       "    .dataframe tbody tr th:only-of-type {\n",
       "        vertical-align: middle;\n",
       "    }\n",
       "\n",
       "    .dataframe tbody tr th {\n",
       "        vertical-align: top;\n",
       "    }\n",
       "\n",
       "    .dataframe thead th {\n",
       "        text-align: right;\n",
       "    }\n",
       "</style>\n",
       "<table border=\"1\" class=\"dataframe\">\n",
       "  <thead>\n",
       "    <tr style=\"text-align: right;\">\n",
       "      <th></th>\n",
       "      <th>feature</th>\n",
       "      <th>gain</th>\n",
       "      <th>fold</th>\n",
       "      <th>mean_gain</th>\n",
       "    </tr>\n",
       "  </thead>\n",
       "  <tbody>\n",
       "    <tr>\n",
       "      <th>0</th>\n",
       "      <td>0__fft_coefficient__coeff_0__attr_\"abs\"</td>\n",
       "      <td>479</td>\n",
       "      <td>1</td>\n",
       "      <td>524.333333</td>\n",
       "    </tr>\n",
       "    <tr>\n",
       "      <th>1</th>\n",
       "      <td>0__fft_coefficient__coeff_1__attr_\"abs\"</td>\n",
       "      <td>484</td>\n",
       "      <td>1</td>\n",
       "      <td>507.333333</td>\n",
       "    </tr>\n",
       "    <tr>\n",
       "      <th>2</th>\n",
       "      <td>0__kurtosis</td>\n",
       "      <td>225</td>\n",
       "      <td>1</td>\n",
       "      <td>234.000000</td>\n",
       "    </tr>\n",
       "    <tr>\n",
       "      <th>3</th>\n",
       "      <td>0__skewness</td>\n",
       "      <td>374</td>\n",
       "      <td>1</td>\n",
       "      <td>403.333333</td>\n",
       "    </tr>\n",
       "    <tr>\n",
       "      <th>4</th>\n",
       "      <td>1__fft_coefficient__coeff_0__attr_\"abs\"</td>\n",
       "      <td>265</td>\n",
       "      <td>1</td>\n",
       "      <td>313.666667</td>\n",
       "    </tr>\n",
       "    <tr>\n",
       "      <th>5</th>\n",
       "      <td>1__fft_coefficient__coeff_1__attr_\"abs\"</td>\n",
       "      <td>507</td>\n",
       "      <td>1</td>\n",
       "      <td>525.000000</td>\n",
       "    </tr>\n",
       "    <tr>\n",
       "      <th>6</th>\n",
       "      <td>1__kurtosis</td>\n",
       "      <td>255</td>\n",
       "      <td>1</td>\n",
       "      <td>299.666667</td>\n",
       "    </tr>\n",
       "    <tr>\n",
       "      <th>7</th>\n",
       "      <td>1__skewness</td>\n",
       "      <td>378</td>\n",
       "      <td>1</td>\n",
       "      <td>425.666667</td>\n",
       "    </tr>\n",
       "    <tr>\n",
       "      <th>8</th>\n",
       "      <td>2__fft_coefficient__coeff_0__attr_\"abs\"</td>\n",
       "      <td>261</td>\n",
       "      <td>1</td>\n",
       "      <td>301.333333</td>\n",
       "    </tr>\n",
       "    <tr>\n",
       "      <th>9</th>\n",
       "      <td>2__fft_coefficient__coeff_1__attr_\"abs\"</td>\n",
       "      <td>267</td>\n",
       "      <td>1</td>\n",
       "      <td>331.000000</td>\n",
       "    </tr>\n",
       "    <tr>\n",
       "      <th>10</th>\n",
       "      <td>2__kurtosis</td>\n",
       "      <td>254</td>\n",
       "      <td>1</td>\n",
       "      <td>353.333333</td>\n",
       "    </tr>\n",
       "    <tr>\n",
       "      <th>11</th>\n",
       "      <td>2__skewness</td>\n",
       "      <td>398</td>\n",
       "      <td>1</td>\n",
       "      <td>460.666667</td>\n",
       "    </tr>\n",
       "    <tr>\n",
       "      <th>12</th>\n",
       "      <td>3__fft_coefficient__coeff_0__attr_\"abs\"</td>\n",
       "      <td>216</td>\n",
       "      <td>1</td>\n",
       "      <td>229.666667</td>\n",
       "    </tr>\n",
       "    <tr>\n",
       "      <th>13</th>\n",
       "      <td>3__fft_coefficient__coeff_1__attr_\"abs\"</td>\n",
       "      <td>178</td>\n",
       "      <td>1</td>\n",
       "      <td>191.333333</td>\n",
       "    </tr>\n",
       "    <tr>\n",
       "      <th>14</th>\n",
       "      <td>3__kurtosis</td>\n",
       "      <td>326</td>\n",
       "      <td>1</td>\n",
       "      <td>434.000000</td>\n",
       "    </tr>\n",
       "    <tr>\n",
       "      <th>15</th>\n",
       "      <td>3__skewness</td>\n",
       "      <td>343</td>\n",
       "      <td>1</td>\n",
       "      <td>379.666667</td>\n",
       "    </tr>\n",
       "    <tr>\n",
       "      <th>16</th>\n",
       "      <td>4__fft_coefficient__coeff_0__attr_\"abs\"</td>\n",
       "      <td>232</td>\n",
       "      <td>1</td>\n",
       "      <td>283.333333</td>\n",
       "    </tr>\n",
       "    <tr>\n",
       "      <th>17</th>\n",
       "      <td>4__fft_coefficient__coeff_1__attr_\"abs\"</td>\n",
       "      <td>250</td>\n",
       "      <td>1</td>\n",
       "      <td>264.666667</td>\n",
       "    </tr>\n",
       "    <tr>\n",
       "      <th>18</th>\n",
       "      <td>4__kurtosis</td>\n",
       "      <td>313</td>\n",
       "      <td>1</td>\n",
       "      <td>328.000000</td>\n",
       "    </tr>\n",
       "    <tr>\n",
       "      <th>19</th>\n",
       "      <td>4__skewness</td>\n",
       "      <td>282</td>\n",
       "      <td>1</td>\n",
       "      <td>319.333333</td>\n",
       "    </tr>\n",
       "    <tr>\n",
       "      <th>20</th>\n",
       "      <td>5__fft_coefficient__coeff_0__attr_\"abs\"</td>\n",
       "      <td>474</td>\n",
       "      <td>1</td>\n",
       "      <td>468.333333</td>\n",
       "    </tr>\n",
       "    <tr>\n",
       "      <th>21</th>\n",
       "      <td>5__fft_coefficient__coeff_1__attr_\"abs\"</td>\n",
       "      <td>415</td>\n",
       "      <td>1</td>\n",
       "      <td>523.333333</td>\n",
       "    </tr>\n",
       "    <tr>\n",
       "      <th>22</th>\n",
       "      <td>5__kurtosis</td>\n",
       "      <td>277</td>\n",
       "      <td>1</td>\n",
       "      <td>342.000000</td>\n",
       "    </tr>\n",
       "    <tr>\n",
       "      <th>23</th>\n",
       "      <td>5__skewness</td>\n",
       "      <td>277</td>\n",
       "      <td>1</td>\n",
       "      <td>308.000000</td>\n",
       "    </tr>\n",
       "    <tr>\n",
       "      <th>24</th>\n",
       "      <td>detected_mean</td>\n",
       "      <td>339</td>\n",
       "      <td>1</td>\n",
       "      <td>361.333333</td>\n",
       "    </tr>\n",
       "    <tr>\n",
       "      <th>25</th>\n",
       "      <td>distmod</td>\n",
       "      <td>1396</td>\n",
       "      <td>1</td>\n",
       "      <td>1446.333333</td>\n",
       "    </tr>\n",
       "    <tr>\n",
       "      <th>26</th>\n",
       "      <td>efficient_flux__agg_linear_trend__f_agg_\"max\"_...</td>\n",
       "      <td>221</td>\n",
       "      <td>1</td>\n",
       "      <td>228.333333</td>\n",
       "    </tr>\n",
       "    <tr>\n",
       "      <th>27</th>\n",
       "      <td>efficient_flux__agg_linear_trend__f_agg_\"mean\"...</td>\n",
       "      <td>135</td>\n",
       "      <td>1</td>\n",
       "      <td>158.666667</td>\n",
       "    </tr>\n",
       "    <tr>\n",
       "      <th>28</th>\n",
       "      <td>efficient_flux__agg_linear_trend__f_agg_\"mean\"...</td>\n",
       "      <td>159</td>\n",
       "      <td>1</td>\n",
       "      <td>191.000000</td>\n",
       "    </tr>\n",
       "    <tr>\n",
       "      <th>29</th>\n",
       "      <td>efficient_flux__agg_linear_trend__f_agg_\"min\"_...</td>\n",
       "      <td>107</td>\n",
       "      <td>1</td>\n",
       "      <td>159.333333</td>\n",
       "    </tr>\n",
       "    <tr>\n",
       "      <th>30</th>\n",
       "      <td>efficient_flux__agg_linear_trend__f_agg_\"min\"_...</td>\n",
       "      <td>187</td>\n",
       "      <td>1</td>\n",
       "      <td>202.333333</td>\n",
       "    </tr>\n",
       "    <tr>\n",
       "      <th>31</th>\n",
       "      <td>efficient_flux__agg_linear_trend__f_agg_\"min\"_...</td>\n",
       "      <td>126</td>\n",
       "      <td>1</td>\n",
       "      <td>166.333333</td>\n",
       "    </tr>\n",
       "    <tr>\n",
       "      <th>32</th>\n",
       "      <td>efficient_flux__agg_linear_trend__f_agg_\"min\"_...</td>\n",
       "      <td>107</td>\n",
       "      <td>1</td>\n",
       "      <td>156.666667</td>\n",
       "    </tr>\n",
       "    <tr>\n",
       "      <th>33</th>\n",
       "      <td>efficient_flux__agg_linear_trend__f_agg_\"min\"_...</td>\n",
       "      <td>111</td>\n",
       "      <td>1</td>\n",
       "      <td>154.666667</td>\n",
       "    </tr>\n",
       "    <tr>\n",
       "      <th>34</th>\n",
       "      <td>efficient_flux__agg_linear_trend__f_agg_\"min\"_...</td>\n",
       "      <td>128</td>\n",
       "      <td>1</td>\n",
       "      <td>156.333333</td>\n",
       "    </tr>\n",
       "    <tr>\n",
       "      <th>35</th>\n",
       "      <td>efficient_flux__agg_linear_trend__f_agg_\"min\"_...</td>\n",
       "      <td>289</td>\n",
       "      <td>1</td>\n",
       "      <td>266.333333</td>\n",
       "    </tr>\n",
       "    <tr>\n",
       "      <th>36</th>\n",
       "      <td>efficient_flux__agg_linear_trend__f_agg_\"var\"_...</td>\n",
       "      <td>139</td>\n",
       "      <td>1</td>\n",
       "      <td>182.333333</td>\n",
       "    </tr>\n",
       "    <tr>\n",
       "      <th>37</th>\n",
       "      <td>efficient_flux__augmented_dickey_fuller__attr_...</td>\n",
       "      <td>292</td>\n",
       "      <td>1</td>\n",
       "      <td>329.666667</td>\n",
       "    </tr>\n",
       "    <tr>\n",
       "      <th>38</th>\n",
       "      <td>efficient_flux__augmented_dickey_fuller__attr_...</td>\n",
       "      <td>234</td>\n",
       "      <td>1</td>\n",
       "      <td>297.000000</td>\n",
       "    </tr>\n",
       "    <tr>\n",
       "      <th>39</th>\n",
       "      <td>efficient_flux__binned_entropy__max_bins_10</td>\n",
       "      <td>470</td>\n",
       "      <td>1</td>\n",
       "      <td>491.666667</td>\n",
       "    </tr>\n",
       "    <tr>\n",
       "      <th>40</th>\n",
       "      <td>efficient_flux__count_below_mean</td>\n",
       "      <td>158</td>\n",
       "      <td>1</td>\n",
       "      <td>169.666667</td>\n",
       "    </tr>\n",
       "    <tr>\n",
       "      <th>41</th>\n",
       "      <td>efficient_flux__energy_ratio_by_chunks__num_se...</td>\n",
       "      <td>260</td>\n",
       "      <td>1</td>\n",
       "      <td>224.666667</td>\n",
       "    </tr>\n",
       "    <tr>\n",
       "      <th>42</th>\n",
       "      <td>efficient_flux__energy_ratio_by_chunks__num_se...</td>\n",
       "      <td>161</td>\n",
       "      <td>1</td>\n",
       "      <td>166.000000</td>\n",
       "    </tr>\n",
       "    <tr>\n",
       "      <th>43</th>\n",
       "      <td>efficient_flux__energy_ratio_by_chunks__num_se...</td>\n",
       "      <td>125</td>\n",
       "      <td>1</td>\n",
       "      <td>151.333333</td>\n",
       "    </tr>\n",
       "    <tr>\n",
       "      <th>44</th>\n",
       "      <td>efficient_flux__energy_ratio_by_chunks__num_se...</td>\n",
       "      <td>123</td>\n",
       "      <td>1</td>\n",
       "      <td>154.000000</td>\n",
       "    </tr>\n",
       "    <tr>\n",
       "      <th>45</th>\n",
       "      <td>efficient_flux__energy_ratio_by_chunks__num_se...</td>\n",
       "      <td>99</td>\n",
       "      <td>1</td>\n",
       "      <td>126.333333</td>\n",
       "    </tr>\n",
       "    <tr>\n",
       "      <th>46</th>\n",
       "      <td>efficient_flux__energy_ratio_by_chunks__num_se...</td>\n",
       "      <td>96</td>\n",
       "      <td>1</td>\n",
       "      <td>125.333333</td>\n",
       "    </tr>\n",
       "    <tr>\n",
       "      <th>47</th>\n",
       "      <td>efficient_flux__energy_ratio_by_chunks__num_se...</td>\n",
       "      <td>116</td>\n",
       "      <td>1</td>\n",
       "      <td>147.333333</td>\n",
       "    </tr>\n",
       "    <tr>\n",
       "      <th>48</th>\n",
       "      <td>efficient_flux__energy_ratio_by_chunks__num_se...</td>\n",
       "      <td>65</td>\n",
       "      <td>1</td>\n",
       "      <td>127.000000</td>\n",
       "    </tr>\n",
       "    <tr>\n",
       "      <th>49</th>\n",
       "      <td>efficient_flux__energy_ratio_by_chunks__num_se...</td>\n",
       "      <td>121</td>\n",
       "      <td>1</td>\n",
       "      <td>153.000000</td>\n",
       "    </tr>\n",
       "    <tr>\n",
       "      <th>50</th>\n",
       "      <td>efficient_flux__energy_ratio_by_chunks__num_se...</td>\n",
       "      <td>198</td>\n",
       "      <td>1</td>\n",
       "      <td>210.333333</td>\n",
       "    </tr>\n",
       "    <tr>\n",
       "      <th>51</th>\n",
       "      <td>efficient_flux__partial_autocorrelation__lag_1</td>\n",
       "      <td>401</td>\n",
       "      <td>1</td>\n",
       "      <td>436.000000</td>\n",
       "    </tr>\n",
       "    <tr>\n",
       "      <th>52</th>\n",
       "      <td>efficient_flux__partial_autocorrelation__lag_2</td>\n",
       "      <td>362</td>\n",
       "      <td>1</td>\n",
       "      <td>357.666667</td>\n",
       "    </tr>\n",
       "    <tr>\n",
       "      <th>53</th>\n",
       "      <td>efficient_flux__partial_autocorrelation__lag_3</td>\n",
       "      <td>195</td>\n",
       "      <td>1</td>\n",
       "      <td>210.333333</td>\n",
       "    </tr>\n",
       "    <tr>\n",
       "      <th>54</th>\n",
       "      <td>efficient_flux__partial_autocorrelation__lag_4</td>\n",
       "      <td>300</td>\n",
       "      <td>1</td>\n",
       "      <td>362.000000</td>\n",
       "    </tr>\n",
       "    <tr>\n",
       "      <th>55</th>\n",
       "      <td>efficient_flux__partial_autocorrelation__lag_5</td>\n",
       "      <td>184</td>\n",
       "      <td>1</td>\n",
       "      <td>211.000000</td>\n",
       "    </tr>\n",
       "    <tr>\n",
       "      <th>56</th>\n",
       "      <td>efficient_flux__partial_autocorrelation__lag_6</td>\n",
       "      <td>163</td>\n",
       "      <td>1</td>\n",
       "      <td>186.000000</td>\n",
       "    </tr>\n",
       "    <tr>\n",
       "      <th>57</th>\n",
       "      <td>efficient_flux__partial_autocorrelation__lag_7</td>\n",
       "      <td>169</td>\n",
       "      <td>1</td>\n",
       "      <td>176.000000</td>\n",
       "    </tr>\n",
       "    <tr>\n",
       "      <th>58</th>\n",
       "      <td>efficient_flux__partial_autocorrelation__lag_8</td>\n",
       "      <td>141</td>\n",
       "      <td>1</td>\n",
       "      <td>176.666667</td>\n",
       "    </tr>\n",
       "    <tr>\n",
       "      <th>59</th>\n",
       "      <td>efficient_flux__partial_autocorrelation__lag_9</td>\n",
       "      <td>108</td>\n",
       "      <td>1</td>\n",
       "      <td>171.000000</td>\n",
       "    </tr>\n",
       "    <tr>\n",
       "      <th>60</th>\n",
       "      <td>efficient_flux__sum_values</td>\n",
       "      <td>114</td>\n",
       "      <td>1</td>\n",
       "      <td>129.666667</td>\n",
       "    </tr>\n",
       "    <tr>\n",
       "      <th>61</th>\n",
       "      <td>flux__length</td>\n",
       "      <td>136</td>\n",
       "      <td>1</td>\n",
       "      <td>139.333333</td>\n",
       "    </tr>\n",
       "    <tr>\n",
       "      <th>62</th>\n",
       "      <td>flux__longest_strike_above_mean</td>\n",
       "      <td>324</td>\n",
       "      <td>1</td>\n",
       "      <td>447.000000</td>\n",
       "    </tr>\n",
       "    <tr>\n",
       "      <th>63</th>\n",
       "      <td>flux__longest_strike_below_mean</td>\n",
       "      <td>119</td>\n",
       "      <td>1</td>\n",
       "      <td>117.333333</td>\n",
       "    </tr>\n",
       "    <tr>\n",
       "      <th>64</th>\n",
       "      <td>flux__mean_abs_change</td>\n",
       "      <td>198</td>\n",
       "      <td>1</td>\n",
       "      <td>241.333333</td>\n",
       "    </tr>\n",
       "    <tr>\n",
       "      <th>65</th>\n",
       "      <td>flux__mean_change</td>\n",
       "      <td>149</td>\n",
       "      <td>1</td>\n",
       "      <td>159.666667</td>\n",
       "    </tr>\n",
       "    <tr>\n",
       "      <th>66</th>\n",
       "      <td>flux_by_flux_ratio_sq__longest_strike_above_mean</td>\n",
       "      <td>295</td>\n",
       "      <td>1</td>\n",
       "      <td>298.333333</td>\n",
       "    </tr>\n",
       "    <tr>\n",
       "      <th>67</th>\n",
       "      <td>flux_by_flux_ratio_sq__longest_strike_below_mean</td>\n",
       "      <td>255</td>\n",
       "      <td>1</td>\n",
       "      <td>294.333333</td>\n",
       "    </tr>\n",
       "    <tr>\n",
       "      <th>68</th>\n",
       "      <td>flux_by_flux_ratio_sq_skew</td>\n",
       "      <td>375</td>\n",
       "      <td>1</td>\n",
       "      <td>433.333333</td>\n",
       "    </tr>\n",
       "    <tr>\n",
       "      <th>69</th>\n",
       "      <td>flux_by_flux_ratio_sq_sum</td>\n",
       "      <td>104</td>\n",
       "      <td>1</td>\n",
       "      <td>101.333333</td>\n",
       "    </tr>\n",
       "    <tr>\n",
       "      <th>70</th>\n",
       "      <td>flux_diff1</td>\n",
       "      <td>146</td>\n",
       "      <td>1</td>\n",
       "      <td>181.666667</td>\n",
       "    </tr>\n",
       "    <tr>\n",
       "      <th>71</th>\n",
       "      <td>flux_diff2</td>\n",
       "      <td>438</td>\n",
       "      <td>1</td>\n",
       "      <td>470.666667</td>\n",
       "    </tr>\n",
       "    <tr>\n",
       "      <th>72</th>\n",
       "      <td>flux_diff3</td>\n",
       "      <td>328</td>\n",
       "      <td>1</td>\n",
       "      <td>358.666667</td>\n",
       "    </tr>\n",
       "    <tr>\n",
       "      <th>73</th>\n",
       "      <td>flux_err_max</td>\n",
       "      <td>132</td>\n",
       "      <td>1</td>\n",
       "      <td>142.666667</td>\n",
       "    </tr>\n",
       "    <tr>\n",
       "      <th>74</th>\n",
       "      <td>flux_err_mean</td>\n",
       "      <td>128</td>\n",
       "      <td>1</td>\n",
       "      <td>144.666667</td>\n",
       "    </tr>\n",
       "    <tr>\n",
       "      <th>75</th>\n",
       "      <td>flux_err_median</td>\n",
       "      <td>131</td>\n",
       "      <td>1</td>\n",
       "      <td>156.000000</td>\n",
       "    </tr>\n",
       "    <tr>\n",
       "      <th>76</th>\n",
       "      <td>flux_err_min</td>\n",
       "      <td>342</td>\n",
       "      <td>1</td>\n",
       "      <td>422.666667</td>\n",
       "    </tr>\n",
       "    <tr>\n",
       "      <th>77</th>\n",
       "      <td>flux_err_skew</td>\n",
       "      <td>169</td>\n",
       "      <td>1</td>\n",
       "      <td>154.000000</td>\n",
       "    </tr>\n",
       "    <tr>\n",
       "      <th>78</th>\n",
       "      <td>flux_err_std</td>\n",
       "      <td>160</td>\n",
       "      <td>1</td>\n",
       "      <td>206.666667</td>\n",
       "    </tr>\n",
       "    <tr>\n",
       "      <th>79</th>\n",
       "      <td>flux_max</td>\n",
       "      <td>190</td>\n",
       "      <td>1</td>\n",
       "      <td>233.666667</td>\n",
       "    </tr>\n",
       "    <tr>\n",
       "      <th>80</th>\n",
       "      <td>flux_mean</td>\n",
       "      <td>170</td>\n",
       "      <td>1</td>\n",
       "      <td>157.000000</td>\n",
       "    </tr>\n",
       "    <tr>\n",
       "      <th>81</th>\n",
       "      <td>flux_median</td>\n",
       "      <td>514</td>\n",
       "      <td>1</td>\n",
       "      <td>569.000000</td>\n",
       "    </tr>\n",
       "    <tr>\n",
       "      <th>82</th>\n",
       "      <td>flux_min</td>\n",
       "      <td>189</td>\n",
       "      <td>1</td>\n",
       "      <td>183.666667</td>\n",
       "    </tr>\n",
       "    <tr>\n",
       "      <th>83</th>\n",
       "      <td>flux_ratio_sq_skew</td>\n",
       "      <td>209</td>\n",
       "      <td>1</td>\n",
       "      <td>291.000000</td>\n",
       "    </tr>\n",
       "    <tr>\n",
       "      <th>84</th>\n",
       "      <td>flux_ratio_sq_sum</td>\n",
       "      <td>140</td>\n",
       "      <td>1</td>\n",
       "      <td>145.333333</td>\n",
       "    </tr>\n",
       "    <tr>\n",
       "      <th>85</th>\n",
       "      <td>flux_skew</td>\n",
       "      <td>507</td>\n",
       "      <td>1</td>\n",
       "      <td>515.666667</td>\n",
       "    </tr>\n",
       "    <tr>\n",
       "      <th>86</th>\n",
       "      <td>flux_std</td>\n",
       "      <td>78</td>\n",
       "      <td>1</td>\n",
       "      <td>120.333333</td>\n",
       "    </tr>\n",
       "    <tr>\n",
       "      <th>87</th>\n",
       "      <td>flux_w_mean</td>\n",
       "      <td>242</td>\n",
       "      <td>1</td>\n",
       "      <td>239.666667</td>\n",
       "    </tr>\n",
       "    <tr>\n",
       "      <th>88</th>\n",
       "      <td>haversine</td>\n",
       "      <td>75</td>\n",
       "      <td>1</td>\n",
       "      <td>129.000000</td>\n",
       "    </tr>\n",
       "    <tr>\n",
       "      <th>89</th>\n",
       "      <td>hostgal_photoz</td>\n",
       "      <td>993</td>\n",
       "      <td>1</td>\n",
       "      <td>1007.333333</td>\n",
       "    </tr>\n",
       "    <tr>\n",
       "      <th>90</th>\n",
       "      <td>hostgal_photoz_certain</td>\n",
       "      <td>709</td>\n",
       "      <td>1</td>\n",
       "      <td>762.333333</td>\n",
       "    </tr>\n",
       "    <tr>\n",
       "      <th>91</th>\n",
       "      <td>hostgal_photoz_err</td>\n",
       "      <td>480</td>\n",
       "      <td>1</td>\n",
       "      <td>553.333333</td>\n",
       "    </tr>\n",
       "    <tr>\n",
       "      <th>92</th>\n",
       "      <td>latlon1</td>\n",
       "      <td>85</td>\n",
       "      <td>1</td>\n",
       "      <td>132.666667</td>\n",
       "    </tr>\n",
       "    <tr>\n",
       "      <th>93</th>\n",
       "      <td>mjd__mean_abs_change</td>\n",
       "      <td>409</td>\n",
       "      <td>1</td>\n",
       "      <td>424.333333</td>\n",
       "    </tr>\n",
       "    <tr>\n",
       "      <th>94</th>\n",
       "      <td>mjd__mean_change</td>\n",
       "      <td>228</td>\n",
       "      <td>1</td>\n",
       "      <td>221.666667</td>\n",
       "    </tr>\n",
       "    <tr>\n",
       "      <th>95</th>\n",
       "      <td>mjd_diff_det</td>\n",
       "      <td>1080</td>\n",
       "      <td>1</td>\n",
       "      <td>1194.333333</td>\n",
       "    </tr>\n",
       "    <tr>\n",
       "      <th>96</th>\n",
       "      <td>mwebv</td>\n",
       "      <td>128</td>\n",
       "      <td>1</td>\n",
       "      <td>115.666667</td>\n",
       "    </tr>\n",
       "    <tr>\n",
       "      <th>0</th>\n",
       "      <td>0__fft_coefficient__coeff_0__attr_\"abs\"</td>\n",
       "      <td>514</td>\n",
       "      <td>2</td>\n",
       "      <td>524.333333</td>\n",
       "    </tr>\n",
       "    <tr>\n",
       "      <th>1</th>\n",
       "      <td>0__fft_coefficient__coeff_1__attr_\"abs\"</td>\n",
       "      <td>475</td>\n",
       "      <td>2</td>\n",
       "      <td>507.333333</td>\n",
       "    </tr>\n",
       "    <tr>\n",
       "      <th>2</th>\n",
       "      <td>0__kurtosis</td>\n",
       "      <td>235</td>\n",
       "      <td>2</td>\n",
       "      <td>234.000000</td>\n",
       "    </tr>\n",
       "    <tr>\n",
       "      <th>3</th>\n",
       "      <td>0__skewness</td>\n",
       "      <td>375</td>\n",
       "      <td>2</td>\n",
       "      <td>403.333333</td>\n",
       "    </tr>\n",
       "    <tr>\n",
       "      <th>4</th>\n",
       "      <td>1__fft_coefficient__coeff_0__attr_\"abs\"</td>\n",
       "      <td>309</td>\n",
       "      <td>2</td>\n",
       "      <td>313.666667</td>\n",
       "    </tr>\n",
       "    <tr>\n",
       "      <th>5</th>\n",
       "      <td>1__fft_coefficient__coeff_1__attr_\"abs\"</td>\n",
       "      <td>424</td>\n",
       "      <td>2</td>\n",
       "      <td>525.000000</td>\n",
       "    </tr>\n",
       "    <tr>\n",
       "      <th>6</th>\n",
       "      <td>1__kurtosis</td>\n",
       "      <td>292</td>\n",
       "      <td>2</td>\n",
       "      <td>299.666667</td>\n",
       "    </tr>\n",
       "    <tr>\n",
       "      <th>7</th>\n",
       "      <td>1__skewness</td>\n",
       "      <td>397</td>\n",
       "      <td>2</td>\n",
       "      <td>425.666667</td>\n",
       "    </tr>\n",
       "    <tr>\n",
       "      <th>8</th>\n",
       "      <td>2__fft_coefficient__coeff_0__attr_\"abs\"</td>\n",
       "      <td>239</td>\n",
       "      <td>2</td>\n",
       "      <td>301.333333</td>\n",
       "    </tr>\n",
       "    <tr>\n",
       "      <th>9</th>\n",
       "      <td>2__fft_coefficient__coeff_1__attr_\"abs\"</td>\n",
       "      <td>294</td>\n",
       "      <td>2</td>\n",
       "      <td>331.000000</td>\n",
       "    </tr>\n",
       "    <tr>\n",
       "      <th>10</th>\n",
       "      <td>2__kurtosis</td>\n",
       "      <td>330</td>\n",
       "      <td>2</td>\n",
       "      <td>353.333333</td>\n",
       "    </tr>\n",
       "    <tr>\n",
       "      <th>11</th>\n",
       "      <td>2__skewness</td>\n",
       "      <td>498</td>\n",
       "      <td>2</td>\n",
       "      <td>460.666667</td>\n",
       "    </tr>\n",
       "    <tr>\n",
       "      <th>12</th>\n",
       "      <td>3__fft_coefficient__coeff_0__attr_\"abs\"</td>\n",
       "      <td>218</td>\n",
       "      <td>2</td>\n",
       "      <td>229.666667</td>\n",
       "    </tr>\n",
       "    <tr>\n",
       "      <th>13</th>\n",
       "      <td>3__fft_coefficient__coeff_1__attr_\"abs\"</td>\n",
       "      <td>151</td>\n",
       "      <td>2</td>\n",
       "      <td>191.333333</td>\n",
       "    </tr>\n",
       "    <tr>\n",
       "      <th>14</th>\n",
       "      <td>3__kurtosis</td>\n",
       "      <td>483</td>\n",
       "      <td>2</td>\n",
       "      <td>434.000000</td>\n",
       "    </tr>\n",
       "    <tr>\n",
       "      <th>15</th>\n",
       "      <td>3__skewness</td>\n",
       "      <td>383</td>\n",
       "      <td>2</td>\n",
       "      <td>379.666667</td>\n",
       "    </tr>\n",
       "    <tr>\n",
       "      <th>16</th>\n",
       "      <td>4__fft_coefficient__coeff_0__attr_\"abs\"</td>\n",
       "      <td>347</td>\n",
       "      <td>2</td>\n",
       "      <td>283.333333</td>\n",
       "    </tr>\n",
       "    <tr>\n",
       "      <th>17</th>\n",
       "      <td>4__fft_coefficient__coeff_1__attr_\"abs\"</td>\n",
       "      <td>289</td>\n",
       "      <td>2</td>\n",
       "      <td>264.666667</td>\n",
       "    </tr>\n",
       "    <tr>\n",
       "      <th>18</th>\n",
       "      <td>4__kurtosis</td>\n",
       "      <td>318</td>\n",
       "      <td>2</td>\n",
       "      <td>328.000000</td>\n",
       "    </tr>\n",
       "    <tr>\n",
       "      <th>19</th>\n",
       "      <td>4__skewness</td>\n",
       "      <td>343</td>\n",
       "      <td>2</td>\n",
       "      <td>319.333333</td>\n",
       "    </tr>\n",
       "    <tr>\n",
       "      <th>20</th>\n",
       "      <td>5__fft_coefficient__coeff_0__attr_\"abs\"</td>\n",
       "      <td>452</td>\n",
       "      <td>2</td>\n",
       "      <td>468.333333</td>\n",
       "    </tr>\n",
       "    <tr>\n",
       "      <th>21</th>\n",
       "      <td>5__fft_coefficient__coeff_1__attr_\"abs\"</td>\n",
       "      <td>507</td>\n",
       "      <td>2</td>\n",
       "      <td>523.333333</td>\n",
       "    </tr>\n",
       "    <tr>\n",
       "      <th>22</th>\n",
       "      <td>5__kurtosis</td>\n",
       "      <td>340</td>\n",
       "      <td>2</td>\n",
       "      <td>342.000000</td>\n",
       "    </tr>\n",
       "    <tr>\n",
       "      <th>23</th>\n",
       "      <td>5__skewness</td>\n",
       "      <td>319</td>\n",
       "      <td>2</td>\n",
       "      <td>308.000000</td>\n",
       "    </tr>\n",
       "    <tr>\n",
       "      <th>24</th>\n",
       "      <td>detected_mean</td>\n",
       "      <td>329</td>\n",
       "      <td>2</td>\n",
       "      <td>361.333333</td>\n",
       "    </tr>\n",
       "    <tr>\n",
       "      <th>25</th>\n",
       "      <td>distmod</td>\n",
       "      <td>1489</td>\n",
       "      <td>2</td>\n",
       "      <td>1446.333333</td>\n",
       "    </tr>\n",
       "    <tr>\n",
       "      <th>26</th>\n",
       "      <td>efficient_flux__agg_linear_trend__f_agg_\"max\"_...</td>\n",
       "      <td>235</td>\n",
       "      <td>2</td>\n",
       "      <td>228.333333</td>\n",
       "    </tr>\n",
       "    <tr>\n",
       "      <th>27</th>\n",
       "      <td>efficient_flux__agg_linear_trend__f_agg_\"mean\"...</td>\n",
       "      <td>152</td>\n",
       "      <td>2</td>\n",
       "      <td>158.666667</td>\n",
       "    </tr>\n",
       "    <tr>\n",
       "      <th>28</th>\n",
       "      <td>efficient_flux__agg_linear_trend__f_agg_\"mean\"...</td>\n",
       "      <td>150</td>\n",
       "      <td>2</td>\n",
       "      <td>191.000000</td>\n",
       "    </tr>\n",
       "    <tr>\n",
       "      <th>29</th>\n",
       "      <td>efficient_flux__agg_linear_trend__f_agg_\"min\"_...</td>\n",
       "      <td>153</td>\n",
       "      <td>2</td>\n",
       "      <td>159.333333</td>\n",
       "    </tr>\n",
       "    <tr>\n",
       "      <th>30</th>\n",
       "      <td>efficient_flux__agg_linear_trend__f_agg_\"min\"_...</td>\n",
       "      <td>160</td>\n",
       "      <td>2</td>\n",
       "      <td>202.333333</td>\n",
       "    </tr>\n",
       "    <tr>\n",
       "      <th>31</th>\n",
       "      <td>efficient_flux__agg_linear_trend__f_agg_\"min\"_...</td>\n",
       "      <td>170</td>\n",
       "      <td>2</td>\n",
       "      <td>166.333333</td>\n",
       "    </tr>\n",
       "    <tr>\n",
       "      <th>32</th>\n",
       "      <td>efficient_flux__agg_linear_trend__f_agg_\"min\"_...</td>\n",
       "      <td>149</td>\n",
       "      <td>2</td>\n",
       "      <td>156.666667</td>\n",
       "    </tr>\n",
       "    <tr>\n",
       "      <th>33</th>\n",
       "      <td>efficient_flux__agg_linear_trend__f_agg_\"min\"_...</td>\n",
       "      <td>140</td>\n",
       "      <td>2</td>\n",
       "      <td>154.666667</td>\n",
       "    </tr>\n",
       "    <tr>\n",
       "      <th>34</th>\n",
       "      <td>efficient_flux__agg_linear_trend__f_agg_\"min\"_...</td>\n",
       "      <td>188</td>\n",
       "      <td>2</td>\n",
       "      <td>156.333333</td>\n",
       "    </tr>\n",
       "    <tr>\n",
       "      <th>35</th>\n",
       "      <td>efficient_flux__agg_linear_trend__f_agg_\"min\"_...</td>\n",
       "      <td>209</td>\n",
       "      <td>2</td>\n",
       "      <td>266.333333</td>\n",
       "    </tr>\n",
       "    <tr>\n",
       "      <th>36</th>\n",
       "      <td>efficient_flux__agg_linear_trend__f_agg_\"var\"_...</td>\n",
       "      <td>167</td>\n",
       "      <td>2</td>\n",
       "      <td>182.333333</td>\n",
       "    </tr>\n",
       "    <tr>\n",
       "      <th>37</th>\n",
       "      <td>efficient_flux__augmented_dickey_fuller__attr_...</td>\n",
       "      <td>312</td>\n",
       "      <td>2</td>\n",
       "      <td>329.666667</td>\n",
       "    </tr>\n",
       "    <tr>\n",
       "      <th>38</th>\n",
       "      <td>efficient_flux__augmented_dickey_fuller__attr_...</td>\n",
       "      <td>358</td>\n",
       "      <td>2</td>\n",
       "      <td>297.000000</td>\n",
       "    </tr>\n",
       "    <tr>\n",
       "      <th>39</th>\n",
       "      <td>efficient_flux__binned_entropy__max_bins_10</td>\n",
       "      <td>434</td>\n",
       "      <td>2</td>\n",
       "      <td>491.666667</td>\n",
       "    </tr>\n",
       "    <tr>\n",
       "      <th>40</th>\n",
       "      <td>efficient_flux__count_below_mean</td>\n",
       "      <td>186</td>\n",
       "      <td>2</td>\n",
       "      <td>169.666667</td>\n",
       "    </tr>\n",
       "    <tr>\n",
       "      <th>41</th>\n",
       "      <td>efficient_flux__energy_ratio_by_chunks__num_se...</td>\n",
       "      <td>209</td>\n",
       "      <td>2</td>\n",
       "      <td>224.666667</td>\n",
       "    </tr>\n",
       "    <tr>\n",
       "      <th>42</th>\n",
       "      <td>efficient_flux__energy_ratio_by_chunks__num_se...</td>\n",
       "      <td>162</td>\n",
       "      <td>2</td>\n",
       "      <td>166.000000</td>\n",
       "    </tr>\n",
       "    <tr>\n",
       "      <th>43</th>\n",
       "      <td>efficient_flux__energy_ratio_by_chunks__num_se...</td>\n",
       "      <td>144</td>\n",
       "      <td>2</td>\n",
       "      <td>151.333333</td>\n",
       "    </tr>\n",
       "    <tr>\n",
       "      <th>44</th>\n",
       "      <td>efficient_flux__energy_ratio_by_chunks__num_se...</td>\n",
       "      <td>161</td>\n",
       "      <td>2</td>\n",
       "      <td>154.000000</td>\n",
       "    </tr>\n",
       "    <tr>\n",
       "      <th>45</th>\n",
       "      <td>efficient_flux__energy_ratio_by_chunks__num_se...</td>\n",
       "      <td>102</td>\n",
       "      <td>2</td>\n",
       "      <td>126.333333</td>\n",
       "    </tr>\n",
       "    <tr>\n",
       "      <th>46</th>\n",
       "      <td>efficient_flux__energy_ratio_by_chunks__num_se...</td>\n",
       "      <td>136</td>\n",
       "      <td>2</td>\n",
       "      <td>125.333333</td>\n",
       "    </tr>\n",
       "    <tr>\n",
       "      <th>47</th>\n",
       "      <td>efficient_flux__energy_ratio_by_chunks__num_se...</td>\n",
       "      <td>115</td>\n",
       "      <td>2</td>\n",
       "      <td>147.333333</td>\n",
       "    </tr>\n",
       "    <tr>\n",
       "      <th>48</th>\n",
       "      <td>efficient_flux__energy_ratio_by_chunks__num_se...</td>\n",
       "      <td>175</td>\n",
       "      <td>2</td>\n",
       "      <td>127.000000</td>\n",
       "    </tr>\n",
       "    <tr>\n",
       "      <th>49</th>\n",
       "      <td>efficient_flux__energy_ratio_by_chunks__num_se...</td>\n",
       "      <td>170</td>\n",
       "      <td>2</td>\n",
       "      <td>153.000000</td>\n",
       "    </tr>\n",
       "    <tr>\n",
       "      <th>50</th>\n",
       "      <td>efficient_flux__energy_ratio_by_chunks__num_se...</td>\n",
       "      <td>187</td>\n",
       "      <td>2</td>\n",
       "      <td>210.333333</td>\n",
       "    </tr>\n",
       "    <tr>\n",
       "      <th>51</th>\n",
       "      <td>efficient_flux__partial_autocorrelation__lag_1</td>\n",
       "      <td>464</td>\n",
       "      <td>2</td>\n",
       "      <td>436.000000</td>\n",
       "    </tr>\n",
       "    <tr>\n",
       "      <th>52</th>\n",
       "      <td>efficient_flux__partial_autocorrelation__lag_2</td>\n",
       "      <td>301</td>\n",
       "      <td>2</td>\n",
       "      <td>357.666667</td>\n",
       "    </tr>\n",
       "    <tr>\n",
       "      <th>53</th>\n",
       "      <td>efficient_flux__partial_autocorrelation__lag_3</td>\n",
       "      <td>156</td>\n",
       "      <td>2</td>\n",
       "      <td>210.333333</td>\n",
       "    </tr>\n",
       "    <tr>\n",
       "      <th>54</th>\n",
       "      <td>efficient_flux__partial_autocorrelation__lag_4</td>\n",
       "      <td>424</td>\n",
       "      <td>2</td>\n",
       "      <td>362.000000</td>\n",
       "    </tr>\n",
       "    <tr>\n",
       "      <th>55</th>\n",
       "      <td>efficient_flux__partial_autocorrelation__lag_5</td>\n",
       "      <td>194</td>\n",
       "      <td>2</td>\n",
       "      <td>211.000000</td>\n",
       "    </tr>\n",
       "    <tr>\n",
       "      <th>56</th>\n",
       "      <td>efficient_flux__partial_autocorrelation__lag_6</td>\n",
       "      <td>178</td>\n",
       "      <td>2</td>\n",
       "      <td>186.000000</td>\n",
       "    </tr>\n",
       "    <tr>\n",
       "      <th>57</th>\n",
       "      <td>efficient_flux__partial_autocorrelation__lag_7</td>\n",
       "      <td>191</td>\n",
       "      <td>2</td>\n",
       "      <td>176.000000</td>\n",
       "    </tr>\n",
       "    <tr>\n",
       "      <th>58</th>\n",
       "      <td>efficient_flux__partial_autocorrelation__lag_8</td>\n",
       "      <td>188</td>\n",
       "      <td>2</td>\n",
       "      <td>176.666667</td>\n",
       "    </tr>\n",
       "    <tr>\n",
       "      <th>59</th>\n",
       "      <td>efficient_flux__partial_autocorrelation__lag_9</td>\n",
       "      <td>164</td>\n",
       "      <td>2</td>\n",
       "      <td>171.000000</td>\n",
       "    </tr>\n",
       "    <tr>\n",
       "      <th>60</th>\n",
       "      <td>efficient_flux__sum_values</td>\n",
       "      <td>107</td>\n",
       "      <td>2</td>\n",
       "      <td>129.666667</td>\n",
       "    </tr>\n",
       "    <tr>\n",
       "      <th>61</th>\n",
       "      <td>flux__length</td>\n",
       "      <td>122</td>\n",
       "      <td>2</td>\n",
       "      <td>139.333333</td>\n",
       "    </tr>\n",
       "    <tr>\n",
       "      <th>62</th>\n",
       "      <td>flux__longest_strike_above_mean</td>\n",
       "      <td>428</td>\n",
       "      <td>2</td>\n",
       "      <td>447.000000</td>\n",
       "    </tr>\n",
       "    <tr>\n",
       "      <th>63</th>\n",
       "      <td>flux__longest_strike_below_mean</td>\n",
       "      <td>118</td>\n",
       "      <td>2</td>\n",
       "      <td>117.333333</td>\n",
       "    </tr>\n",
       "    <tr>\n",
       "      <th>64</th>\n",
       "      <td>flux__mean_abs_change</td>\n",
       "      <td>251</td>\n",
       "      <td>2</td>\n",
       "      <td>241.333333</td>\n",
       "    </tr>\n",
       "    <tr>\n",
       "      <th>65</th>\n",
       "      <td>flux__mean_change</td>\n",
       "      <td>116</td>\n",
       "      <td>2</td>\n",
       "      <td>159.666667</td>\n",
       "    </tr>\n",
       "    <tr>\n",
       "      <th>66</th>\n",
       "      <td>flux_by_flux_ratio_sq__longest_strike_above_mean</td>\n",
       "      <td>271</td>\n",
       "      <td>2</td>\n",
       "      <td>298.333333</td>\n",
       "    </tr>\n",
       "    <tr>\n",
       "      <th>67</th>\n",
       "      <td>flux_by_flux_ratio_sq__longest_strike_below_mean</td>\n",
       "      <td>278</td>\n",
       "      <td>2</td>\n",
       "      <td>294.333333</td>\n",
       "    </tr>\n",
       "    <tr>\n",
       "      <th>68</th>\n",
       "      <td>flux_by_flux_ratio_sq_skew</td>\n",
       "      <td>411</td>\n",
       "      <td>2</td>\n",
       "      <td>433.333333</td>\n",
       "    </tr>\n",
       "    <tr>\n",
       "      <th>69</th>\n",
       "      <td>flux_by_flux_ratio_sq_sum</td>\n",
       "      <td>92</td>\n",
       "      <td>2</td>\n",
       "      <td>101.333333</td>\n",
       "    </tr>\n",
       "    <tr>\n",
       "      <th>70</th>\n",
       "      <td>flux_diff1</td>\n",
       "      <td>196</td>\n",
       "      <td>2</td>\n",
       "      <td>181.666667</td>\n",
       "    </tr>\n",
       "    <tr>\n",
       "      <th>71</th>\n",
       "      <td>flux_diff2</td>\n",
       "      <td>453</td>\n",
       "      <td>2</td>\n",
       "      <td>470.666667</td>\n",
       "    </tr>\n",
       "    <tr>\n",
       "      <th>72</th>\n",
       "      <td>flux_diff3</td>\n",
       "      <td>363</td>\n",
       "      <td>2</td>\n",
       "      <td>358.666667</td>\n",
       "    </tr>\n",
       "    <tr>\n",
       "      <th>73</th>\n",
       "      <td>flux_err_max</td>\n",
       "      <td>117</td>\n",
       "      <td>2</td>\n",
       "      <td>142.666667</td>\n",
       "    </tr>\n",
       "    <tr>\n",
       "      <th>74</th>\n",
       "      <td>flux_err_mean</td>\n",
       "      <td>139</td>\n",
       "      <td>2</td>\n",
       "      <td>144.666667</td>\n",
       "    </tr>\n",
       "    <tr>\n",
       "      <th>75</th>\n",
       "      <td>flux_err_median</td>\n",
       "      <td>138</td>\n",
       "      <td>2</td>\n",
       "      <td>156.000000</td>\n",
       "    </tr>\n",
       "    <tr>\n",
       "      <th>76</th>\n",
       "      <td>flux_err_min</td>\n",
       "      <td>430</td>\n",
       "      <td>2</td>\n",
       "      <td>422.666667</td>\n",
       "    </tr>\n",
       "    <tr>\n",
       "      <th>77</th>\n",
       "      <td>flux_err_skew</td>\n",
       "      <td>142</td>\n",
       "      <td>2</td>\n",
       "      <td>154.000000</td>\n",
       "    </tr>\n",
       "    <tr>\n",
       "      <th>78</th>\n",
       "      <td>flux_err_std</td>\n",
       "      <td>182</td>\n",
       "      <td>2</td>\n",
       "      <td>206.666667</td>\n",
       "    </tr>\n",
       "    <tr>\n",
       "      <th>79</th>\n",
       "      <td>flux_max</td>\n",
       "      <td>207</td>\n",
       "      <td>2</td>\n",
       "      <td>233.666667</td>\n",
       "    </tr>\n",
       "    <tr>\n",
       "      <th>80</th>\n",
       "      <td>flux_mean</td>\n",
       "      <td>117</td>\n",
       "      <td>2</td>\n",
       "      <td>157.000000</td>\n",
       "    </tr>\n",
       "    <tr>\n",
       "      <th>81</th>\n",
       "      <td>flux_median</td>\n",
       "      <td>565</td>\n",
       "      <td>2</td>\n",
       "      <td>569.000000</td>\n",
       "    </tr>\n",
       "    <tr>\n",
       "      <th>82</th>\n",
       "      <td>flux_min</td>\n",
       "      <td>218</td>\n",
       "      <td>2</td>\n",
       "      <td>183.666667</td>\n",
       "    </tr>\n",
       "    <tr>\n",
       "      <th>83</th>\n",
       "      <td>flux_ratio_sq_skew</td>\n",
       "      <td>295</td>\n",
       "      <td>2</td>\n",
       "      <td>291.000000</td>\n",
       "    </tr>\n",
       "    <tr>\n",
       "      <th>84</th>\n",
       "      <td>flux_ratio_sq_sum</td>\n",
       "      <td>147</td>\n",
       "      <td>2</td>\n",
       "      <td>145.333333</td>\n",
       "    </tr>\n",
       "    <tr>\n",
       "      <th>85</th>\n",
       "      <td>flux_skew</td>\n",
       "      <td>528</td>\n",
       "      <td>2</td>\n",
       "      <td>515.666667</td>\n",
       "    </tr>\n",
       "    <tr>\n",
       "      <th>86</th>\n",
       "      <td>flux_std</td>\n",
       "      <td>131</td>\n",
       "      <td>2</td>\n",
       "      <td>120.333333</td>\n",
       "    </tr>\n",
       "    <tr>\n",
       "      <th>87</th>\n",
       "      <td>flux_w_mean</td>\n",
       "      <td>172</td>\n",
       "      <td>2</td>\n",
       "      <td>239.666667</td>\n",
       "    </tr>\n",
       "    <tr>\n",
       "      <th>88</th>\n",
       "      <td>haversine</td>\n",
       "      <td>114</td>\n",
       "      <td>2</td>\n",
       "      <td>129.000000</td>\n",
       "    </tr>\n",
       "    <tr>\n",
       "      <th>89</th>\n",
       "      <td>hostgal_photoz</td>\n",
       "      <td>904</td>\n",
       "      <td>2</td>\n",
       "      <td>1007.333333</td>\n",
       "    </tr>\n",
       "    <tr>\n",
       "      <th>90</th>\n",
       "      <td>hostgal_photoz_certain</td>\n",
       "      <td>799</td>\n",
       "      <td>2</td>\n",
       "      <td>762.333333</td>\n",
       "    </tr>\n",
       "    <tr>\n",
       "      <th>91</th>\n",
       "      <td>hostgal_photoz_err</td>\n",
       "      <td>508</td>\n",
       "      <td>2</td>\n",
       "      <td>553.333333</td>\n",
       "    </tr>\n",
       "    <tr>\n",
       "      <th>92</th>\n",
       "      <td>latlon1</td>\n",
       "      <td>140</td>\n",
       "      <td>2</td>\n",
       "      <td>132.666667</td>\n",
       "    </tr>\n",
       "    <tr>\n",
       "      <th>93</th>\n",
       "      <td>mjd__mean_abs_change</td>\n",
       "      <td>434</td>\n",
       "      <td>2</td>\n",
       "      <td>424.333333</td>\n",
       "    </tr>\n",
       "    <tr>\n",
       "      <th>94</th>\n",
       "      <td>mjd__mean_change</td>\n",
       "      <td>229</td>\n",
       "      <td>2</td>\n",
       "      <td>221.666667</td>\n",
       "    </tr>\n",
       "    <tr>\n",
       "      <th>95</th>\n",
       "      <td>mjd_diff_det</td>\n",
       "      <td>1180</td>\n",
       "      <td>2</td>\n",
       "      <td>1194.333333</td>\n",
       "    </tr>\n",
       "    <tr>\n",
       "      <th>96</th>\n",
       "      <td>mwebv</td>\n",
       "      <td>88</td>\n",
       "      <td>2</td>\n",
       "      <td>115.666667</td>\n",
       "    </tr>\n",
       "    <tr>\n",
       "      <th>0</th>\n",
       "      <td>0__fft_coefficient__coeff_0__attr_\"abs\"</td>\n",
       "      <td>580</td>\n",
       "      <td>3</td>\n",
       "      <td>524.333333</td>\n",
       "    </tr>\n",
       "    <tr>\n",
       "      <th>1</th>\n",
       "      <td>0__fft_coefficient__coeff_1__attr_\"abs\"</td>\n",
       "      <td>563</td>\n",
       "      <td>3</td>\n",
       "      <td>507.333333</td>\n",
       "    </tr>\n",
       "    <tr>\n",
       "      <th>2</th>\n",
       "      <td>0__kurtosis</td>\n",
       "      <td>242</td>\n",
       "      <td>3</td>\n",
       "      <td>234.000000</td>\n",
       "    </tr>\n",
       "    <tr>\n",
       "      <th>3</th>\n",
       "      <td>0__skewness</td>\n",
       "      <td>461</td>\n",
       "      <td>3</td>\n",
       "      <td>403.333333</td>\n",
       "    </tr>\n",
       "    <tr>\n",
       "      <th>4</th>\n",
       "      <td>1__fft_coefficient__coeff_0__attr_\"abs\"</td>\n",
       "      <td>367</td>\n",
       "      <td>3</td>\n",
       "      <td>313.666667</td>\n",
       "    </tr>\n",
       "    <tr>\n",
       "      <th>5</th>\n",
       "      <td>1__fft_coefficient__coeff_1__attr_\"abs\"</td>\n",
       "      <td>644</td>\n",
       "      <td>3</td>\n",
       "      <td>525.000000</td>\n",
       "    </tr>\n",
       "    <tr>\n",
       "      <th>6</th>\n",
       "      <td>1__kurtosis</td>\n",
       "      <td>352</td>\n",
       "      <td>3</td>\n",
       "      <td>299.666667</td>\n",
       "    </tr>\n",
       "    <tr>\n",
       "      <th>7</th>\n",
       "      <td>1__skewness</td>\n",
       "      <td>502</td>\n",
       "      <td>3</td>\n",
       "      <td>425.666667</td>\n",
       "    </tr>\n",
       "    <tr>\n",
       "      <th>8</th>\n",
       "      <td>2__fft_coefficient__coeff_0__attr_\"abs\"</td>\n",
       "      <td>404</td>\n",
       "      <td>3</td>\n",
       "      <td>301.333333</td>\n",
       "    </tr>\n",
       "    <tr>\n",
       "      <th>9</th>\n",
       "      <td>2__fft_coefficient__coeff_1__attr_\"abs\"</td>\n",
       "      <td>432</td>\n",
       "      <td>3</td>\n",
       "      <td>331.000000</td>\n",
       "    </tr>\n",
       "    <tr>\n",
       "      <th>10</th>\n",
       "      <td>2__kurtosis</td>\n",
       "      <td>476</td>\n",
       "      <td>3</td>\n",
       "      <td>353.333333</td>\n",
       "    </tr>\n",
       "    <tr>\n",
       "      <th>11</th>\n",
       "      <td>2__skewness</td>\n",
       "      <td>486</td>\n",
       "      <td>3</td>\n",
       "      <td>460.666667</td>\n",
       "    </tr>\n",
       "    <tr>\n",
       "      <th>12</th>\n",
       "      <td>3__fft_coefficient__coeff_0__attr_\"abs\"</td>\n",
       "      <td>255</td>\n",
       "      <td>3</td>\n",
       "      <td>229.666667</td>\n",
       "    </tr>\n",
       "    <tr>\n",
       "      <th>13</th>\n",
       "      <td>3__fft_coefficient__coeff_1__attr_\"abs\"</td>\n",
       "      <td>245</td>\n",
       "      <td>3</td>\n",
       "      <td>191.333333</td>\n",
       "    </tr>\n",
       "    <tr>\n",
       "      <th>14</th>\n",
       "      <td>3__kurtosis</td>\n",
       "      <td>493</td>\n",
       "      <td>3</td>\n",
       "      <td>434.000000</td>\n",
       "    </tr>\n",
       "    <tr>\n",
       "      <th>15</th>\n",
       "      <td>3__skewness</td>\n",
       "      <td>413</td>\n",
       "      <td>3</td>\n",
       "      <td>379.666667</td>\n",
       "    </tr>\n",
       "    <tr>\n",
       "      <th>16</th>\n",
       "      <td>4__fft_coefficient__coeff_0__attr_\"abs\"</td>\n",
       "      <td>271</td>\n",
       "      <td>3</td>\n",
       "      <td>283.333333</td>\n",
       "    </tr>\n",
       "    <tr>\n",
       "      <th>17</th>\n",
       "      <td>4__fft_coefficient__coeff_1__attr_\"abs\"</td>\n",
       "      <td>255</td>\n",
       "      <td>3</td>\n",
       "      <td>264.666667</td>\n",
       "    </tr>\n",
       "    <tr>\n",
       "      <th>18</th>\n",
       "      <td>4__kurtosis</td>\n",
       "      <td>353</td>\n",
       "      <td>3</td>\n",
       "      <td>328.000000</td>\n",
       "    </tr>\n",
       "    <tr>\n",
       "      <th>19</th>\n",
       "      <td>4__skewness</td>\n",
       "      <td>333</td>\n",
       "      <td>3</td>\n",
       "      <td>319.333333</td>\n",
       "    </tr>\n",
       "    <tr>\n",
       "      <th>20</th>\n",
       "      <td>5__fft_coefficient__coeff_0__attr_\"abs\"</td>\n",
       "      <td>479</td>\n",
       "      <td>3</td>\n",
       "      <td>468.333333</td>\n",
       "    </tr>\n",
       "    <tr>\n",
       "      <th>21</th>\n",
       "      <td>5__fft_coefficient__coeff_1__attr_\"abs\"</td>\n",
       "      <td>648</td>\n",
       "      <td>3</td>\n",
       "      <td>523.333333</td>\n",
       "    </tr>\n",
       "    <tr>\n",
       "      <th>22</th>\n",
       "      <td>5__kurtosis</td>\n",
       "      <td>409</td>\n",
       "      <td>3</td>\n",
       "      <td>342.000000</td>\n",
       "    </tr>\n",
       "    <tr>\n",
       "      <th>23</th>\n",
       "      <td>5__skewness</td>\n",
       "      <td>328</td>\n",
       "      <td>3</td>\n",
       "      <td>308.000000</td>\n",
       "    </tr>\n",
       "    <tr>\n",
       "      <th>24</th>\n",
       "      <td>detected_mean</td>\n",
       "      <td>416</td>\n",
       "      <td>3</td>\n",
       "      <td>361.333333</td>\n",
       "    </tr>\n",
       "    <tr>\n",
       "      <th>25</th>\n",
       "      <td>distmod</td>\n",
       "      <td>1454</td>\n",
       "      <td>3</td>\n",
       "      <td>1446.333333</td>\n",
       "    </tr>\n",
       "    <tr>\n",
       "      <th>26</th>\n",
       "      <td>efficient_flux__agg_linear_trend__f_agg_\"max\"_...</td>\n",
       "      <td>229</td>\n",
       "      <td>3</td>\n",
       "      <td>228.333333</td>\n",
       "    </tr>\n",
       "    <tr>\n",
       "      <th>27</th>\n",
       "      <td>efficient_flux__agg_linear_trend__f_agg_\"mean\"...</td>\n",
       "      <td>189</td>\n",
       "      <td>3</td>\n",
       "      <td>158.666667</td>\n",
       "    </tr>\n",
       "    <tr>\n",
       "      <th>28</th>\n",
       "      <td>efficient_flux__agg_linear_trend__f_agg_\"mean\"...</td>\n",
       "      <td>264</td>\n",
       "      <td>3</td>\n",
       "      <td>191.000000</td>\n",
       "    </tr>\n",
       "    <tr>\n",
       "      <th>29</th>\n",
       "      <td>efficient_flux__agg_linear_trend__f_agg_\"min\"_...</td>\n",
       "      <td>218</td>\n",
       "      <td>3</td>\n",
       "      <td>159.333333</td>\n",
       "    </tr>\n",
       "    <tr>\n",
       "      <th>30</th>\n",
       "      <td>efficient_flux__agg_linear_trend__f_agg_\"min\"_...</td>\n",
       "      <td>260</td>\n",
       "      <td>3</td>\n",
       "      <td>202.333333</td>\n",
       "    </tr>\n",
       "    <tr>\n",
       "      <th>31</th>\n",
       "      <td>efficient_flux__agg_linear_trend__f_agg_\"min\"_...</td>\n",
       "      <td>203</td>\n",
       "      <td>3</td>\n",
       "      <td>166.333333</td>\n",
       "    </tr>\n",
       "    <tr>\n",
       "      <th>32</th>\n",
       "      <td>efficient_flux__agg_linear_trend__f_agg_\"min\"_...</td>\n",
       "      <td>214</td>\n",
       "      <td>3</td>\n",
       "      <td>156.666667</td>\n",
       "    </tr>\n",
       "    <tr>\n",
       "      <th>33</th>\n",
       "      <td>efficient_flux__agg_linear_trend__f_agg_\"min\"_...</td>\n",
       "      <td>213</td>\n",
       "      <td>3</td>\n",
       "      <td>154.666667</td>\n",
       "    </tr>\n",
       "    <tr>\n",
       "      <th>34</th>\n",
       "      <td>efficient_flux__agg_linear_trend__f_agg_\"min\"_...</td>\n",
       "      <td>153</td>\n",
       "      <td>3</td>\n",
       "      <td>156.333333</td>\n",
       "    </tr>\n",
       "    <tr>\n",
       "      <th>35</th>\n",
       "      <td>efficient_flux__agg_linear_trend__f_agg_\"min\"_...</td>\n",
       "      <td>301</td>\n",
       "      <td>3</td>\n",
       "      <td>266.333333</td>\n",
       "    </tr>\n",
       "    <tr>\n",
       "      <th>36</th>\n",
       "      <td>efficient_flux__agg_linear_trend__f_agg_\"var\"_...</td>\n",
       "      <td>241</td>\n",
       "      <td>3</td>\n",
       "      <td>182.333333</td>\n",
       "    </tr>\n",
       "    <tr>\n",
       "      <th>37</th>\n",
       "      <td>efficient_flux__augmented_dickey_fuller__attr_...</td>\n",
       "      <td>385</td>\n",
       "      <td>3</td>\n",
       "      <td>329.666667</td>\n",
       "    </tr>\n",
       "    <tr>\n",
       "      <th>38</th>\n",
       "      <td>efficient_flux__augmented_dickey_fuller__attr_...</td>\n",
       "      <td>299</td>\n",
       "      <td>3</td>\n",
       "      <td>297.000000</td>\n",
       "    </tr>\n",
       "    <tr>\n",
       "      <th>39</th>\n",
       "      <td>efficient_flux__binned_entropy__max_bins_10</td>\n",
       "      <td>571</td>\n",
       "      <td>3</td>\n",
       "      <td>491.666667</td>\n",
       "    </tr>\n",
       "    <tr>\n",
       "      <th>40</th>\n",
       "      <td>efficient_flux__count_below_mean</td>\n",
       "      <td>165</td>\n",
       "      <td>3</td>\n",
       "      <td>169.666667</td>\n",
       "    </tr>\n",
       "    <tr>\n",
       "      <th>41</th>\n",
       "      <td>efficient_flux__energy_ratio_by_chunks__num_se...</td>\n",
       "      <td>205</td>\n",
       "      <td>3</td>\n",
       "      <td>224.666667</td>\n",
       "    </tr>\n",
       "    <tr>\n",
       "      <th>42</th>\n",
       "      <td>efficient_flux__energy_ratio_by_chunks__num_se...</td>\n",
       "      <td>175</td>\n",
       "      <td>3</td>\n",
       "      <td>166.000000</td>\n",
       "    </tr>\n",
       "    <tr>\n",
       "      <th>43</th>\n",
       "      <td>efficient_flux__energy_ratio_by_chunks__num_se...</td>\n",
       "      <td>185</td>\n",
       "      <td>3</td>\n",
       "      <td>151.333333</td>\n",
       "    </tr>\n",
       "    <tr>\n",
       "      <th>44</th>\n",
       "      <td>efficient_flux__energy_ratio_by_chunks__num_se...</td>\n",
       "      <td>178</td>\n",
       "      <td>3</td>\n",
       "      <td>154.000000</td>\n",
       "    </tr>\n",
       "    <tr>\n",
       "      <th>45</th>\n",
       "      <td>efficient_flux__energy_ratio_by_chunks__num_se...</td>\n",
       "      <td>178</td>\n",
       "      <td>3</td>\n",
       "      <td>126.333333</td>\n",
       "    </tr>\n",
       "    <tr>\n",
       "      <th>46</th>\n",
       "      <td>efficient_flux__energy_ratio_by_chunks__num_se...</td>\n",
       "      <td>144</td>\n",
       "      <td>3</td>\n",
       "      <td>125.333333</td>\n",
       "    </tr>\n",
       "    <tr>\n",
       "      <th>47</th>\n",
       "      <td>efficient_flux__energy_ratio_by_chunks__num_se...</td>\n",
       "      <td>211</td>\n",
       "      <td>3</td>\n",
       "      <td>147.333333</td>\n",
       "    </tr>\n",
       "    <tr>\n",
       "      <th>48</th>\n",
       "      <td>efficient_flux__energy_ratio_by_chunks__num_se...</td>\n",
       "      <td>141</td>\n",
       "      <td>3</td>\n",
       "      <td>127.000000</td>\n",
       "    </tr>\n",
       "    <tr>\n",
       "      <th>49</th>\n",
       "      <td>efficient_flux__energy_ratio_by_chunks__num_se...</td>\n",
       "      <td>168</td>\n",
       "      <td>3</td>\n",
       "      <td>153.000000</td>\n",
       "    </tr>\n",
       "    <tr>\n",
       "      <th>50</th>\n",
       "      <td>efficient_flux__energy_ratio_by_chunks__num_se...</td>\n",
       "      <td>246</td>\n",
       "      <td>3</td>\n",
       "      <td>210.333333</td>\n",
       "    </tr>\n",
       "    <tr>\n",
       "      <th>51</th>\n",
       "      <td>efficient_flux__partial_autocorrelation__lag_1</td>\n",
       "      <td>443</td>\n",
       "      <td>3</td>\n",
       "      <td>436.000000</td>\n",
       "    </tr>\n",
       "    <tr>\n",
       "      <th>52</th>\n",
       "      <td>efficient_flux__partial_autocorrelation__lag_2</td>\n",
       "      <td>410</td>\n",
       "      <td>3</td>\n",
       "      <td>357.666667</td>\n",
       "    </tr>\n",
       "    <tr>\n",
       "      <th>53</th>\n",
       "      <td>efficient_flux__partial_autocorrelation__lag_3</td>\n",
       "      <td>280</td>\n",
       "      <td>3</td>\n",
       "      <td>210.333333</td>\n",
       "    </tr>\n",
       "    <tr>\n",
       "      <th>54</th>\n",
       "      <td>efficient_flux__partial_autocorrelation__lag_4</td>\n",
       "      <td>362</td>\n",
       "      <td>3</td>\n",
       "      <td>362.000000</td>\n",
       "    </tr>\n",
       "    <tr>\n",
       "      <th>55</th>\n",
       "      <td>efficient_flux__partial_autocorrelation__lag_5</td>\n",
       "      <td>255</td>\n",
       "      <td>3</td>\n",
       "      <td>211.000000</td>\n",
       "    </tr>\n",
       "    <tr>\n",
       "      <th>56</th>\n",
       "      <td>efficient_flux__partial_autocorrelation__lag_6</td>\n",
       "      <td>217</td>\n",
       "      <td>3</td>\n",
       "      <td>186.000000</td>\n",
       "    </tr>\n",
       "    <tr>\n",
       "      <th>57</th>\n",
       "      <td>efficient_flux__partial_autocorrelation__lag_7</td>\n",
       "      <td>168</td>\n",
       "      <td>3</td>\n",
       "      <td>176.000000</td>\n",
       "    </tr>\n",
       "    <tr>\n",
       "      <th>58</th>\n",
       "      <td>efficient_flux__partial_autocorrelation__lag_8</td>\n",
       "      <td>201</td>\n",
       "      <td>3</td>\n",
       "      <td>176.666667</td>\n",
       "    </tr>\n",
       "    <tr>\n",
       "      <th>59</th>\n",
       "      <td>efficient_flux__partial_autocorrelation__lag_9</td>\n",
       "      <td>241</td>\n",
       "      <td>3</td>\n",
       "      <td>171.000000</td>\n",
       "    </tr>\n",
       "    <tr>\n",
       "      <th>60</th>\n",
       "      <td>efficient_flux__sum_values</td>\n",
       "      <td>168</td>\n",
       "      <td>3</td>\n",
       "      <td>129.666667</td>\n",
       "    </tr>\n",
       "    <tr>\n",
       "      <th>61</th>\n",
       "      <td>flux__length</td>\n",
       "      <td>160</td>\n",
       "      <td>3</td>\n",
       "      <td>139.333333</td>\n",
       "    </tr>\n",
       "    <tr>\n",
       "      <th>62</th>\n",
       "      <td>flux__longest_strike_above_mean</td>\n",
       "      <td>589</td>\n",
       "      <td>3</td>\n",
       "      <td>447.000000</td>\n",
       "    </tr>\n",
       "    <tr>\n",
       "      <th>63</th>\n",
       "      <td>flux__longest_strike_below_mean</td>\n",
       "      <td>115</td>\n",
       "      <td>3</td>\n",
       "      <td>117.333333</td>\n",
       "    </tr>\n",
       "    <tr>\n",
       "      <th>64</th>\n",
       "      <td>flux__mean_abs_change</td>\n",
       "      <td>275</td>\n",
       "      <td>3</td>\n",
       "      <td>241.333333</td>\n",
       "    </tr>\n",
       "    <tr>\n",
       "      <th>65</th>\n",
       "      <td>flux__mean_change</td>\n",
       "      <td>214</td>\n",
       "      <td>3</td>\n",
       "      <td>159.666667</td>\n",
       "    </tr>\n",
       "    <tr>\n",
       "      <th>66</th>\n",
       "      <td>flux_by_flux_ratio_sq__longest_strike_above_mean</td>\n",
       "      <td>329</td>\n",
       "      <td>3</td>\n",
       "      <td>298.333333</td>\n",
       "    </tr>\n",
       "    <tr>\n",
       "      <th>67</th>\n",
       "      <td>flux_by_flux_ratio_sq__longest_strike_below_mean</td>\n",
       "      <td>350</td>\n",
       "      <td>3</td>\n",
       "      <td>294.333333</td>\n",
       "    </tr>\n",
       "    <tr>\n",
       "      <th>68</th>\n",
       "      <td>flux_by_flux_ratio_sq_skew</td>\n",
       "      <td>514</td>\n",
       "      <td>3</td>\n",
       "      <td>433.333333</td>\n",
       "    </tr>\n",
       "    <tr>\n",
       "      <th>69</th>\n",
       "      <td>flux_by_flux_ratio_sq_sum</td>\n",
       "      <td>108</td>\n",
       "      <td>3</td>\n",
       "      <td>101.333333</td>\n",
       "    </tr>\n",
       "    <tr>\n",
       "      <th>70</th>\n",
       "      <td>flux_diff1</td>\n",
       "      <td>203</td>\n",
       "      <td>3</td>\n",
       "      <td>181.666667</td>\n",
       "    </tr>\n",
       "    <tr>\n",
       "      <th>71</th>\n",
       "      <td>flux_diff2</td>\n",
       "      <td>521</td>\n",
       "      <td>3</td>\n",
       "      <td>470.666667</td>\n",
       "    </tr>\n",
       "    <tr>\n",
       "      <th>72</th>\n",
       "      <td>flux_diff3</td>\n",
       "      <td>385</td>\n",
       "      <td>3</td>\n",
       "      <td>358.666667</td>\n",
       "    </tr>\n",
       "    <tr>\n",
       "      <th>73</th>\n",
       "      <td>flux_err_max</td>\n",
       "      <td>179</td>\n",
       "      <td>3</td>\n",
       "      <td>142.666667</td>\n",
       "    </tr>\n",
       "    <tr>\n",
       "      <th>74</th>\n",
       "      <td>flux_err_mean</td>\n",
       "      <td>167</td>\n",
       "      <td>3</td>\n",
       "      <td>144.666667</td>\n",
       "    </tr>\n",
       "    <tr>\n",
       "      <th>75</th>\n",
       "      <td>flux_err_median</td>\n",
       "      <td>199</td>\n",
       "      <td>3</td>\n",
       "      <td>156.000000</td>\n",
       "    </tr>\n",
       "    <tr>\n",
       "      <th>76</th>\n",
       "      <td>flux_err_min</td>\n",
       "      <td>496</td>\n",
       "      <td>3</td>\n",
       "      <td>422.666667</td>\n",
       "    </tr>\n",
       "    <tr>\n",
       "      <th>77</th>\n",
       "      <td>flux_err_skew</td>\n",
       "      <td>151</td>\n",
       "      <td>3</td>\n",
       "      <td>154.000000</td>\n",
       "    </tr>\n",
       "    <tr>\n",
       "      <th>78</th>\n",
       "      <td>flux_err_std</td>\n",
       "      <td>278</td>\n",
       "      <td>3</td>\n",
       "      <td>206.666667</td>\n",
       "    </tr>\n",
       "    <tr>\n",
       "      <th>79</th>\n",
       "      <td>flux_max</td>\n",
       "      <td>304</td>\n",
       "      <td>3</td>\n",
       "      <td>233.666667</td>\n",
       "    </tr>\n",
       "    <tr>\n",
       "      <th>80</th>\n",
       "      <td>flux_mean</td>\n",
       "      <td>184</td>\n",
       "      <td>3</td>\n",
       "      <td>157.000000</td>\n",
       "    </tr>\n",
       "    <tr>\n",
       "      <th>81</th>\n",
       "      <td>flux_median</td>\n",
       "      <td>628</td>\n",
       "      <td>3</td>\n",
       "      <td>569.000000</td>\n",
       "    </tr>\n",
       "    <tr>\n",
       "      <th>82</th>\n",
       "      <td>flux_min</td>\n",
       "      <td>144</td>\n",
       "      <td>3</td>\n",
       "      <td>183.666667</td>\n",
       "    </tr>\n",
       "    <tr>\n",
       "      <th>83</th>\n",
       "      <td>flux_ratio_sq_skew</td>\n",
       "      <td>369</td>\n",
       "      <td>3</td>\n",
       "      <td>291.000000</td>\n",
       "    </tr>\n",
       "    <tr>\n",
       "      <th>84</th>\n",
       "      <td>flux_ratio_sq_sum</td>\n",
       "      <td>149</td>\n",
       "      <td>3</td>\n",
       "      <td>145.333333</td>\n",
       "    </tr>\n",
       "    <tr>\n",
       "      <th>85</th>\n",
       "      <td>flux_skew</td>\n",
       "      <td>512</td>\n",
       "      <td>3</td>\n",
       "      <td>515.666667</td>\n",
       "    </tr>\n",
       "    <tr>\n",
       "      <th>86</th>\n",
       "      <td>flux_std</td>\n",
       "      <td>152</td>\n",
       "      <td>3</td>\n",
       "      <td>120.333333</td>\n",
       "    </tr>\n",
       "    <tr>\n",
       "      <th>87</th>\n",
       "      <td>flux_w_mean</td>\n",
       "      <td>305</td>\n",
       "      <td>3</td>\n",
       "      <td>239.666667</td>\n",
       "    </tr>\n",
       "    <tr>\n",
       "      <th>88</th>\n",
       "      <td>haversine</td>\n",
       "      <td>198</td>\n",
       "      <td>3</td>\n",
       "      <td>129.000000</td>\n",
       "    </tr>\n",
       "    <tr>\n",
       "      <th>89</th>\n",
       "      <td>hostgal_photoz</td>\n",
       "      <td>1125</td>\n",
       "      <td>3</td>\n",
       "      <td>1007.333333</td>\n",
       "    </tr>\n",
       "    <tr>\n",
       "      <th>90</th>\n",
       "      <td>hostgal_photoz_certain</td>\n",
       "      <td>779</td>\n",
       "      <td>3</td>\n",
       "      <td>762.333333</td>\n",
       "    </tr>\n",
       "    <tr>\n",
       "      <th>91</th>\n",
       "      <td>hostgal_photoz_err</td>\n",
       "      <td>672</td>\n",
       "      <td>3</td>\n",
       "      <td>553.333333</td>\n",
       "    </tr>\n",
       "    <tr>\n",
       "      <th>92</th>\n",
       "      <td>latlon1</td>\n",
       "      <td>173</td>\n",
       "      <td>3</td>\n",
       "      <td>132.666667</td>\n",
       "    </tr>\n",
       "    <tr>\n",
       "      <th>93</th>\n",
       "      <td>mjd__mean_abs_change</td>\n",
       "      <td>430</td>\n",
       "      <td>3</td>\n",
       "      <td>424.333333</td>\n",
       "    </tr>\n",
       "    <tr>\n",
       "      <th>94</th>\n",
       "      <td>mjd__mean_change</td>\n",
       "      <td>208</td>\n",
       "      <td>3</td>\n",
       "      <td>221.666667</td>\n",
       "    </tr>\n",
       "    <tr>\n",
       "      <th>95</th>\n",
       "      <td>mjd_diff_det</td>\n",
       "      <td>1323</td>\n",
       "      <td>3</td>\n",
       "      <td>1194.333333</td>\n",
       "    </tr>\n",
       "    <tr>\n",
       "      <th>96</th>\n",
       "      <td>mwebv</td>\n",
       "      <td>131</td>\n",
       "      <td>3</td>\n",
       "      <td>115.666667</td>\n",
       "    </tr>\n",
       "  </tbody>\n",
       "</table>\n",
       "</div>"
      ],
      "text/plain": [
       "                                              feature  gain  fold    mean_gain\n",
       "0             0__fft_coefficient__coeff_0__attr_\"abs\"   479     1   524.333333\n",
       "1             0__fft_coefficient__coeff_1__attr_\"abs\"   484     1   507.333333\n",
       "2                                         0__kurtosis   225     1   234.000000\n",
       "3                                         0__skewness   374     1   403.333333\n",
       "4             1__fft_coefficient__coeff_0__attr_\"abs\"   265     1   313.666667\n",
       "5             1__fft_coefficient__coeff_1__attr_\"abs\"   507     1   525.000000\n",
       "6                                         1__kurtosis   255     1   299.666667\n",
       "7                                         1__skewness   378     1   425.666667\n",
       "8             2__fft_coefficient__coeff_0__attr_\"abs\"   261     1   301.333333\n",
       "9             2__fft_coefficient__coeff_1__attr_\"abs\"   267     1   331.000000\n",
       "10                                        2__kurtosis   254     1   353.333333\n",
       "11                                        2__skewness   398     1   460.666667\n",
       "12            3__fft_coefficient__coeff_0__attr_\"abs\"   216     1   229.666667\n",
       "13            3__fft_coefficient__coeff_1__attr_\"abs\"   178     1   191.333333\n",
       "14                                        3__kurtosis   326     1   434.000000\n",
       "15                                        3__skewness   343     1   379.666667\n",
       "16            4__fft_coefficient__coeff_0__attr_\"abs\"   232     1   283.333333\n",
       "17            4__fft_coefficient__coeff_1__attr_\"abs\"   250     1   264.666667\n",
       "18                                        4__kurtosis   313     1   328.000000\n",
       "19                                        4__skewness   282     1   319.333333\n",
       "20            5__fft_coefficient__coeff_0__attr_\"abs\"   474     1   468.333333\n",
       "21            5__fft_coefficient__coeff_1__attr_\"abs\"   415     1   523.333333\n",
       "22                                        5__kurtosis   277     1   342.000000\n",
       "23                                        5__skewness   277     1   308.000000\n",
       "24                                      detected_mean   339     1   361.333333\n",
       "25                                            distmod  1396     1  1446.333333\n",
       "26  efficient_flux__agg_linear_trend__f_agg_\"max\"_...   221     1   228.333333\n",
       "27  efficient_flux__agg_linear_trend__f_agg_\"mean\"...   135     1   158.666667\n",
       "28  efficient_flux__agg_linear_trend__f_agg_\"mean\"...   159     1   191.000000\n",
       "29  efficient_flux__agg_linear_trend__f_agg_\"min\"_...   107     1   159.333333\n",
       "30  efficient_flux__agg_linear_trend__f_agg_\"min\"_...   187     1   202.333333\n",
       "31  efficient_flux__agg_linear_trend__f_agg_\"min\"_...   126     1   166.333333\n",
       "32  efficient_flux__agg_linear_trend__f_agg_\"min\"_...   107     1   156.666667\n",
       "33  efficient_flux__agg_linear_trend__f_agg_\"min\"_...   111     1   154.666667\n",
       "34  efficient_flux__agg_linear_trend__f_agg_\"min\"_...   128     1   156.333333\n",
       "35  efficient_flux__agg_linear_trend__f_agg_\"min\"_...   289     1   266.333333\n",
       "36  efficient_flux__agg_linear_trend__f_agg_\"var\"_...   139     1   182.333333\n",
       "37  efficient_flux__augmented_dickey_fuller__attr_...   292     1   329.666667\n",
       "38  efficient_flux__augmented_dickey_fuller__attr_...   234     1   297.000000\n",
       "39        efficient_flux__binned_entropy__max_bins_10   470     1   491.666667\n",
       "40                   efficient_flux__count_below_mean   158     1   169.666667\n",
       "41  efficient_flux__energy_ratio_by_chunks__num_se...   260     1   224.666667\n",
       "42  efficient_flux__energy_ratio_by_chunks__num_se...   161     1   166.000000\n",
       "43  efficient_flux__energy_ratio_by_chunks__num_se...   125     1   151.333333\n",
       "44  efficient_flux__energy_ratio_by_chunks__num_se...   123     1   154.000000\n",
       "45  efficient_flux__energy_ratio_by_chunks__num_se...    99     1   126.333333\n",
       "46  efficient_flux__energy_ratio_by_chunks__num_se...    96     1   125.333333\n",
       "47  efficient_flux__energy_ratio_by_chunks__num_se...   116     1   147.333333\n",
       "48  efficient_flux__energy_ratio_by_chunks__num_se...    65     1   127.000000\n",
       "49  efficient_flux__energy_ratio_by_chunks__num_se...   121     1   153.000000\n",
       "50  efficient_flux__energy_ratio_by_chunks__num_se...   198     1   210.333333\n",
       "51     efficient_flux__partial_autocorrelation__lag_1   401     1   436.000000\n",
       "52     efficient_flux__partial_autocorrelation__lag_2   362     1   357.666667\n",
       "53     efficient_flux__partial_autocorrelation__lag_3   195     1   210.333333\n",
       "54     efficient_flux__partial_autocorrelation__lag_4   300     1   362.000000\n",
       "55     efficient_flux__partial_autocorrelation__lag_5   184     1   211.000000\n",
       "56     efficient_flux__partial_autocorrelation__lag_6   163     1   186.000000\n",
       "57     efficient_flux__partial_autocorrelation__lag_7   169     1   176.000000\n",
       "58     efficient_flux__partial_autocorrelation__lag_8   141     1   176.666667\n",
       "59     efficient_flux__partial_autocorrelation__lag_9   108     1   171.000000\n",
       "60                         efficient_flux__sum_values   114     1   129.666667\n",
       "61                                       flux__length   136     1   139.333333\n",
       "62                    flux__longest_strike_above_mean   324     1   447.000000\n",
       "63                    flux__longest_strike_below_mean   119     1   117.333333\n",
       "64                              flux__mean_abs_change   198     1   241.333333\n",
       "65                                  flux__mean_change   149     1   159.666667\n",
       "66   flux_by_flux_ratio_sq__longest_strike_above_mean   295     1   298.333333\n",
       "67   flux_by_flux_ratio_sq__longest_strike_below_mean   255     1   294.333333\n",
       "68                         flux_by_flux_ratio_sq_skew   375     1   433.333333\n",
       "69                          flux_by_flux_ratio_sq_sum   104     1   101.333333\n",
       "70                                         flux_diff1   146     1   181.666667\n",
       "71                                         flux_diff2   438     1   470.666667\n",
       "72                                         flux_diff3   328     1   358.666667\n",
       "73                                       flux_err_max   132     1   142.666667\n",
       "74                                      flux_err_mean   128     1   144.666667\n",
       "75                                    flux_err_median   131     1   156.000000\n",
       "76                                       flux_err_min   342     1   422.666667\n",
       "77                                      flux_err_skew   169     1   154.000000\n",
       "78                                       flux_err_std   160     1   206.666667\n",
       "79                                           flux_max   190     1   233.666667\n",
       "80                                          flux_mean   170     1   157.000000\n",
       "81                                        flux_median   514     1   569.000000\n",
       "82                                           flux_min   189     1   183.666667\n",
       "83                                 flux_ratio_sq_skew   209     1   291.000000\n",
       "84                                  flux_ratio_sq_sum   140     1   145.333333\n",
       "85                                          flux_skew   507     1   515.666667\n",
       "86                                           flux_std    78     1   120.333333\n",
       "87                                        flux_w_mean   242     1   239.666667\n",
       "88                                          haversine    75     1   129.000000\n",
       "89                                     hostgal_photoz   993     1  1007.333333\n",
       "90                             hostgal_photoz_certain   709     1   762.333333\n",
       "91                                 hostgal_photoz_err   480     1   553.333333\n",
       "92                                            latlon1    85     1   132.666667\n",
       "93                               mjd__mean_abs_change   409     1   424.333333\n",
       "94                                   mjd__mean_change   228     1   221.666667\n",
       "95                                       mjd_diff_det  1080     1  1194.333333\n",
       "96                                              mwebv   128     1   115.666667\n",
       "0             0__fft_coefficient__coeff_0__attr_\"abs\"   514     2   524.333333\n",
       "1             0__fft_coefficient__coeff_1__attr_\"abs\"   475     2   507.333333\n",
       "2                                         0__kurtosis   235     2   234.000000\n",
       "3                                         0__skewness   375     2   403.333333\n",
       "4             1__fft_coefficient__coeff_0__attr_\"abs\"   309     2   313.666667\n",
       "5             1__fft_coefficient__coeff_1__attr_\"abs\"   424     2   525.000000\n",
       "6                                         1__kurtosis   292     2   299.666667\n",
       "7                                         1__skewness   397     2   425.666667\n",
       "8             2__fft_coefficient__coeff_0__attr_\"abs\"   239     2   301.333333\n",
       "9             2__fft_coefficient__coeff_1__attr_\"abs\"   294     2   331.000000\n",
       "10                                        2__kurtosis   330     2   353.333333\n",
       "11                                        2__skewness   498     2   460.666667\n",
       "12            3__fft_coefficient__coeff_0__attr_\"abs\"   218     2   229.666667\n",
       "13            3__fft_coefficient__coeff_1__attr_\"abs\"   151     2   191.333333\n",
       "14                                        3__kurtosis   483     2   434.000000\n",
       "15                                        3__skewness   383     2   379.666667\n",
       "16            4__fft_coefficient__coeff_0__attr_\"abs\"   347     2   283.333333\n",
       "17            4__fft_coefficient__coeff_1__attr_\"abs\"   289     2   264.666667\n",
       "18                                        4__kurtosis   318     2   328.000000\n",
       "19                                        4__skewness   343     2   319.333333\n",
       "20            5__fft_coefficient__coeff_0__attr_\"abs\"   452     2   468.333333\n",
       "21            5__fft_coefficient__coeff_1__attr_\"abs\"   507     2   523.333333\n",
       "22                                        5__kurtosis   340     2   342.000000\n",
       "23                                        5__skewness   319     2   308.000000\n",
       "24                                      detected_mean   329     2   361.333333\n",
       "25                                            distmod  1489     2  1446.333333\n",
       "26  efficient_flux__agg_linear_trend__f_agg_\"max\"_...   235     2   228.333333\n",
       "27  efficient_flux__agg_linear_trend__f_agg_\"mean\"...   152     2   158.666667\n",
       "28  efficient_flux__agg_linear_trend__f_agg_\"mean\"...   150     2   191.000000\n",
       "29  efficient_flux__agg_linear_trend__f_agg_\"min\"_...   153     2   159.333333\n",
       "30  efficient_flux__agg_linear_trend__f_agg_\"min\"_...   160     2   202.333333\n",
       "31  efficient_flux__agg_linear_trend__f_agg_\"min\"_...   170     2   166.333333\n",
       "32  efficient_flux__agg_linear_trend__f_agg_\"min\"_...   149     2   156.666667\n",
       "33  efficient_flux__agg_linear_trend__f_agg_\"min\"_...   140     2   154.666667\n",
       "34  efficient_flux__agg_linear_trend__f_agg_\"min\"_...   188     2   156.333333\n",
       "35  efficient_flux__agg_linear_trend__f_agg_\"min\"_...   209     2   266.333333\n",
       "36  efficient_flux__agg_linear_trend__f_agg_\"var\"_...   167     2   182.333333\n",
       "37  efficient_flux__augmented_dickey_fuller__attr_...   312     2   329.666667\n",
       "38  efficient_flux__augmented_dickey_fuller__attr_...   358     2   297.000000\n",
       "39        efficient_flux__binned_entropy__max_bins_10   434     2   491.666667\n",
       "40                   efficient_flux__count_below_mean   186     2   169.666667\n",
       "41  efficient_flux__energy_ratio_by_chunks__num_se...   209     2   224.666667\n",
       "42  efficient_flux__energy_ratio_by_chunks__num_se...   162     2   166.000000\n",
       "43  efficient_flux__energy_ratio_by_chunks__num_se...   144     2   151.333333\n",
       "44  efficient_flux__energy_ratio_by_chunks__num_se...   161     2   154.000000\n",
       "45  efficient_flux__energy_ratio_by_chunks__num_se...   102     2   126.333333\n",
       "46  efficient_flux__energy_ratio_by_chunks__num_se...   136     2   125.333333\n",
       "47  efficient_flux__energy_ratio_by_chunks__num_se...   115     2   147.333333\n",
       "48  efficient_flux__energy_ratio_by_chunks__num_se...   175     2   127.000000\n",
       "49  efficient_flux__energy_ratio_by_chunks__num_se...   170     2   153.000000\n",
       "50  efficient_flux__energy_ratio_by_chunks__num_se...   187     2   210.333333\n",
       "51     efficient_flux__partial_autocorrelation__lag_1   464     2   436.000000\n",
       "52     efficient_flux__partial_autocorrelation__lag_2   301     2   357.666667\n",
       "53     efficient_flux__partial_autocorrelation__lag_3   156     2   210.333333\n",
       "54     efficient_flux__partial_autocorrelation__lag_4   424     2   362.000000\n",
       "55     efficient_flux__partial_autocorrelation__lag_5   194     2   211.000000\n",
       "56     efficient_flux__partial_autocorrelation__lag_6   178     2   186.000000\n",
       "57     efficient_flux__partial_autocorrelation__lag_7   191     2   176.000000\n",
       "58     efficient_flux__partial_autocorrelation__lag_8   188     2   176.666667\n",
       "59     efficient_flux__partial_autocorrelation__lag_9   164     2   171.000000\n",
       "60                         efficient_flux__sum_values   107     2   129.666667\n",
       "61                                       flux__length   122     2   139.333333\n",
       "62                    flux__longest_strike_above_mean   428     2   447.000000\n",
       "63                    flux__longest_strike_below_mean   118     2   117.333333\n",
       "64                              flux__mean_abs_change   251     2   241.333333\n",
       "65                                  flux__mean_change   116     2   159.666667\n",
       "66   flux_by_flux_ratio_sq__longest_strike_above_mean   271     2   298.333333\n",
       "67   flux_by_flux_ratio_sq__longest_strike_below_mean   278     2   294.333333\n",
       "68                         flux_by_flux_ratio_sq_skew   411     2   433.333333\n",
       "69                          flux_by_flux_ratio_sq_sum    92     2   101.333333\n",
       "70                                         flux_diff1   196     2   181.666667\n",
       "71                                         flux_diff2   453     2   470.666667\n",
       "72                                         flux_diff3   363     2   358.666667\n",
       "73                                       flux_err_max   117     2   142.666667\n",
       "74                                      flux_err_mean   139     2   144.666667\n",
       "75                                    flux_err_median   138     2   156.000000\n",
       "76                                       flux_err_min   430     2   422.666667\n",
       "77                                      flux_err_skew   142     2   154.000000\n",
       "78                                       flux_err_std   182     2   206.666667\n",
       "79                                           flux_max   207     2   233.666667\n",
       "80                                          flux_mean   117     2   157.000000\n",
       "81                                        flux_median   565     2   569.000000\n",
       "82                                           flux_min   218     2   183.666667\n",
       "83                                 flux_ratio_sq_skew   295     2   291.000000\n",
       "84                                  flux_ratio_sq_sum   147     2   145.333333\n",
       "85                                          flux_skew   528     2   515.666667\n",
       "86                                           flux_std   131     2   120.333333\n",
       "87                                        flux_w_mean   172     2   239.666667\n",
       "88                                          haversine   114     2   129.000000\n",
       "89                                     hostgal_photoz   904     2  1007.333333\n",
       "90                             hostgal_photoz_certain   799     2   762.333333\n",
       "91                                 hostgal_photoz_err   508     2   553.333333\n",
       "92                                            latlon1   140     2   132.666667\n",
       "93                               mjd__mean_abs_change   434     2   424.333333\n",
       "94                                   mjd__mean_change   229     2   221.666667\n",
       "95                                       mjd_diff_det  1180     2  1194.333333\n",
       "96                                              mwebv    88     2   115.666667\n",
       "0             0__fft_coefficient__coeff_0__attr_\"abs\"   580     3   524.333333\n",
       "1             0__fft_coefficient__coeff_1__attr_\"abs\"   563     3   507.333333\n",
       "2                                         0__kurtosis   242     3   234.000000\n",
       "3                                         0__skewness   461     3   403.333333\n",
       "4             1__fft_coefficient__coeff_0__attr_\"abs\"   367     3   313.666667\n",
       "5             1__fft_coefficient__coeff_1__attr_\"abs\"   644     3   525.000000\n",
       "6                                         1__kurtosis   352     3   299.666667\n",
       "7                                         1__skewness   502     3   425.666667\n",
       "8             2__fft_coefficient__coeff_0__attr_\"abs\"   404     3   301.333333\n",
       "9             2__fft_coefficient__coeff_1__attr_\"abs\"   432     3   331.000000\n",
       "10                                        2__kurtosis   476     3   353.333333\n",
       "11                                        2__skewness   486     3   460.666667\n",
       "12            3__fft_coefficient__coeff_0__attr_\"abs\"   255     3   229.666667\n",
       "13            3__fft_coefficient__coeff_1__attr_\"abs\"   245     3   191.333333\n",
       "14                                        3__kurtosis   493     3   434.000000\n",
       "15                                        3__skewness   413     3   379.666667\n",
       "16            4__fft_coefficient__coeff_0__attr_\"abs\"   271     3   283.333333\n",
       "17            4__fft_coefficient__coeff_1__attr_\"abs\"   255     3   264.666667\n",
       "18                                        4__kurtosis   353     3   328.000000\n",
       "19                                        4__skewness   333     3   319.333333\n",
       "20            5__fft_coefficient__coeff_0__attr_\"abs\"   479     3   468.333333\n",
       "21            5__fft_coefficient__coeff_1__attr_\"abs\"   648     3   523.333333\n",
       "22                                        5__kurtosis   409     3   342.000000\n",
       "23                                        5__skewness   328     3   308.000000\n",
       "24                                      detected_mean   416     3   361.333333\n",
       "25                                            distmod  1454     3  1446.333333\n",
       "26  efficient_flux__agg_linear_trend__f_agg_\"max\"_...   229     3   228.333333\n",
       "27  efficient_flux__agg_linear_trend__f_agg_\"mean\"...   189     3   158.666667\n",
       "28  efficient_flux__agg_linear_trend__f_agg_\"mean\"...   264     3   191.000000\n",
       "29  efficient_flux__agg_linear_trend__f_agg_\"min\"_...   218     3   159.333333\n",
       "30  efficient_flux__agg_linear_trend__f_agg_\"min\"_...   260     3   202.333333\n",
       "31  efficient_flux__agg_linear_trend__f_agg_\"min\"_...   203     3   166.333333\n",
       "32  efficient_flux__agg_linear_trend__f_agg_\"min\"_...   214     3   156.666667\n",
       "33  efficient_flux__agg_linear_trend__f_agg_\"min\"_...   213     3   154.666667\n",
       "34  efficient_flux__agg_linear_trend__f_agg_\"min\"_...   153     3   156.333333\n",
       "35  efficient_flux__agg_linear_trend__f_agg_\"min\"_...   301     3   266.333333\n",
       "36  efficient_flux__agg_linear_trend__f_agg_\"var\"_...   241     3   182.333333\n",
       "37  efficient_flux__augmented_dickey_fuller__attr_...   385     3   329.666667\n",
       "38  efficient_flux__augmented_dickey_fuller__attr_...   299     3   297.000000\n",
       "39        efficient_flux__binned_entropy__max_bins_10   571     3   491.666667\n",
       "40                   efficient_flux__count_below_mean   165     3   169.666667\n",
       "41  efficient_flux__energy_ratio_by_chunks__num_se...   205     3   224.666667\n",
       "42  efficient_flux__energy_ratio_by_chunks__num_se...   175     3   166.000000\n",
       "43  efficient_flux__energy_ratio_by_chunks__num_se...   185     3   151.333333\n",
       "44  efficient_flux__energy_ratio_by_chunks__num_se...   178     3   154.000000\n",
       "45  efficient_flux__energy_ratio_by_chunks__num_se...   178     3   126.333333\n",
       "46  efficient_flux__energy_ratio_by_chunks__num_se...   144     3   125.333333\n",
       "47  efficient_flux__energy_ratio_by_chunks__num_se...   211     3   147.333333\n",
       "48  efficient_flux__energy_ratio_by_chunks__num_se...   141     3   127.000000\n",
       "49  efficient_flux__energy_ratio_by_chunks__num_se...   168     3   153.000000\n",
       "50  efficient_flux__energy_ratio_by_chunks__num_se...   246     3   210.333333\n",
       "51     efficient_flux__partial_autocorrelation__lag_1   443     3   436.000000\n",
       "52     efficient_flux__partial_autocorrelation__lag_2   410     3   357.666667\n",
       "53     efficient_flux__partial_autocorrelation__lag_3   280     3   210.333333\n",
       "54     efficient_flux__partial_autocorrelation__lag_4   362     3   362.000000\n",
       "55     efficient_flux__partial_autocorrelation__lag_5   255     3   211.000000\n",
       "56     efficient_flux__partial_autocorrelation__lag_6   217     3   186.000000\n",
       "57     efficient_flux__partial_autocorrelation__lag_7   168     3   176.000000\n",
       "58     efficient_flux__partial_autocorrelation__lag_8   201     3   176.666667\n",
       "59     efficient_flux__partial_autocorrelation__lag_9   241     3   171.000000\n",
       "60                         efficient_flux__sum_values   168     3   129.666667\n",
       "61                                       flux__length   160     3   139.333333\n",
       "62                    flux__longest_strike_above_mean   589     3   447.000000\n",
       "63                    flux__longest_strike_below_mean   115     3   117.333333\n",
       "64                              flux__mean_abs_change   275     3   241.333333\n",
       "65                                  flux__mean_change   214     3   159.666667\n",
       "66   flux_by_flux_ratio_sq__longest_strike_above_mean   329     3   298.333333\n",
       "67   flux_by_flux_ratio_sq__longest_strike_below_mean   350     3   294.333333\n",
       "68                         flux_by_flux_ratio_sq_skew   514     3   433.333333\n",
       "69                          flux_by_flux_ratio_sq_sum   108     3   101.333333\n",
       "70                                         flux_diff1   203     3   181.666667\n",
       "71                                         flux_diff2   521     3   470.666667\n",
       "72                                         flux_diff3   385     3   358.666667\n",
       "73                                       flux_err_max   179     3   142.666667\n",
       "74                                      flux_err_mean   167     3   144.666667\n",
       "75                                    flux_err_median   199     3   156.000000\n",
       "76                                       flux_err_min   496     3   422.666667\n",
       "77                                      flux_err_skew   151     3   154.000000\n",
       "78                                       flux_err_std   278     3   206.666667\n",
       "79                                           flux_max   304     3   233.666667\n",
       "80                                          flux_mean   184     3   157.000000\n",
       "81                                        flux_median   628     3   569.000000\n",
       "82                                           flux_min   144     3   183.666667\n",
       "83                                 flux_ratio_sq_skew   369     3   291.000000\n",
       "84                                  flux_ratio_sq_sum   149     3   145.333333\n",
       "85                                          flux_skew   512     3   515.666667\n",
       "86                                           flux_std   152     3   120.333333\n",
       "87                                        flux_w_mean   305     3   239.666667\n",
       "88                                          haversine   198     3   129.000000\n",
       "89                                     hostgal_photoz  1125     3  1007.333333\n",
       "90                             hostgal_photoz_certain   779     3   762.333333\n",
       "91                                 hostgal_photoz_err   672     3   553.333333\n",
       "92                                            latlon1   173     3   132.666667\n",
       "93                               mjd__mean_abs_change   430     3   424.333333\n",
       "94                                   mjd__mean_change   208     3   221.666667\n",
       "95                                       mjd_diff_det  1323     3  1194.333333\n",
       "96                                              mwebv   131     3   115.666667"
      ]
     },
     "execution_count": 519,
     "metadata": {},
     "output_type": "execute_result"
    }
   ],
   "source": [
    "imp"
   ]
  },
  {
   "cell_type": "code",
   "execution_count": 267,
   "metadata": {
    "ExecuteTime": {
     "end_time": "2018-11-28T08:04:49.555553Z",
     "start_time": "2018-11-28T08:04:49.500815Z"
    }
   },
   "outputs": [],
   "source": [
    "del full_train['score']"
   ]
  },
  {
   "cell_type": "code",
   "execution_count": 356,
   "metadata": {
    "ExecuteTime": {
     "end_time": "2018-11-28T08:33:49.649910Z",
     "start_time": "2018-11-28T08:33:49.444480Z"
    }
   },
   "outputs": [],
   "source": [
    "from tsfresh.feature_extraction import extract_features, MinimalFCParameters, ComprehensiveFCParameters, EfficientFCParameters"
   ]
  },
  {
   "cell_type": "code",
   "execution_count": 355,
   "metadata": {
    "ExecuteTime": {
     "end_time": "2018-11-28T08:32:39.556985Z",
     "start_time": "2018-11-28T08:32:38.521070Z"
    }
   },
   "outputs": [],
   "source": [
    "train  = process_flux(train)"
   ]
  },
  {
   "cell_type": "code",
   "execution_count": 400,
   "metadata": {
    "ExecuteTime": {
     "end_time": "2018-11-28T12:38:48.163995Z",
     "start_time": "2018-11-28T12:38:48.061171Z"
    }
   },
   "outputs": [],
   "source": [
    "minimal_params = MinimalFCParameters()"
   ]
  },
  {
   "cell_type": "code",
   "execution_count": 491,
   "metadata": {
    "ExecuteTime": {
     "end_time": "2018-11-28T16:03:42.567164Z",
     "start_time": "2018-11-28T16:03:42.502156Z"
    }
   },
   "outputs": [
    {
     "data": {
      "text/plain": [
       "(7848, 77)"
      ]
     },
     "execution_count": 491,
     "metadata": {},
     "output_type": "execute_result"
    }
   ],
   "source": [
    "X.shape"
   ]
  },
  {
   "cell_type": "code",
   "execution_count": 417,
   "metadata": {
    "ExecuteTime": {
     "end_time": "2018-11-28T12:42:57.652463Z",
     "start_time": "2018-11-28T12:42:57.601506Z"
    }
   },
   "outputs": [],
   "source": [
    "acor_params = {'partial_autocorrelation': [{'lag': 0},\n",
    "#   {'lag': 1},\n",
    "#   {'lag': 2},\n",
    "#   {'lag': 3},\n",
    "  {'lag': 4},]}"
   ]
  },
  {
   "cell_type": "code",
   "execution_count": 402,
   "metadata": {
    "ExecuteTime": {
     "end_time": "2018-11-28T12:39:02.826011Z",
     "start_time": "2018-11-28T12:39:02.754250Z"
    }
   },
   "outputs": [],
   "source": [
    "just_sum = {'sum_values': None}"
   ]
  },
  {
   "cell_type": "code",
   "execution_count": 416,
   "metadata": {
    "ExecuteTime": {
     "end_time": "2018-11-28T12:42:46.180874Z",
     "start_time": "2018-11-28T12:42:46.129391Z"
    }
   },
   "outputs": [],
   "source": [
    "TSKW  =dict(column_id=OBJECT_ID, profile=True,#column_sort='mjd', \n",
    "                    #column_kind='passband',\n",
    "                                             )"
   ]
  },
  {
   "cell_type": "code",
   "execution_count": null,
   "metadata": {},
   "outputs": [],
   "source": [
    "slc = train.sample(2000)"
   ]
  },
  {
   "cell_type": "code",
   "execution_count": 406,
   "metadata": {
    "ExecuteTime": {
     "end_time": "2018-11-28T12:40:28.782254Z",
     "start_time": "2018-11-28T12:40:27.973214Z"
    }
   },
   "outputs": [],
   "source": [
    "test_oids  = {615, 713, 730}\n",
    "mock_tr = train.loc[get_membership_mask(train.object_id, test_oids)]"
   ]
  },
  {
   "cell_type": "code",
   "execution_count": 500,
   "metadata": {
    "ExecuteTime": {
     "end_time": "2018-11-28T16:05:03.169388Z",
     "start_time": "2018-11-28T16:05:03.106512Z"
    }
   },
   "outputs": [],
   "source": [
    "ep = EfficientFCParameters(); len(ep)\n",
    "comprehensive_params = ComprehensiveFCParameters()"
   ]
  },
  {
   "cell_type": "code",
   "execution_count": 502,
   "metadata": {
    "ExecuteTime": {
     "end_time": "2018-11-28T16:05:20.288988Z",
     "start_time": "2018-11-28T16:05:20.232338Z"
    }
   },
   "outputs": [
    {
     "data": {
      "text/plain": [
       "[{'m': 2, 'r': 0.1},\n",
       " {'m': 2, 'r': 0.3},\n",
       " {'m': 2, 'r': 0.5},\n",
       " {'m': 2, 'r': 0.7},\n",
       " {'m': 2, 'r': 0.9}]"
      ]
     },
     "execution_count": 502,
     "metadata": {},
     "output_type": "execute_result"
    }
   ],
   "source": [
    "comprehensive_params['approximate_entropy']"
   ]
  },
  {
   "cell_type": "code",
   "execution_count": 518,
   "metadata": {
    "ExecuteTime": {
     "end_time": "2018-11-28T16:10:30.328189Z",
     "start_time": "2018-11-28T16:10:30.275386Z"
    }
   },
   "outputs": [],
   "source": [
    "def trylen(x):\n",
    "    return len(x) if x is not None else 1\n",
    "# funcy.walk_values(trylen, comprehensive_params)"
   ]
  },
  {
   "cell_type": "code",
   "execution_count": 510,
   "metadata": {
    "ExecuteTime": {
     "end_time": "2018-11-28T16:07:16.635330Z",
     "start_time": "2018-11-28T16:07:16.578375Z"
    }
   },
   "outputs": [
    {
     "data": {
      "text/plain": [
       "794"
      ]
     },
     "execution_count": 510,
     "metadata": {},
     "output_type": "execute_result"
    }
   ],
   "source": [
    "np.sum(lmap(trylen, list(comprehensive_params.values())))"
   ]
  },
  {
   "cell_type": "code",
   "execution_count": 514,
   "metadata": {
    "ExecuteTime": {
     "end_time": "2018-11-28T16:09:36.879144Z",
     "start_time": "2018-11-28T16:09:36.825956Z"
    }
   },
   "outputs": [],
   "source": [
    "#extract_features()"
   ]
  },
  {
   "cell_type": "code",
   "execution_count": 515,
   "metadata": {
    "ExecuteTime": {
     "end_time": "2018-11-28T16:09:38.360612Z",
     "start_time": "2018-11-28T16:09:38.308434Z"
    }
   },
   "outputs": [],
   "source": [
    "#pd.Series({k: trylen(v) for k,v in ep.items()})"
   ]
  },
  {
   "cell_type": "code",
   "execution_count": 516,
   "metadata": {
    "ExecuteTime": {
     "end_time": "2018-11-28T16:09:42.189265Z",
     "start_time": "2018-11-28T16:09:42.137030Z"
    }
   },
   "outputs": [],
   "source": [
    "#ep"
   ]
  },
  {
   "cell_type": "code",
   "execution_count": 506,
   "metadata": {
    "ExecuteTime": {
     "end_time": "2018-11-28T16:06:32.551517Z",
     "start_time": "2018-11-28T16:06:32.500537Z"
    }
   },
   "outputs": [],
   "source": [
    "#comprehensive_params.values()"
   ]
  },
  {
   "cell_type": "code",
   "execution_count": 517,
   "metadata": {
    "ExecuteTime": {
     "end_time": "2018-11-28T16:09:46.385544Z",
     "start_time": "2018-11-28T16:09:46.330320Z"
    }
   },
   "outputs": [
    {
     "data": {
      "text/plain": [
       "(7848, 77)"
      ]
     },
     "execution_count": 517,
     "metadata": {},
     "output_type": "execute_result"
    }
   ],
   "source": [
    "X.shape"
   ]
  },
  {
   "cell_type": "code",
   "execution_count": 499,
   "metadata": {
    "ExecuteTime": {
     "end_time": "2018-11-28T16:04:41.315170Z",
     "start_time": "2018-11-28T16:04:41.262538Z"
    }
   },
   "outputs": [],
   "source": [
    "#0"
   ]
  },
  {
   "cell_type": "code",
   "execution_count": 366,
   "metadata": {
    "ExecuteTime": {
     "end_time": "2018-11-28T08:41:07.600319Z",
     "start_time": "2018-11-28T08:41:07.519948Z"
    }
   },
   "outputs": [],
   "source": [
    "rand_ep = pd.Series(ep).sample(0).to_dict()"
   ]
  },
  {
   "cell_type": "code",
   "execution_count": null,
   "metadata": {},
   "outputs": [],
   "source": [
    "rand_ep"
   ]
  },
  {
   "cell_type": "code",
   "execution_count": 367,
   "metadata": {
    "ExecuteTime": {
     "end_time": "2018-11-28T08:47:39.943135Z",
     "start_time": "2018-11-28T08:41:15.171343Z"
    },
    "scrolled": true
   },
   "outputs": [
    {
     "name": "stderr",
     "output_type": "stream",
     "text": [
      "\n",
      "\n",
      "\n",
      "\n",
      "Feature Extraction:   0%|          | 0/20 [00:00<?, ?it/s]\u001b[A\u001b[A\u001b[A\u001b[A\n",
      "\n",
      "\n",
      "\n",
      "Feature Extraction:   5%|▌         | 1/20 [01:20<25:32, 80.68s/it]\u001b[A\u001b[A\u001b[A\u001b[A\n",
      "\n",
      "\n",
      "\n",
      "Feature Extraction:  10%|█         | 2/20 [01:20<12:07, 40.40s/it]\u001b[A\u001b[A\u001b[A\u001b[A\n",
      "\n",
      "\n",
      "\n",
      "Feature Extraction:  15%|█▌        | 3/20 [01:20<07:38, 27.00s/it]\u001b[A\u001b[A\u001b[A\u001b[A\n",
      "\n",
      "\n",
      "\n",
      "Feature Extraction:  20%|██        | 4/20 [01:21<05:24, 20.30s/it]\u001b[A\u001b[A\u001b[A\u001b[A\n",
      "\n",
      "\n",
      "\n",
      "Feature Extraction:  25%|██▌       | 5/20 [02:16<06:48, 27.23s/it]\u001b[A\u001b[A\u001b[A\u001b[A\n",
      "\n",
      "\n",
      "\n",
      "Feature Extraction:  30%|███       | 6/20 [02:16<05:18, 22.74s/it]\u001b[A\u001b[A\u001b[A\u001b[A\n",
      "\n",
      "\n",
      "\n",
      "Feature Extraction:  35%|███▌      | 7/20 [02:27<04:33, 21.01s/it]\u001b[A\u001b[A\u001b[A\u001b[A\n",
      "\n",
      "\n",
      "\n",
      "Feature Extraction:  40%|████      | 8/20 [02:51<04:17, 21.42s/it]\u001b[A\u001b[A\u001b[A\u001b[A\n",
      "\n",
      "\n",
      "\n",
      "Feature Extraction:  45%|████▌     | 9/20 [03:12<03:55, 21.40s/it]\u001b[A\u001b[A\u001b[A\u001b[A\n",
      "\n",
      "\n",
      "\n",
      "Feature Extraction:  50%|█████     | 10/20 [03:12<03:12, 19.27s/it]\u001b[A\u001b[A\u001b[A\u001b[A\n",
      "\n",
      "\n",
      "\n",
      "Feature Extraction:  55%|█████▌    | 11/20 [03:25<02:48, 18.68s/it]\u001b[A\u001b[A\u001b[A\u001b[A\n",
      "\n",
      "\n",
      "\n",
      "Feature Extraction:  60%|██████    | 12/20 [04:00<02:40, 20.04s/it]\u001b[A\u001b[A\u001b[A\u001b[A\n",
      "\n",
      "\n",
      "\n",
      "Feature Extraction:  65%|██████▌   | 13/20 [04:29<02:24, 20.71s/it]\u001b[A\u001b[A\u001b[A\u001b[A\n",
      "\n",
      "\n",
      "\n",
      "Feature Extraction:  70%|███████   | 14/20 [04:29<01:55, 19.25s/it]\u001b[A\u001b[A\u001b[A\u001b[A\n",
      "\n",
      "\n",
      "\n",
      "Feature Extraction:  75%|███████▌  | 15/20 [04:42<01:34, 18.86s/it]\u001b[A\u001b[A\u001b[A\u001b[A\n",
      "\n",
      "\n",
      "\n",
      "Feature Extraction:  80%|████████  | 16/20 [05:15<01:18, 19.72s/it]\u001b[A\u001b[A\u001b[A\u001b[A\n",
      "\n",
      "\n",
      "\n",
      "Feature Extraction:  85%|████████▌ | 17/20 [05:33<00:58, 19.63s/it]\u001b[A\u001b[A\u001b[A\u001b[A\n",
      "\n",
      "\n",
      "\n",
      "Feature Extraction:  95%|█████████▌| 19/20 [05:41<00:17, 17.97s/it]\u001b[A\u001b[A\u001b[A\u001b[A\n",
      "\n",
      "\n",
      "\n",
      "Feature Extraction: 100%|██████████| 20/20 [06:01<00:00, 18.06s/it]\u001b[A\u001b[A\u001b[A\u001b[A\n",
      "\n",
      "\n",
      "\n",
      "\u001b[A\u001b[A\u001b[A\u001b[A"
     ]
    }
   ],
   "source": [
    "X = extract_features(train, default_fc_parameters=rand_ep,\n",
    "                    **TSKW)"
   ]
  },
  {
   "cell_type": "code",
   "execution_count": null,
   "metadata": {},
   "outputs": [],
   "source": []
  },
  {
   "cell_type": "code",
   "execution_count": 368,
   "metadata": {
    "ExecuteTime": {
     "end_time": "2018-11-28T11:29:51.388217Z",
     "start_time": "2018-11-28T11:29:50.659301Z"
    }
   },
   "outputs": [
    {
     "data": {
      "text/plain": [
       "(7848, 77)"
      ]
     },
     "execution_count": 368,
     "metadata": {},
     "output_type": "execute_result"
    }
   ],
   "source": [
    "X.shape"
   ]
  },
  {
   "cell_type": "code",
   "execution_count": 378,
   "metadata": {
    "ExecuteTime": {
     "end_time": "2018-11-28T11:31:05.104208Z",
     "start_time": "2018-11-28T11:31:05.042939Z"
    }
   },
   "outputs": [],
   "source": [
    "min_feat = X.rename_axis('object_id').add_prefix('efficient_')"
   ]
  },
  {
   "cell_type": "code",
   "execution_count": 526,
   "metadata": {
    "ExecuteTime": {
     "end_time": "2018-11-28T16:12:39.858220Z",
     "start_time": "2018-11-28T16:12:39.803567Z"
    }
   },
   "outputs": [],
   "source": [
    "#X.head()"
   ]
  },
  {
   "cell_type": "code",
   "execution_count": 527,
   "metadata": {
    "ExecuteTime": {
     "end_time": "2018-11-28T16:12:40.525875Z",
     "start_time": "2018-11-28T16:12:40.379950Z"
    }
   },
   "outputs": [],
   "source": [
    "ft2 = full_train.set_index(oof_df['object_id']).join(min_feat)"
   ]
  },
  {
   "cell_type": "code",
   "execution_count": 533,
   "metadata": {
    "ExecuteTime": {
     "end_time": "2018-11-28T16:13:07.402486Z",
     "start_time": "2018-11-28T16:13:07.316484Z"
    }
   },
   "outputs": [],
   "source": [
    "ft2['score'] = ft2.count(1)"
   ]
  },
  {
   "cell_type": "code",
   "execution_count": 534,
   "metadata": {
    "ExecuteTime": {
     "end_time": "2018-11-28T16:13:13.315558Z",
     "start_time": "2018-11-28T16:13:13.259268Z"
    }
   },
   "outputs": [
    {
     "data": {
      "text/plain": [
       "148    5515\n",
       "147    2326\n",
       "146       5\n",
       "132       2\n",
       "Name: score, dtype: int64"
      ]
     },
     "execution_count": 534,
     "metadata": {},
     "output_type": "execute_result"
    }
   ],
   "source": [
    "ft2.score.value_counts()"
   ]
  },
  {
   "cell_type": "code",
   "execution_count": 541,
   "metadata": {
    "ExecuteTime": {
     "end_time": "2018-11-28T16:17:51.060559Z",
     "start_time": "2018-11-28T16:17:50.897375Z"
    }
   },
   "outputs": [],
   "source": [
    "fnames = get_num_cols(full_train).drop(['target', OBJECT_ID]).union(useful_efficient_flux_feats)"
   ]
  },
  {
   "cell_type": "code",
   "execution_count": 631,
   "metadata": {
    "ExecuteTime": {
     "end_time": "2018-11-28T17:30:28.853722Z",
     "start_time": "2018-11-28T17:30:28.790881Z"
    }
   },
   "outputs": [
    {
     "name": "stdout",
     "output_type": "stream",
     "text": [
      "63\n"
     ]
    }
   ],
   "source": [
    "ranked_fn = agg_importances(imp_orig).index.drop(['efficient_flux__binned_entropy__max_bins_10'])\n",
    "ranked_fn = pd.Index(ranked_fn.tolist()+['efficient_flux__partial_autocorrelation__lag_1'])\n",
    "print(len(ranked_fn))"
   ]
  },
  {
   "cell_type": "code",
   "execution_count": 633,
   "metadata": {
    "ExecuteTime": {
     "end_time": "2018-11-28T17:30:38.359924Z",
     "start_time": "2018-11-28T17:30:38.307949Z"
    }
   },
   "outputs": [],
   "source": [
    "#ranked_fn"
   ]
  },
  {
   "cell_type": "code",
   "execution_count": 634,
   "metadata": {
    "ExecuteTime": {
     "end_time": "2018-11-28T17:30:40.313873Z",
     "start_time": "2018-11-28T17:30:40.261790Z"
    }
   },
   "outputs": [],
   "source": [
    "#agg_importances(imp_orig).index"
   ]
  },
  {
   "cell_type": "code",
   "execution_count": 618,
   "metadata": {
    "ExecuteTime": {
     "end_time": "2018-11-28T17:13:42.352747Z",
     "start_time": "2018-11-28T17:13:42.299670Z"
    }
   },
   "outputs": [],
   "source": [
    "#ranked_fn"
   ]
  },
  {
   "cell_type": "code",
   "execution_count": 611,
   "metadata": {
    "ExecuteTime": {
     "end_time": "2018-11-28T17:12:48.165360Z",
     "start_time": "2018-11-28T17:12:48.112003Z"
    }
   },
   "outputs": [
    {
     "data": {
      "text/plain": [
       "64"
      ]
     },
     "execution_count": 611,
     "metadata": {},
     "output_type": "execute_result"
    }
   ],
   "source": [
    "len(ranked_fn)"
   ]
  },
  {
   "cell_type": "markdown",
   "metadata": {},
   "source": [
    "### Try to remove features and do better than .6628 (score with all features)"
   ]
  },
  {
   "cell_type": "code",
   "execution_count": null,
   "metadata": {
    "ExecuteTime": {
     "start_time": "2018-11-28T17:31:15.286Z"
    },
    "scrolled": false
   },
   "outputs": [
    {
     "data": {
      "application/vnd.jupyter.widget-view+json": {
       "model_id": "650bf40fd364438ea56d70792d82502c",
       "version_major": 2,
       "version_minor": 0
      },
      "text/plain": [
       "HBox(children=(IntProgress(value=0, max=63), HTML(value='')))"
      ]
     },
     "metadata": {},
     "output_type": "display_data"
    },
    {
     "data": {
      "application/vnd.jupyter.widget-view+json": {
       "model_id": "5e3ea5fb2aa64a5b902e873e537961ad",
       "version_major": 2,
       "version_minor": 0
      },
      "text/plain": [
       "HBox(children=(IntProgress(value=0, max=3), HTML(value='')))"
      ]
     },
     "metadata": {},
     "output_type": "display_data"
    },
    {
     "name": "stdout",
     "output_type": "stream",
     "text": [
      "Training until validation scores don't improve for 50 rounds.\n",
      "Early stopping, best iteration is:\n",
      "[456]\ttraining's multi_logloss: 0.277305\ttraining's wloss: 0.26634\tvalid_1's multi_logloss: 0.747171\tvalid_1's wloss: 0.686246\n",
      "Training until validation scores don't improve for 50 rounds.\n",
      "Early stopping, best iteration is:\n",
      "[560]\ttraining's multi_logloss: 0.243051\ttraining's wloss: 0.234\tvalid_1's multi_logloss: 0.702829\tvalid_1's wloss: 0.657457\n",
      "Training until validation scores don't improve for 50 rounds.\n",
      "Early stopping, best iteration is:\n",
      "[530]\ttraining's multi_logloss: 0.251631\ttraining's wloss: 0.241626\tvalid_1's multi_logloss: 0.701226\tvalid_1's wloss: 0.669139\n",
      "OOFMWLL: 0.6710 n_folds=3, nfeatures=62\n",
      "from removing distmod\n"
     ]
    },
    {
     "data": {
      "application/vnd.jupyter.widget-view+json": {
       "model_id": "6901fffdf27749dbbcf4fd042aeaff75",
       "version_major": 2,
       "version_minor": 0
      },
      "text/plain": [
       "HBox(children=(IntProgress(value=0, max=3), HTML(value='')))"
      ]
     },
     "metadata": {},
     "output_type": "display_data"
    },
    {
     "name": "stdout",
     "output_type": "stream",
     "text": [
      "Training until validation scores don't improve for 50 rounds.\n",
      "Early stopping, best iteration is:\n",
      "[441]\ttraining's multi_logloss: 0.28744\ttraining's wloss: 0.276006\tvalid_1's multi_logloss: 0.756831\tvalid_1's wloss: 0.703675\n",
      "Training until validation scores don't improve for 50 rounds.\n",
      "Early stopping, best iteration is:\n",
      "[452]\ttraining's multi_logloss: 0.286143\ttraining's wloss: 0.276907\tvalid_1's multi_logloss: 0.73877\tvalid_1's wloss: 0.682247\n",
      "Training until validation scores don't improve for 50 rounds.\n",
      "Early stopping, best iteration is:\n",
      "[577]\ttraining's multi_logloss: 0.239719\ttraining's wloss: 0.229862\tvalid_1's multi_logloss: 0.704222\tvalid_1's wloss: 0.676937\n",
      "OOFMWLL: 0.6877 n_folds=3, nfeatures=62\n",
      "from removing mjd_diff_det\n"
     ]
    },
    {
     "data": {
      "application/vnd.jupyter.widget-view+json": {
       "model_id": "9bb5773b7d374cc192331903ea6a5205",
       "version_major": 2,
       "version_minor": 0
      },
      "text/plain": [
       "HBox(children=(IntProgress(value=0, max=3), HTML(value='')))"
      ]
     },
     "metadata": {},
     "output_type": "display_data"
    },
    {
     "name": "stdout",
     "output_type": "stream",
     "text": [
      "Training until validation scores don't improve for 50 rounds.\n",
      "Early stopping, best iteration is:\n",
      "[454]\ttraining's multi_logloss: 0.276602\ttraining's wloss: 0.265439\tvalid_1's multi_logloss: 0.745808\tvalid_1's wloss: 0.680423\n",
      "Training until validation scores don't improve for 50 rounds.\n",
      "Early stopping, best iteration is:\n",
      "[514]\ttraining's multi_logloss: 0.256538\ttraining's wloss: 0.247514\tvalid_1's multi_logloss: 0.711436\tvalid_1's wloss: 0.652447\n",
      "Training until validation scores don't improve for 50 rounds.\n",
      "Early stopping, best iteration is:\n",
      "[570]\ttraining's multi_logloss: 0.236985\ttraining's wloss: 0.227368\tvalid_1's multi_logloss: 0.687404\tvalid_1's wloss: 0.657592\n",
      "OOFMWLL: 0.6635 n_folds=3, nfeatures=62\n",
      "from removing hostgal_photoz\n"
     ]
    },
    {
     "data": {
      "application/vnd.jupyter.widget-view+json": {
       "model_id": "d1fb2dfdfa314897b0587ab4d7db2f10",
       "version_major": 2,
       "version_minor": 0
      },
      "text/plain": [
       "HBox(children=(IntProgress(value=0, max=3), HTML(value='')))"
      ]
     },
     "metadata": {},
     "output_type": "display_data"
    },
    {
     "name": "stdout",
     "output_type": "stream",
     "text": [
      "Training until validation scores don't improve for 50 rounds.\n",
      "Early stopping, best iteration is:\n",
      "[443]\ttraining's multi_logloss: 0.282076\ttraining's wloss: 0.270753\tvalid_1's multi_logloss: 0.748122\tvalid_1's wloss: 0.68061\n",
      "Training until validation scores don't improve for 50 rounds.\n",
      "Early stopping, best iteration is:\n",
      "[452]\ttraining's multi_logloss: 0.281562\ttraining's wloss: 0.272178\tvalid_1's multi_logloss: 0.725251\tvalid_1's wloss: 0.648118\n",
      "Training until validation scores don't improve for 50 rounds.\n",
      "Early stopping, best iteration is:\n",
      "[548]\ttraining's multi_logloss: 0.244353\ttraining's wloss: 0.234534\tvalid_1's multi_logloss: 0.694348\tvalid_1's wloss: 0.660581\n",
      "OOFMWLL: 0.6632 n_folds=3, nfeatures=62\n",
      "from removing hostgal_photoz_certain\n"
     ]
    },
    {
     "data": {
      "application/vnd.jupyter.widget-view+json": {
       "model_id": "ce962ca61d234b10945001481f7da8b0",
       "version_major": 2,
       "version_minor": 0
      },
      "text/plain": [
       "HBox(children=(IntProgress(value=0, max=3), HTML(value='')))"
      ]
     },
     "metadata": {},
     "output_type": "display_data"
    },
    {
     "name": "stdout",
     "output_type": "stream",
     "text": [
      "Training until validation scores don't improve for 50 rounds.\n",
      "Early stopping, best iteration is:\n",
      "[443]\ttraining's multi_logloss: 0.28254\ttraining's wloss: 0.271234\tvalid_1's multi_logloss: 0.748671\tvalid_1's wloss: 0.685653\n",
      "Training until validation scores don't improve for 50 rounds.\n",
      "Early stopping, best iteration is:\n",
      "[516]\ttraining's multi_logloss: 0.256904\ttraining's wloss: 0.24768\tvalid_1's multi_logloss: 0.714663\tvalid_1's wloss: 0.658381\n",
      "Training until validation scores don't improve for 50 rounds.\n",
      "Early stopping, best iteration is:\n",
      "[552]\ttraining's multi_logloss: 0.244065\ttraining's wloss: 0.234256\tvalid_1's multi_logloss: 0.695288\tvalid_1's wloss: 0.661797\n",
      "OOFMWLL: 0.6687 n_folds=3, nfeatures=62\n",
      "from removing flux_median\n"
     ]
    },
    {
     "data": {
      "application/vnd.jupyter.widget-view+json": {
       "model_id": "dc59b74c6dc94b55899796abd9f4d22d",
       "version_major": 2,
       "version_minor": 0
      },
      "text/plain": [
       "HBox(children=(IntProgress(value=0, max=3), HTML(value='')))"
      ]
     },
     "metadata": {},
     "output_type": "display_data"
    },
    {
     "name": "stdout",
     "output_type": "stream",
     "text": [
      "Training until validation scores don't improve for 50 rounds.\n",
      "Early stopping, best iteration is:\n",
      "[443]\ttraining's multi_logloss: 0.282277\ttraining's wloss: 0.270751\tvalid_1's multi_logloss: 0.751733\tvalid_1's wloss: 0.685754\n",
      "Training until validation scores don't improve for 50 rounds.\n",
      "Early stopping, best iteration is:\n",
      "[545]\ttraining's multi_logloss: 0.247422\ttraining's wloss: 0.238272\tvalid_1's multi_logloss: 0.710594\tvalid_1's wloss: 0.665434\n",
      "Training until validation scores don't improve for 50 rounds.\n",
      "Early stopping, best iteration is:\n",
      "[570]\ttraining's multi_logloss: 0.239099\ttraining's wloss: 0.229119\tvalid_1's multi_logloss: 0.695607\tvalid_1's wloss: 0.660786\n",
      "OOFMWLL: 0.6707 n_folds=3, nfeatures=62\n",
      "from removing 5__fft_coefficient__coeff_1__attr_\"abs\"\n"
     ]
    },
    {
     "data": {
      "application/vnd.jupyter.widget-view+json": {
       "model_id": "bce030322b09439698505d4e54d310fc",
       "version_major": 2,
       "version_minor": 0
      },
      "text/plain": [
       "HBox(children=(IntProgress(value=0, max=3), HTML(value='')))"
      ]
     },
     "metadata": {},
     "output_type": "display_data"
    },
    {
     "name": "stdout",
     "output_type": "stream",
     "text": [
      "Training until validation scores don't improve for 50 rounds.\n",
      "Early stopping, best iteration is:\n",
      "[440]\ttraining's multi_logloss: 0.282704\ttraining's wloss: 0.271822\tvalid_1's multi_logloss: 0.752199\tvalid_1's wloss: 0.683738\n",
      "Training until validation scores don't improve for 50 rounds.\n",
      "Early stopping, best iteration is:\n",
      "[450]\ttraining's multi_logloss: 0.283093\ttraining's wloss: 0.273926\tvalid_1's multi_logloss: 0.730823\tvalid_1's wloss: 0.661917\n",
      "Training until validation scores don't improve for 50 rounds.\n",
      "Early stopping, best iteration is:\n",
      "[508]\ttraining's multi_logloss: 0.25924\ttraining's wloss: 0.2494\tvalid_1's multi_logloss: 0.706989\tvalid_1's wloss: 0.659636\n",
      "OOFMWLL: 0.6685 n_folds=3, nfeatures=62\n",
      "from removing flux__longest_strike_above_mean\n"
     ]
    },
    {
     "data": {
      "application/vnd.jupyter.widget-view+json": {
       "model_id": "25a37f8694ca4892b87df3866ed178f8",
       "version_major": 2,
       "version_minor": 0
      },
      "text/plain": [
       "HBox(children=(IntProgress(value=0, max=3), HTML(value='')))"
      ]
     },
     "metadata": {},
     "output_type": "display_data"
    },
    {
     "name": "stdout",
     "output_type": "stream",
     "text": [
      "Training until validation scores don't improve for 50 rounds.\n",
      "Early stopping, best iteration is:\n",
      "[494]\ttraining's multi_logloss: 0.261193\ttraining's wloss: 0.250025\tvalid_1's multi_logloss: 0.741331\tvalid_1's wloss: 0.686595\n",
      "Training until validation scores don't improve for 50 rounds.\n",
      "Early stopping, best iteration is:\n",
      "[517]\ttraining's multi_logloss: 0.257029\ttraining's wloss: 0.248045\tvalid_1's multi_logloss: 0.715223\tvalid_1's wloss: 0.659009\n",
      "Training until validation scores don't improve for 50 rounds.\n",
      "Early stopping, best iteration is:\n",
      "[502]\ttraining's multi_logloss: 0.262491\ttraining's wloss: 0.252147\tvalid_1's multi_logloss: 0.709105\tvalid_1's wloss: 0.664253\n",
      "OOFMWLL: 0.6700 n_folds=3, nfeatures=62\n",
      "from removing hostgal_photoz_err\n"
     ]
    },
    {
     "data": {
      "application/vnd.jupyter.widget-view+json": {
       "model_id": "54da20a0260d4b378fce3feea855efd1",
       "version_major": 2,
       "version_minor": 0
      },
      "text/plain": [
       "HBox(children=(IntProgress(value=0, max=3), HTML(value='')))"
      ]
     },
     "metadata": {},
     "output_type": "display_data"
    },
    {
     "name": "stdout",
     "output_type": "stream",
     "text": [
      "Training until validation scores don't improve for 50 rounds.\n",
      "Early stopping, best iteration is:\n",
      "[443]\ttraining's multi_logloss: 0.281421\ttraining's wloss: 0.270168\tvalid_1's multi_logloss: 0.750997\tvalid_1's wloss: 0.682502\n",
      "Training until validation scores don't improve for 50 rounds.\n",
      "Early stopping, best iteration is:\n",
      "[568]\ttraining's multi_logloss: 0.239134\ttraining's wloss: 0.230318\tvalid_1's multi_logloss: 0.704901\tvalid_1's wloss: 0.657984\n",
      "Training until validation scores don't improve for 50 rounds.\n",
      "Early stopping, best iteration is:\n",
      "[570]\ttraining's multi_logloss: 0.23823\ttraining's wloss: 0.228512\tvalid_1's multi_logloss: 0.692932\tvalid_1's wloss: 0.658052\n",
      "OOFMWLL: 0.6662 n_folds=3, nfeatures=62\n",
      "from removing 5__fft_coefficient__coeff_0__attr_\"abs\"\n"
     ]
    },
    {
     "data": {
      "application/vnd.jupyter.widget-view+json": {
       "model_id": "5f60a83011d54d6f8fbee60a20e337c1",
       "version_major": 2,
       "version_minor": 0
      },
      "text/plain": [
       "HBox(children=(IntProgress(value=0, max=3), HTML(value='')))"
      ]
     },
     "metadata": {},
     "output_type": "display_data"
    },
    {
     "name": "stdout",
     "output_type": "stream",
     "text": [
      "Training until validation scores don't improve for 50 rounds.\n",
      "Early stopping, best iteration is:\n",
      "[494]\ttraining's multi_logloss: 0.260312\ttraining's wloss: 0.249341\tvalid_1's multi_logloss: 0.737106\tvalid_1's wloss: 0.687363\n",
      "Training until validation scores don't improve for 50 rounds.\n",
      "Early stopping, best iteration is:\n",
      "[560]\ttraining's multi_logloss: 0.241506\ttraining's wloss: 0.232643\tvalid_1's multi_logloss: 0.705317\tvalid_1's wloss: 0.654057\n",
      "Training until validation scores don't improve for 50 rounds.\n",
      "Early stopping, best iteration is:\n",
      "[577]\ttraining's multi_logloss: 0.235946\ttraining's wloss: 0.226138\tvalid_1's multi_logloss: 0.691554\tvalid_1's wloss: 0.659743\n",
      "OOFMWLL: 0.6671 n_folds=3, nfeatures=62\n",
      "from removing flux_skew\n"
     ]
    },
    {
     "data": {
      "application/vnd.jupyter.widget-view+json": {
       "model_id": "f922cedc90574dfcb9ff8f447938d07d",
       "version_major": 2,
       "version_minor": 0
      },
      "text/plain": [
       "HBox(children=(IntProgress(value=0, max=3), HTML(value='')))"
      ]
     },
     "metadata": {},
     "output_type": "display_data"
    },
    {
     "name": "stdout",
     "output_type": "stream",
     "text": [
      "Training until validation scores don't improve for 50 rounds.\n",
      "Early stopping, best iteration is:\n",
      "[454]\ttraining's multi_logloss: 0.275466\ttraining's wloss: 0.264286\tvalid_1's multi_logloss: 0.74435\tvalid_1's wloss: 0.683973\n",
      "Training until validation scores don't improve for 50 rounds.\n",
      "Early stopping, best iteration is:\n",
      "[560]\ttraining's multi_logloss: 0.240573\ttraining's wloss: 0.231844\tvalid_1's multi_logloss: 0.699217\tvalid_1's wloss: 0.652163\n",
      "Training until validation scores don't improve for 50 rounds.\n",
      "Early stopping, best iteration is:\n",
      "[530]\ttraining's multi_logloss: 0.250693\ttraining's wloss: 0.240741\tvalid_1's multi_logloss: 0.695748\tvalid_1's wloss: 0.654253\n",
      "OOFMWLL: 0.6635 n_folds=3, nfeatures=62\n",
      "from removing flux_err_min\n"
     ]
    },
    {
     "data": {
      "application/vnd.jupyter.widget-view+json": {
       "model_id": "97fa20591a5241e58207aa14686f2666",
       "version_major": 2,
       "version_minor": 0
      },
      "text/plain": [
       "HBox(children=(IntProgress(value=0, max=3), HTML(value='')))"
      ]
     },
     "metadata": {},
     "output_type": "display_data"
    },
    {
     "name": "stdout",
     "output_type": "stream",
     "text": [
      "Training until validation scores don't improve for 50 rounds.\n",
      "Early stopping, best iteration is:\n",
      "[443]\ttraining's multi_logloss: 0.281167\ttraining's wloss: 0.269901\tvalid_1's multi_logloss: 0.747036\tvalid_1's wloss: 0.683596\n",
      "Training until validation scores don't improve for 50 rounds.\n",
      "Early stopping, best iteration is:\n",
      "[558]\ttraining's multi_logloss: 0.240466\ttraining's wloss: 0.231729\tvalid_1's multi_logloss: 0.701917\tvalid_1's wloss: 0.651852\n",
      "Training until validation scores don't improve for 50 rounds.\n",
      "Early stopping, best iteration is:\n",
      "[530]\ttraining's multi_logloss: 0.249601\ttraining's wloss: 0.239589\tvalid_1's multi_logloss: 0.697631\tvalid_1's wloss: 0.659842\n",
      "OOFMWLL: 0.6651 n_folds=3, nfeatures=62\n",
      "from removing flux_diff2\n"
     ]
    },
    {
     "data": {
      "application/vnd.jupyter.widget-view+json": {
       "model_id": "6fc7979e29ed4f26b4a472d2f73c8800",
       "version_major": 2,
       "version_minor": 0
      },
      "text/plain": [
       "HBox(children=(IntProgress(value=0, max=3), HTML(value='')))"
      ]
     },
     "metadata": {},
     "output_type": "display_data"
    },
    {
     "name": "stdout",
     "output_type": "stream",
     "text": [
      "Training until validation scores don't improve for 50 rounds.\n",
      "Early stopping, best iteration is:\n",
      "[454]\ttraining's multi_logloss: 0.275551\ttraining's wloss: 0.264519\tvalid_1's multi_logloss: 0.74473\tvalid_1's wloss: 0.682389\n",
      "Training until validation scores don't improve for 50 rounds.\n",
      "Early stopping, best iteration is:\n",
      "[451]\ttraining's multi_logloss: 0.28058\ttraining's wloss: 0.271385\tvalid_1's multi_logloss: 0.725938\tvalid_1's wloss: 0.651518\n",
      "Training until validation scores don't improve for 50 rounds.\n",
      "Early stopping, best iteration is:\n",
      "[577]\ttraining's multi_logloss: 0.234697\ttraining's wloss: 0.224968\tvalid_1's multi_logloss: 0.688471\tvalid_1's wloss: 0.656125\n",
      "OOFMWLL: 0.6634 n_folds=3, nfeatures=62\n",
      "from removing mjd__mean_abs_change\n"
     ]
    },
    {
     "data": {
      "application/vnd.jupyter.widget-view+json": {
       "model_id": "a517acc900bf4d24ba15f54ce3ad5908",
       "version_major": 2,
       "version_minor": 0
      },
      "text/plain": [
       "HBox(children=(IntProgress(value=0, max=3), HTML(value='')))"
      ]
     },
     "metadata": {},
     "output_type": "display_data"
    },
    {
     "name": "stdout",
     "output_type": "stream",
     "text": [
      "Training until validation scores don't improve for 50 rounds.\n",
      "Early stopping, best iteration is:\n",
      "[456]\ttraining's multi_logloss: 0.275883\ttraining's wloss: 0.26464\tvalid_1's multi_logloss: 0.748083\tvalid_1's wloss: 0.680385\n",
      "Training until validation scores don't improve for 50 rounds.\n",
      "Early stopping, best iteration is:\n",
      "[513]\ttraining's multi_logloss: 0.256753\ttraining's wloss: 0.247661\tvalid_1's multi_logloss: 0.711108\tvalid_1's wloss: 0.653586\n",
      "Training until validation scores don't improve for 50 rounds.\n",
      "Early stopping, best iteration is:\n",
      "[502]\ttraining's multi_logloss: 0.261171\ttraining's wloss: 0.250818\tvalid_1's multi_logloss: 0.705486\tvalid_1's wloss: 0.661561\n",
      "OOFMWLL: 0.6652 n_folds=3, nfeatures=62\n",
      "from removing flux_by_flux_ratio_sq_skew\n"
     ]
    },
    {
     "data": {
      "application/vnd.jupyter.widget-view+json": {
       "model_id": "24b03540cad7411c923a366d171c8187",
       "version_major": 2,
       "version_minor": 0
      },
      "text/plain": [
       "HBox(children=(IntProgress(value=0, max=3), HTML(value='')))"
      ]
     },
     "metadata": {},
     "output_type": "display_data"
    },
    {
     "name": "stdout",
     "output_type": "stream",
     "text": [
      "Training until validation scores don't improve for 50 rounds.\n",
      "Early stopping, best iteration is:\n",
      "[456]\ttraining's multi_logloss: 0.275017\ttraining's wloss: 0.263901\tvalid_1's multi_logloss: 0.747046\tvalid_1's wloss: 0.687258\n",
      "Training until validation scores don't improve for 50 rounds.\n",
      "Early stopping, best iteration is:\n",
      "[570]\ttraining's multi_logloss: 0.237992\ttraining's wloss: 0.229216\tvalid_1's multi_logloss: 0.699516\tvalid_1's wloss: 0.648862\n",
      "Training until validation scores don't improve for 50 rounds.\n",
      "Early stopping, best iteration is:\n",
      "[527]\ttraining's multi_logloss: 0.251595\ttraining's wloss: 0.241683\tvalid_1's multi_logloss: 0.69914\tvalid_1's wloss: 0.66057\n",
      "OOFMWLL: 0.6656 n_folds=3, nfeatures=62\n",
      "from removing 3__kurtosis\n"
     ]
    },
    {
     "data": {
      "application/vnd.jupyter.widget-view+json": {
       "model_id": "0ddd67806afe4b9bbce0019b32527a8a",
       "version_major": 2,
       "version_minor": 0
      },
      "text/plain": [
       "HBox(children=(IntProgress(value=0, max=3), HTML(value='')))"
      ]
     },
     "metadata": {},
     "output_type": "display_data"
    },
    {
     "name": "stdout",
     "output_type": "stream",
     "text": [
      "Training until validation scores don't improve for 50 rounds.\n",
      "Early stopping, best iteration is:\n",
      "[456]\ttraining's multi_logloss: 0.276684\ttraining's wloss: 0.265438\tvalid_1's multi_logloss: 0.74661\tvalid_1's wloss: 0.681579\n",
      "Training until validation scores don't improve for 50 rounds.\n",
      "Early stopping, best iteration is:\n",
      "[560]\ttraining's multi_logloss: 0.241938\ttraining's wloss: 0.233441\tvalid_1's multi_logloss: 0.704347\tvalid_1's wloss: 0.651895\n",
      "Training until validation scores don't improve for 50 rounds.\n",
      "Early stopping, best iteration is:\n",
      "[570]\ttraining's multi_logloss: 0.238262\ttraining's wloss: 0.228405\tvalid_1's multi_logloss: 0.69558\tvalid_1's wloss: 0.663118\n",
      "OOFMWLL: 0.6656 n_folds=3, nfeatures=62\n",
      "from removing flux_diff3\n"
     ]
    },
    {
     "data": {
      "application/vnd.jupyter.widget-view+json": {
       "model_id": "9bf370ffe54c4f378652e86b982dece8",
       "version_major": 2,
       "version_minor": 0
      },
      "text/plain": [
       "HBox(children=(IntProgress(value=0, max=3), HTML(value='')))"
      ]
     },
     "metadata": {},
     "output_type": "display_data"
    },
    {
     "name": "stdout",
     "output_type": "stream",
     "text": [
      "Training until validation scores don't improve for 50 rounds.\n",
      "Early stopping, best iteration is:\n",
      "[456]\ttraining's multi_logloss: 0.275249\ttraining's wloss: 0.264135\tvalid_1's multi_logloss: 0.745515\tvalid_1's wloss: 0.680583\n",
      "Training until validation scores don't improve for 50 rounds.\n",
      "Early stopping, best iteration is:\n",
      "[514]\ttraining's multi_logloss: 0.256381\ttraining's wloss: 0.247318\tvalid_1's multi_logloss: 0.710399\tvalid_1's wloss: 0.652933\n",
      "Training until validation scores don't improve for 50 rounds.\n",
      "Early stopping, best iteration is:\n",
      "[570]\ttraining's multi_logloss: 0.237184\ttraining's wloss: 0.22751\tvalid_1's multi_logloss: 0.689938\tvalid_1's wloss: 0.658351\n",
      "OOFMWLL: 0.6640 n_folds=3, nfeatures=62\n",
      "from removing detected_mean\n"
     ]
    },
    {
     "data": {
      "application/vnd.jupyter.widget-view+json": {
       "model_id": "60099ed8c2754f3c8218d09ddb0911c2",
       "version_major": 2,
       "version_minor": 0
      },
      "text/plain": [
       "HBox(children=(IntProgress(value=0, max=3), HTML(value='')))"
      ]
     },
     "metadata": {},
     "output_type": "display_data"
    },
    {
     "name": "stdout",
     "output_type": "stream",
     "text": [
      "Training until validation scores don't improve for 50 rounds.\n",
      "Early stopping, best iteration is:\n",
      "[455]\ttraining's multi_logloss: 0.275882\ttraining's wloss: 0.264749\tvalid_1's multi_logloss: 0.74631\tvalid_1's wloss: 0.678093\n",
      "Training until validation scores don't improve for 50 rounds.\n",
      "Early stopping, best iteration is:\n",
      "[558]\ttraining's multi_logloss: 0.240489\ttraining's wloss: 0.231867\tvalid_1's multi_logloss: 0.70108\tvalid_1's wloss: 0.64932\n",
      "Training until validation scores don't improve for 50 rounds.\n",
      "Early stopping, best iteration is:\n",
      "[558]\ttraining's multi_logloss: 0.240878\ttraining's wloss: 0.231206\tvalid_1's multi_logloss: 0.690315\tvalid_1's wloss: 0.653632\n",
      "OOFMWLL: 0.6604 n_folds=3, nfeatures=62\n",
      "from removing 3__skewness\n"
     ]
    },
    {
     "data": {
      "application/vnd.jupyter.widget-view+json": {
       "model_id": "34199742b18c4eb2a8f08c79d0c09e31",
       "version_major": 2,
       "version_minor": 0
      },
      "text/plain": [
       "HBox(children=(IntProgress(value=0, max=3), HTML(value='')))"
      ]
     },
     "metadata": {},
     "output_type": "display_data"
    },
    {
     "name": "stdout",
     "output_type": "stream",
     "text": [
      "Training until validation scores don't improve for 50 rounds.\n",
      "Early stopping, best iteration is:\n",
      "[454]\ttraining's multi_logloss: 0.276482\ttraining's wloss: 0.265337\tvalid_1's multi_logloss: 0.74619\tvalid_1's wloss: 0.68132\n",
      "Training until validation scores don't improve for 50 rounds.\n",
      "Early stopping, best iteration is:\n",
      "[462]\ttraining's multi_logloss: 0.276988\ttraining's wloss: 0.267859\tvalid_1's multi_logloss: 0.720691\tvalid_1's wloss: 0.647242\n",
      "Training until validation scores don't improve for 50 rounds.\n",
      "Early stopping, best iteration is:\n",
      "[552]\ttraining's multi_logloss: 0.242821\ttraining's wloss: 0.233036\tvalid_1's multi_logloss: 0.691097\tvalid_1's wloss: 0.653273\n",
      "OOFMWLL: 0.6607 n_folds=3, nfeatures=62\n",
      "from removing 4__skewness\n"
     ]
    },
    {
     "data": {
      "application/vnd.jupyter.widget-view+json": {
       "model_id": "6208f8b439124b71ab9208aee1e6e6ad",
       "version_major": 2,
       "version_minor": 0
      },
      "text/plain": [
       "HBox(children=(IntProgress(value=0, max=3), HTML(value='')))"
      ]
     },
     "metadata": {},
     "output_type": "display_data"
    },
    {
     "name": "stdout",
     "output_type": "stream",
     "text": [
      "Training until validation scores don't improve for 50 rounds.\n",
      "Early stopping, best iteration is:\n",
      "[427]\ttraining's multi_logloss: 0.2878\ttraining's wloss: 0.276474\tvalid_1's multi_logloss: 0.750465\tvalid_1's wloss: 0.680481\n",
      "Training until validation scores don't improve for 50 rounds.\n",
      "Early stopping, best iteration is:\n",
      "[458]\ttraining's multi_logloss: 0.279262\ttraining's wloss: 0.270084\tvalid_1's multi_logloss: 0.724168\tvalid_1's wloss: 0.650691\n",
      "Training until validation scores don't improve for 50 rounds.\n",
      "Early stopping, best iteration is:\n",
      "[553]\ttraining's multi_logloss: 0.243393\ttraining's wloss: 0.23352\tvalid_1's multi_logloss: 0.693728\tvalid_1's wloss: 0.655391\n",
      "OOFMWLL: 0.6622 n_folds=3, nfeatures=62\n",
      "from removing 5__kurtosis\n"
     ]
    },
    {
     "data": {
      "application/vnd.jupyter.widget-view+json": {
       "model_id": "e371fb04ad4546fe974ecdc612d83bb4",
       "version_major": 2,
       "version_minor": 0
      },
      "text/plain": [
       "HBox(children=(IntProgress(value=0, max=3), HTML(value='')))"
      ]
     },
     "metadata": {},
     "output_type": "display_data"
    },
    {
     "name": "stdout",
     "output_type": "stream",
     "text": [
      "Training until validation scores don't improve for 50 rounds.\n",
      "Early stopping, best iteration is:\n",
      "[456]\ttraining's multi_logloss: 0.274588\ttraining's wloss: 0.263467\tvalid_1's multi_logloss: 0.74477\tvalid_1's wloss: 0.67878\n",
      "Training until validation scores don't improve for 50 rounds.\n",
      "Early stopping, best iteration is:\n",
      "[476]\ttraining's multi_logloss: 0.270619\ttraining's wloss: 0.261577\tvalid_1's multi_logloss: 0.718486\tvalid_1's wloss: 0.653611\n",
      "Training until validation scores don't improve for 50 rounds.\n",
      "Early stopping, best iteration is:\n",
      "[553]\ttraining's multi_logloss: 0.241967\ttraining's wloss: 0.232273\tvalid_1's multi_logloss: 0.690077\tvalid_1's wloss: 0.652613\n",
      "OOFMWLL: 0.6617 n_folds=3, nfeatures=62\n",
      "from removing flux_by_flux_ratio_sq__longest_strike_below_mean\n"
     ]
    },
    {
     "data": {
      "application/vnd.jupyter.widget-view+json": {
       "model_id": "bc7dd035079b406e851ddc1659ff398a",
       "version_major": 2,
       "version_minor": 0
      },
      "text/plain": [
       "HBox(children=(IntProgress(value=0, max=3), HTML(value='')))"
      ]
     },
     "metadata": {},
     "output_type": "display_data"
    },
    {
     "name": "stdout",
     "output_type": "stream",
     "text": [
      "Training until validation scores don't improve for 50 rounds.\n",
      "Early stopping, best iteration is:\n",
      "[433]\ttraining's multi_logloss: 0.284689\ttraining's wloss: 0.273443\tvalid_1's multi_logloss: 0.751814\tvalid_1's wloss: 0.679303\n",
      "Training until validation scores don't improve for 50 rounds.\n",
      "Early stopping, best iteration is:\n",
      "[426]\ttraining's multi_logloss: 0.292457\ttraining's wloss: 0.283245\tvalid_1's multi_logloss: 0.731268\tvalid_1's wloss: 0.649525\n",
      "Training until validation scores don't improve for 50 rounds.\n",
      "Early stopping, best iteration is:\n",
      "[577]\ttraining's multi_logloss: 0.234917\ttraining's wloss: 0.225338\tvalid_1's multi_logloss: 0.687365\tvalid_1's wloss: 0.655774\n",
      "OOFMWLL: 0.6616 n_folds=3, nfeatures=62\n",
      "from removing 5__skewness\n"
     ]
    },
    {
     "data": {
      "application/vnd.jupyter.widget-view+json": {
       "model_id": "3f96c57c0cf34a70a3eb0dbdd6317cc1",
       "version_major": 2,
       "version_minor": 0
      },
      "text/plain": [
       "HBox(children=(IntProgress(value=0, max=3), HTML(value='')))"
      ]
     },
     "metadata": {},
     "output_type": "display_data"
    },
    {
     "name": "stdout",
     "output_type": "stream",
     "text": [
      "Training until validation scores don't improve for 50 rounds.\n",
      "Early stopping, best iteration is:\n",
      "[456]\ttraining's multi_logloss: 0.274475\ttraining's wloss: 0.2633\tvalid_1's multi_logloss: 0.743534\tvalid_1's wloss: 0.675283\n",
      "Training until validation scores don't improve for 50 rounds.\n",
      "Early stopping, best iteration is:\n",
      "[426]\ttraining's multi_logloss: 0.292791\ttraining's wloss: 0.283478\tvalid_1's multi_logloss: 0.733133\tvalid_1's wloss: 0.64759\n",
      "Training until validation scores don't improve for 50 rounds.\n",
      "Early stopping, best iteration is:\n",
      "[578]\ttraining's multi_logloss: 0.234738\ttraining's wloss: 0.225123\tvalid_1's multi_logloss: 0.687893\tvalid_1's wloss: 0.654925\n",
      "OOFMWLL: 0.6593 n_folds=3, nfeatures=62\n",
      "from removing 4__fft_coefficient__coeff_0__attr_\"abs\"\n"
     ]
    },
    {
     "data": {
      "application/vnd.jupyter.widget-view+json": {
       "model_id": "69ee8d083a5a4973b21093c45afae9d2",
       "version_major": 2,
       "version_minor": 0
      },
      "text/plain": [
       "HBox(children=(IntProgress(value=0, max=3), HTML(value='')))"
      ]
     },
     "metadata": {},
     "output_type": "display_data"
    },
    {
     "name": "stdout",
     "output_type": "stream",
     "text": [
      "Training until validation scores don't improve for 50 rounds.\n",
      "Early stopping, best iteration is:\n",
      "[454]\ttraining's multi_logloss: 0.275825\ttraining's wloss: 0.264573\tvalid_1's multi_logloss: 0.745365\tvalid_1's wloss: 0.678433\n",
      "Training until validation scores don't improve for 50 rounds.\n",
      "Early stopping, best iteration is:\n",
      "[425]\ttraining's multi_logloss: 0.292722\ttraining's wloss: 0.283597\tvalid_1's multi_logloss: 0.733164\tvalid_1's wloss: 0.65372\n",
      "Training until validation scores don't improve for 50 rounds.\n",
      "Early stopping, best iteration is:\n",
      "[583]\ttraining's multi_logloss: 0.23329\ttraining's wloss: 0.223706\tvalid_1's multi_logloss: 0.687374\tvalid_1's wloss: 0.655625\n",
      "OOFMWLL: 0.6627 n_folds=3, nfeatures=62\n",
      "from removing 4__fft_coefficient__coeff_1__attr_\"abs\"\n"
     ]
    },
    {
     "data": {
      "application/vnd.jupyter.widget-view+json": {
       "model_id": "c07707f2edc544569dbf768f5ed004b9",
       "version_major": 2,
       "version_minor": 0
      },
      "text/plain": [
       "HBox(children=(IntProgress(value=0, max=3), HTML(value='')))"
      ]
     },
     "metadata": {},
     "output_type": "display_data"
    },
    {
     "name": "stdout",
     "output_type": "stream",
     "text": [
      "Training until validation scores don't improve for 50 rounds.\n",
      "Early stopping, best iteration is:\n",
      "[432]\ttraining's multi_logloss: 0.286453\ttraining's wloss: 0.275163\tvalid_1's multi_logloss: 0.748995\tvalid_1's wloss: 0.675849\n",
      "Training until validation scores don't improve for 50 rounds.\n",
      "Early stopping, best iteration is:\n",
      "[515]\ttraining's multi_logloss: 0.256162\ttraining's wloss: 0.24716\tvalid_1's multi_logloss: 0.711493\tvalid_1's wloss: 0.652643\n",
      "Training until validation scores don't improve for 50 rounds.\n",
      "Early stopping, best iteration is:\n",
      "[571]\ttraining's multi_logloss: 0.237124\ttraining's wloss: 0.227552\tvalid_1's multi_logloss: 0.690828\tvalid_1's wloss: 0.654242\n",
      "OOFMWLL: 0.6610 n_folds=3, nfeatures=62\n",
      "from removing 4__kurtosis\n"
     ]
    },
    {
     "data": {
      "application/vnd.jupyter.widget-view+json": {
       "model_id": "89a19b88438c40e69b4eb19c38134528",
       "version_major": 2,
       "version_minor": 0
      },
      "text/plain": [
       "HBox(children=(IntProgress(value=0, max=3), HTML(value='')))"
      ]
     },
     "metadata": {},
     "output_type": "display_data"
    },
    {
     "name": "stdout",
     "output_type": "stream",
     "text": [
      "Training until validation scores don't improve for 50 rounds.\n",
      "Early stopping, best iteration is:\n",
      "[454]\ttraining's multi_logloss: 0.275534\ttraining's wloss: 0.264418\tvalid_1's multi_logloss: 0.745844\tvalid_1's wloss: 0.679529\n",
      "Training until validation scores don't improve for 50 rounds.\n",
      "Early stopping, best iteration is:\n",
      "[451]\ttraining's multi_logloss: 0.280532\ttraining's wloss: 0.271461\tvalid_1's multi_logloss: 0.726841\tvalid_1's wloss: 0.652408\n",
      "Training until validation scores don't improve for 50 rounds.\n",
      "Early stopping, best iteration is:\n",
      "[583]\ttraining's multi_logloss: 0.233382\ttraining's wloss: 0.22385\tvalid_1's multi_logloss: 0.684774\tvalid_1's wloss: 0.651462\n",
      "OOFMWLL: 0.6612 n_folds=3, nfeatures=62\n",
      "from removing flux_ratio_sq_skew\n"
     ]
    },
    {
     "data": {
      "application/vnd.jupyter.widget-view+json": {
       "model_id": "d2fa3bda20f748e6922d9f2bca042997",
       "version_major": 2,
       "version_minor": 0
      },
      "text/plain": [
       "HBox(children=(IntProgress(value=0, max=3), HTML(value='')))"
      ]
     },
     "metadata": {},
     "output_type": "display_data"
    },
    {
     "name": "stdout",
     "output_type": "stream",
     "text": [
      "Training until validation scores don't improve for 50 rounds.\n",
      "Early stopping, best iteration is:\n",
      "[456]\ttraining's multi_logloss: 0.275399\ttraining's wloss: 0.264111\tvalid_1's multi_logloss: 0.744241\tvalid_1's wloss: 0.676033\n",
      "Training until validation scores don't improve for 50 rounds.\n",
      "Early stopping, best iteration is:\n",
      "[427]\ttraining's multi_logloss: 0.29133\ttraining's wloss: 0.282117\tvalid_1's multi_logloss: 0.731199\tvalid_1's wloss: 0.656235\n",
      "Training until validation scores don't improve for 50 rounds.\n",
      "Early stopping, best iteration is:\n",
      "[576]\ttraining's multi_logloss: 0.235831\ttraining's wloss: 0.226145\tvalid_1's multi_logloss: 0.688013\tvalid_1's wloss: 0.651949\n",
      "OOFMWLL: 0.6615 n_folds=3, nfeatures=62\n",
      "from removing flux__mean_change\n"
     ]
    },
    {
     "data": {
      "application/vnd.jupyter.widget-view+json": {
       "model_id": "d58b071309504e0c9a73298bfa588352",
       "version_major": 2,
       "version_minor": 0
      },
      "text/plain": [
       "HBox(children=(IntProgress(value=0, max=3), HTML(value='')))"
      ]
     },
     "metadata": {},
     "output_type": "display_data"
    },
    {
     "name": "stdout",
     "output_type": "stream",
     "text": [
      "Training until validation scores don't improve for 50 rounds.\n",
      "Early stopping, best iteration is:\n",
      "[456]\ttraining's multi_logloss: 0.274964\ttraining's wloss: 0.263867\tvalid_1's multi_logloss: 0.744795\tvalid_1's wloss: 0.676071\n",
      "Training until validation scores don't improve for 50 rounds.\n",
      "Early stopping, best iteration is:\n",
      "[451]\ttraining's multi_logloss: 0.280862\ttraining's wloss: 0.271891\tvalid_1's multi_logloss: 0.72598\tvalid_1's wloss: 0.652257\n",
      "Training until validation scores don't improve for 50 rounds.\n",
      "Early stopping, best iteration is:\n",
      "[578]\ttraining's multi_logloss: 0.234812\ttraining's wloss: 0.225314\tvalid_1's multi_logloss: 0.68899\tvalid_1's wloss: 0.654417\n",
      "OOFMWLL: 0.6610 n_folds=3, nfeatures=62\n",
      "from removing flux__mean_abs_change\n"
     ]
    },
    {
     "data": {
      "application/vnd.jupyter.widget-view+json": {
       "model_id": "aea545b1b561421b9592bbcce8c686ac",
       "version_major": 2,
       "version_minor": 0
      },
      "text/plain": [
       "HBox(children=(IntProgress(value=0, max=3), HTML(value='')))"
      ]
     },
     "metadata": {},
     "output_type": "display_data"
    },
    {
     "name": "stdout",
     "output_type": "stream",
     "text": [
      "Training until validation scores don't improve for 50 rounds.\n",
      "Early stopping, best iteration is:\n",
      "[454]\ttraining's multi_logloss: 0.275888\ttraining's wloss: 0.264673\tvalid_1's multi_logloss: 0.746512\tvalid_1's wloss: 0.672352\n",
      "Training until validation scores don't improve for 50 rounds.\n",
      "Early stopping, best iteration is:\n",
      "[450]\ttraining's multi_logloss: 0.282202\ttraining's wloss: 0.273117\tvalid_1's multi_logloss: 0.728279\tvalid_1's wloss: 0.656989\n",
      "Training until validation scores don't improve for 50 rounds.\n",
      "Early stopping, best iteration is:\n",
      "[578]\ttraining's multi_logloss: 0.234547\ttraining's wloss: 0.224951\tvalid_1's multi_logloss: 0.690163\tvalid_1's wloss: 0.658531\n",
      "OOFMWLL: 0.6627 n_folds=3, nfeatures=62\n",
      "from removing flux_by_flux_ratio_sq__longest_strike_above_mean\n"
     ]
    },
    {
     "data": {
      "application/vnd.jupyter.widget-view+json": {
       "model_id": "e40f31211a9f4bc2bcc9942affbc3884",
       "version_major": 2,
       "version_minor": 0
      },
      "text/plain": [
       "HBox(children=(IntProgress(value=0, max=3), HTML(value='')))"
      ]
     },
     "metadata": {},
     "output_type": "display_data"
    },
    {
     "name": "stdout",
     "output_type": "stream",
     "text": [
      "Training until validation scores don't improve for 50 rounds.\n",
      "Early stopping, best iteration is:\n",
      "[456]\ttraining's multi_logloss: 0.275236\ttraining's wloss: 0.263986\tvalid_1's multi_logloss: 0.745897\tvalid_1's wloss: 0.678788\n",
      "Training until validation scores don't improve for 50 rounds.\n",
      "Early stopping, best iteration is:\n",
      "[450]\ttraining's multi_logloss: 0.281102\ttraining's wloss: 0.272044\tvalid_1's multi_logloss: 0.724998\tvalid_1's wloss: 0.653754\n",
      "Training until validation scores don't improve for 50 rounds.\n",
      "Early stopping, best iteration is:\n",
      "[585]\ttraining's multi_logloss: 0.232556\ttraining's wloss: 0.222891\tvalid_1's multi_logloss: 0.689396\tvalid_1's wloss: 0.659309\n",
      "OOFMWLL: 0.6640 n_folds=3, nfeatures=62\n",
      "from removing flux_min\n"
     ]
    },
    {
     "data": {
      "application/vnd.jupyter.widget-view+json": {
       "model_id": "3af819ebb9df43abafd93e9e76e6d100",
       "version_major": 2,
       "version_minor": 0
      },
      "text/plain": [
       "HBox(children=(IntProgress(value=0, max=3), HTML(value='')))"
      ]
     },
     "metadata": {},
     "output_type": "display_data"
    },
    {
     "name": "stdout",
     "output_type": "stream",
     "text": [
      "Training until validation scores don't improve for 50 rounds.\n",
      "Early stopping, best iteration is:\n",
      "[434]\ttraining's multi_logloss: 0.283545\ttraining's wloss: 0.272324\tvalid_1's multi_logloss: 0.75088\tvalid_1's wloss: 0.679914\n",
      "Training until validation scores don't improve for 50 rounds.\n",
      "Early stopping, best iteration is:\n",
      "[540]\ttraining's multi_logloss: 0.246187\ttraining's wloss: 0.237622\tvalid_1's multi_logloss: 0.705085\tvalid_1's wloss: 0.652031\n",
      "Training until validation scores don't improve for 50 rounds.\n",
      "Early stopping, best iteration is:\n",
      "[436]\ttraining's multi_logloss: 0.286659\ttraining's wloss: 0.276375\tvalid_1's multi_logloss: 0.723987\tvalid_1's wloss: 0.658368\n",
      "OOFMWLL: 0.6635 n_folds=3, nfeatures=62\n",
      "from removing flux_w_mean\n"
     ]
    },
    {
     "data": {
      "application/vnd.jupyter.widget-view+json": {
       "model_id": "ee9cb8047d584974bc43f899f04e8747",
       "version_major": 2,
       "version_minor": 0
      },
      "text/plain": [
       "HBox(children=(IntProgress(value=0, max=3), HTML(value='')))"
      ]
     },
     "metadata": {},
     "output_type": "display_data"
    },
    {
     "name": "stdout",
     "output_type": "stream",
     "text": [
      "Training until validation scores don't improve for 50 rounds.\n",
      "Early stopping, best iteration is:\n",
      "[434]\ttraining's multi_logloss: 0.2849\ttraining's wloss: 0.273544\tvalid_1's multi_logloss: 0.752776\tvalid_1's wloss: 0.683411\n",
      "Training until validation scores don't improve for 50 rounds.\n",
      "Early stopping, best iteration is:\n",
      "[555]\ttraining's multi_logloss: 0.241162\ttraining's wloss: 0.232397\tvalid_1's multi_logloss: 0.703934\tvalid_1's wloss: 0.657312\n",
      "Training until validation scores don't improve for 50 rounds.\n",
      "Early stopping, best iteration is:\n",
      "[585]\ttraining's multi_logloss: 0.232412\ttraining's wloss: 0.222771\tvalid_1's multi_logloss: 0.687052\tvalid_1's wloss: 0.65535\n",
      "OOFMWLL: 0.6654 n_folds=3, nfeatures=62\n",
      "from removing flux_max\n"
     ]
    },
    {
     "data": {
      "application/vnd.jupyter.widget-view+json": {
       "model_id": "f9168a2cc6c441cc97ee944b0ea9ea9e",
       "version_major": 2,
       "version_minor": 0
      },
      "text/plain": [
       "HBox(children=(IntProgress(value=0, max=3), HTML(value='')))"
      ]
     },
     "metadata": {},
     "output_type": "display_data"
    },
    {
     "name": "stdout",
     "output_type": "stream",
     "text": [
      "Training until validation scores don't improve for 50 rounds.\n",
      "Early stopping, best iteration is:\n",
      "[456]\ttraining's multi_logloss: 0.274255\ttraining's wloss: 0.263026\tvalid_1's multi_logloss: 0.745361\tvalid_1's wloss: 0.67847\n",
      "Training until validation scores don't improve for 50 rounds.\n",
      "Early stopping, best iteration is:\n",
      "[450]\ttraining's multi_logloss: 0.281361\ttraining's wloss: 0.272378\tvalid_1's multi_logloss: 0.726916\tvalid_1's wloss: 0.653148\n",
      "Training until validation scores don't improve for 50 rounds.\n",
      "Early stopping, best iteration is:\n",
      "[583]\ttraining's multi_logloss: 0.23286\ttraining's wloss: 0.223346\tvalid_1's multi_logloss: 0.687934\tvalid_1's wloss: 0.655538\n",
      "OOFMWLL: 0.6624 n_folds=3, nfeatures=62\n",
      "from removing flux_err_std\n"
     ]
    },
    {
     "data": {
      "application/vnd.jupyter.widget-view+json": {
       "model_id": "ae2267bf841447a88d123a613a04932a",
       "version_major": 2,
       "version_minor": 0
      },
      "text/plain": [
       "HBox(children=(IntProgress(value=0, max=3), HTML(value='')))"
      ]
     },
     "metadata": {},
     "output_type": "display_data"
    },
    {
     "name": "stdout",
     "output_type": "stream",
     "text": [
      "Training until validation scores don't improve for 50 rounds.\n",
      "Early stopping, best iteration is:\n",
      "[456]\ttraining's multi_logloss: 0.274615\ttraining's wloss: 0.263519\tvalid_1's multi_logloss: 0.74463\tvalid_1's wloss: 0.676845\n",
      "Training until validation scores don't improve for 50 rounds.\n",
      "Early stopping, best iteration is:\n",
      "[559]\ttraining's multi_logloss: 0.240239\ttraining's wloss: 0.231574\tvalid_1's multi_logloss: 0.701922\tvalid_1's wloss: 0.651308\n",
      "Training until validation scores don't improve for 50 rounds.\n",
      "Early stopping, best iteration is:\n",
      "[583]\ttraining's multi_logloss: 0.233331\ttraining's wloss: 0.223781\tvalid_1's multi_logloss: 0.687571\tvalid_1's wloss: 0.655784\n",
      "OOFMWLL: 0.6614 n_folds=3, nfeatures=62\n",
      "from removing 3__fft_coefficient__coeff_1__attr_\"abs\"\n"
     ]
    },
    {
     "data": {
      "application/vnd.jupyter.widget-view+json": {
       "model_id": "1e03188902224878a94928d459d1b426",
       "version_major": 2,
       "version_minor": 0
      },
      "text/plain": [
       "HBox(children=(IntProgress(value=0, max=3), HTML(value='')))"
      ]
     },
     "metadata": {},
     "output_type": "display_data"
    },
    {
     "name": "stdout",
     "output_type": "stream",
     "text": [
      "Training until validation scores don't improve for 50 rounds.\n",
      "Early stopping, best iteration is:\n",
      "[456]\ttraining's multi_logloss: 0.27457\ttraining's wloss: 0.263468\tvalid_1's multi_logloss: 0.745208\tvalid_1's wloss: 0.678817\n",
      "Training until validation scores don't improve for 50 rounds.\n",
      "Early stopping, best iteration is:\n",
      "[543]\ttraining's multi_logloss: 0.245536\ttraining's wloss: 0.236842\tvalid_1's multi_logloss: 0.705696\tvalid_1's wloss: 0.651461\n",
      "Training until validation scores don't improve for 50 rounds.\n",
      "Early stopping, best iteration is:\n",
      "[585]\ttraining's multi_logloss: 0.232523\ttraining's wloss: 0.223009\tvalid_1's multi_logloss: 0.687018\tvalid_1's wloss: 0.655786\n",
      "OOFMWLL: 0.6621 n_folds=3, nfeatures=62\n",
      "from removing mjd__mean_change\n"
     ]
    },
    {
     "data": {
      "application/vnd.jupyter.widget-view+json": {
       "model_id": "feb5a32890e14b7a91c8c98e616d9d62",
       "version_major": 2,
       "version_minor": 0
      },
      "text/plain": [
       "HBox(children=(IntProgress(value=0, max=3), HTML(value='')))"
      ]
     },
     "metadata": {},
     "output_type": "display_data"
    },
    {
     "name": "stdout",
     "output_type": "stream",
     "text": [
      "Training until validation scores don't improve for 50 rounds.\n",
      "Early stopping, best iteration is:\n",
      "[428]\ttraining's multi_logloss: 0.287106\ttraining's wloss: 0.2757\tvalid_1's multi_logloss: 0.752409\tvalid_1's wloss: 0.678891\n",
      "Training until validation scores don't improve for 50 rounds.\n",
      "Early stopping, best iteration is:\n",
      "[451]\ttraining's multi_logloss: 0.280873\ttraining's wloss: 0.27173\tvalid_1's multi_logloss: 0.728012\tvalid_1's wloss: 0.655315\n",
      "Training until validation scores don't improve for 50 rounds.\n",
      "Early stopping, best iteration is:\n",
      "[585]\ttraining's multi_logloss: 0.232198\ttraining's wloss: 0.222607\tvalid_1's multi_logloss: 0.687182\tvalid_1's wloss: 0.655163\n",
      "OOFMWLL: 0.6632 n_folds=3, nfeatures=62\n",
      "from removing flux_mean\n"
     ]
    },
    {
     "data": {
      "application/vnd.jupyter.widget-view+json": {
       "model_id": "6a713f1c9e69468894d4e58af2d164b9",
       "version_major": 2,
       "version_minor": 0
      },
      "text/plain": [
       "HBox(children=(IntProgress(value=0, max=3), HTML(value='')))"
      ]
     },
     "metadata": {},
     "output_type": "display_data"
    },
    {
     "name": "stdout",
     "output_type": "stream",
     "text": [
      "Training until validation scores don't improve for 50 rounds.\n",
      "Early stopping, best iteration is:\n",
      "[456]\ttraining's multi_logloss: 0.274767\ttraining's wloss: 0.263499\tvalid_1's multi_logloss: 0.745582\tvalid_1's wloss: 0.678168\n",
      "Training until validation scores don't improve for 50 rounds.\n",
      "Early stopping, best iteration is:\n",
      "[555]\ttraining's multi_logloss: 0.241358\ttraining's wloss: 0.232667\tvalid_1's multi_logloss: 0.702256\tvalid_1's wloss: 0.649447\n",
      "Training until validation scores don't improve for 50 rounds.\n",
      "Early stopping, best iteration is:\n",
      "[565]\ttraining's multi_logloss: 0.23828\ttraining's wloss: 0.228666\tvalid_1's multi_logloss: 0.691569\tvalid_1's wloss: 0.656824\n",
      "OOFMWLL: 0.6615 n_folds=3, nfeatures=62\n",
      "from removing flux__longest_strike_below_mean\n"
     ]
    },
    {
     "data": {
      "application/vnd.jupyter.widget-view+json": {
       "model_id": "76548e829a3e4fddb89b3a82e7a1e179",
       "version_major": 2,
       "version_minor": 0
      },
      "text/plain": [
       "HBox(children=(IntProgress(value=0, max=3), HTML(value='')))"
      ]
     },
     "metadata": {},
     "output_type": "display_data"
    },
    {
     "name": "stdout",
     "output_type": "stream",
     "text": [
      "Training until validation scores don't improve for 50 rounds.\n",
      "Early stopping, best iteration is:\n",
      "[434]\ttraining's multi_logloss: 0.284388\ttraining's wloss: 0.273003\tvalid_1's multi_logloss: 0.749342\tvalid_1's wloss: 0.676526\n",
      "Training until validation scores don't improve for 50 rounds.\n",
      "Early stopping, best iteration is:\n",
      "[428]\ttraining's multi_logloss: 0.291052\ttraining's wloss: 0.282053\tvalid_1's multi_logloss: 0.733221\tvalid_1's wloss: 0.652466\n",
      "Training until validation scores don't improve for 50 rounds.\n",
      "Early stopping, best iteration is:\n",
      "[585]\ttraining's multi_logloss: 0.231864\ttraining's wloss: 0.222353\tvalid_1's multi_logloss: 0.68591\tvalid_1's wloss: 0.650576\n",
      "OOFMWLL: 0.6599 n_folds=3, nfeatures=62\n",
      "from removing flux_err_median\n"
     ]
    },
    {
     "data": {
      "application/vnd.jupyter.widget-view+json": {
       "model_id": "14766f0e12a140fd9c84ead10c56914d",
       "version_major": 2,
       "version_minor": 0
      },
      "text/plain": [
       "HBox(children=(IntProgress(value=0, max=3), HTML(value='')))"
      ]
     },
     "metadata": {},
     "output_type": "display_data"
    },
    {
     "name": "stdout",
     "output_type": "stream",
     "text": [
      "Training until validation scores don't improve for 50 rounds.\n",
      "Early stopping, best iteration is:\n",
      "[406]\ttraining's multi_logloss: 0.297083\ttraining's wloss: 0.285728\tvalid_1's multi_logloss: 0.756918\tvalid_1's wloss: 0.676725\n",
      "Training until validation scores don't improve for 50 rounds.\n",
      "Early stopping, best iteration is:\n",
      "[553]\ttraining's multi_logloss: 0.24197\ttraining's wloss: 0.233249\tvalid_1's multi_logloss: 0.701833\tvalid_1's wloss: 0.649451\n",
      "Training until validation scores don't improve for 50 rounds.\n",
      "Early stopping, best iteration is:\n",
      "[585]\ttraining's multi_logloss: 0.232597\ttraining's wloss: 0.222945\tvalid_1's multi_logloss: 0.686011\tvalid_1's wloss: 0.65237\n",
      "OOFMWLL: 0.6596 n_folds=3, nfeatures=62\n",
      "from removing flux_err_skew\n"
     ]
    },
    {
     "data": {
      "application/vnd.jupyter.widget-view+json": {
       "model_id": "7ecce2b1bd7742a197986bcc92c7c6bf",
       "version_major": 2,
       "version_minor": 0
      },
      "text/plain": [
       "HBox(children=(IntProgress(value=0, max=3), HTML(value='')))"
      ]
     },
     "metadata": {},
     "output_type": "display_data"
    },
    {
     "name": "stdout",
     "output_type": "stream",
     "text": [
      "Training until validation scores don't improve for 50 rounds.\n",
      "Early stopping, best iteration is:\n",
      "[406]\ttraining's multi_logloss: 0.297389\ttraining's wloss: 0.286081\tvalid_1's multi_logloss: 0.758274\tvalid_1's wloss: 0.678826\n",
      "Training until validation scores don't improve for 50 rounds.\n",
      "Early stopping, best iteration is:\n",
      "[442]\ttraining's multi_logloss: 0.284557\ttraining's wloss: 0.275443\tvalid_1's multi_logloss: 0.730928\tvalid_1's wloss: 0.651519\n",
      "Training until validation scores don't improve for 50 rounds.\n",
      "Early stopping, best iteration is:\n",
      "[585]\ttraining's multi_logloss: 0.232212\ttraining's wloss: 0.222599\tvalid_1's multi_logloss: 0.685739\tvalid_1's wloss: 0.655013\n",
      "OOFMWLL: 0.6618 n_folds=3, nfeatures=62\n",
      "from removing flux_std\n"
     ]
    },
    {
     "data": {
      "application/vnd.jupyter.widget-view+json": {
       "model_id": "2a36aa84d2d54cadb3a241cc91157371",
       "version_major": 2,
       "version_minor": 0
      },
      "text/plain": [
       "HBox(children=(IntProgress(value=0, max=3), HTML(value='')))"
      ]
     },
     "metadata": {},
     "output_type": "display_data"
    },
    {
     "name": "stdout",
     "output_type": "stream",
     "text": [
      "Training until validation scores don't improve for 50 rounds.\n",
      "Early stopping, best iteration is:\n",
      "[456]\ttraining's multi_logloss: 0.274494\ttraining's wloss: 0.263357\tvalid_1's multi_logloss: 0.744665\tvalid_1's wloss: 0.679004\n",
      "Training until validation scores don't improve for 50 rounds.\n",
      "Early stopping, best iteration is:\n",
      "[605]\ttraining's multi_logloss: 0.225741\ttraining's wloss: 0.217246\tvalid_1's multi_logloss: 0.694087\tvalid_1's wloss: 0.651306\n",
      "Training until validation scores don't improve for 50 rounds.\n",
      "Early stopping, best iteration is:\n",
      "[585]\ttraining's multi_logloss: 0.233034\ttraining's wloss: 0.22353\tvalid_1's multi_logloss: 0.686834\tvalid_1's wloss: 0.654455\n",
      "OOFMWLL: 0.6616 n_folds=3, nfeatures=62\n",
      "from removing haversine\n"
     ]
    },
    {
     "data": {
      "application/vnd.jupyter.widget-view+json": {
       "model_id": "f9d54cfef53c4ba69322024259a6f90e",
       "version_major": 2,
       "version_minor": 0
      },
      "text/plain": [
       "HBox(children=(IntProgress(value=0, max=3), HTML(value='')))"
      ]
     },
     "metadata": {},
     "output_type": "display_data"
    },
    {
     "name": "stdout",
     "output_type": "stream",
     "text": [
      "Training until validation scores don't improve for 50 rounds.\n",
      "Early stopping, best iteration is:\n",
      "[434]\ttraining's multi_logloss: 0.284098\ttraining's wloss: 0.272621\tvalid_1's multi_logloss: 0.750608\tvalid_1's wloss: 0.678635\n",
      "Training until validation scores don't improve for 50 rounds.\n",
      "Early stopping, best iteration is:\n",
      "[613]\ttraining's multi_logloss: 0.223704\ttraining's wloss: 0.215297\tvalid_1's multi_logloss: 0.691203\tvalid_1's wloss: 0.649197\n",
      "Training until validation scores don't improve for 50 rounds.\n",
      "Early stopping, best iteration is:\n",
      "[583]\ttraining's multi_logloss: 0.233113\ttraining's wloss: 0.223537\tvalid_1's multi_logloss: 0.684654\tvalid_1's wloss: 0.650848\n",
      "OOFMWLL: 0.6596 n_folds=3, nfeatures=62\n",
      "from removing latlon1\n"
     ]
    },
    {
     "data": {
      "application/vnd.jupyter.widget-view+json": {
       "model_id": "0a63d6e190fa4d8cabe9af711f5cd99b",
       "version_major": 2,
       "version_minor": 0
      },
      "text/plain": [
       "HBox(children=(IntProgress(value=0, max=3), HTML(value='')))"
      ]
     },
     "metadata": {},
     "output_type": "display_data"
    },
    {
     "name": "stdout",
     "output_type": "stream",
     "text": [
      "Training until validation scores don't improve for 50 rounds.\n",
      "Early stopping, best iteration is:\n",
      "[434]\ttraining's multi_logloss: 0.284221\ttraining's wloss: 0.272754\tvalid_1's multi_logloss: 0.750755\tvalid_1's wloss: 0.681128\n",
      "Training until validation scores don't improve for 50 rounds.\n"
     ]
    }
   ],
   "source": [
    "def get_score_for_fnames(fnames):\n",
    "    _, score, imp_orig, oof  = lgbm_modeling_cross_validation(\n",
    "        best_params, full_train=ft2[fnames],\n",
    "        y=y, classes=classes, class_weights=class_weights,\n",
    "        nr_fold=3, random_state=1\n",
    "    )\n",
    "    return score\n",
    "#scores_without = {}\n",
    "for k in tqdm_notebook(ranked_fn):\n",
    "    if k in scores_without:\n",
    "        continue\n",
    "    scores_without[k] = get_score_for_fnames(ranked_fn.drop(k))\n",
    "    print(f'from removing {k}')"
   ]
  },
  {
   "cell_type": "code",
   "execution_count": 636,
   "metadata": {
    "ExecuteTime": {
     "end_time": "2018-11-28T17:31:02.297160Z",
     "start_time": "2018-11-28T17:31:02.243857Z"
    }
   },
   "outputs": [],
   "source": [
    "#ranked_fn"
   ]
  },
  {
   "cell_type": "code",
   "execution_count": 625,
   "metadata": {
    "ExecuteTime": {
     "end_time": "2018-11-28T17:29:26.524313Z",
     "start_time": "2018-11-28T17:29:26.470374Z"
    }
   },
   "outputs": [
    {
     "data": {
      "text/plain": [
       "Index(['0__fft_coefficient__coeff_0__attr_\"abs\"',\n",
       "       '0__fft_coefficient__coeff_1__attr_\"abs\"', '0__kurtosis', '0__skewness',\n",
       "       '1__fft_coefficient__coeff_0__attr_\"abs\"',\n",
       "       '1__fft_coefficient__coeff_1__attr_\"abs\"', '1__kurtosis', '1__skewness',\n",
       "       '2__fft_coefficient__coeff_0__attr_\"abs\"',\n",
       "       '2__fft_coefficient__coeff_1__attr_\"abs\"', '2__kurtosis', '2__skewness',\n",
       "       '3__fft_coefficient__coeff_0__attr_\"abs\"',\n",
       "       '3__fft_coefficient__coeff_1__attr_\"abs\"', '3__kurtosis', '3__skewness',\n",
       "       '4__fft_coefficient__coeff_0__attr_\"abs\"',\n",
       "       '4__fft_coefficient__coeff_1__attr_\"abs\"', '4__kurtosis', '4__skewness',\n",
       "       '5__fft_coefficient__coeff_0__attr_\"abs\"',\n",
       "       '5__fft_coefficient__coeff_1__attr_\"abs\"', '5__kurtosis', '5__skewness',\n",
       "       'detected_mean', 'distmod',\n",
       "       'efficient_flux__partial_autocorrelation__lag_1', 'flux__length',\n",
       "       'flux__longest_strike_above_mean', 'flux__longest_strike_below_mean',\n",
       "       'flux__mean_abs_change', 'flux__mean_change',\n",
       "       'flux_by_flux_ratio_sq__longest_strike_above_mean',\n",
       "       'flux_by_flux_ratio_sq__longest_strike_below_mean',\n",
       "       'flux_by_flux_ratio_sq_skew', 'flux_by_flux_ratio_sq_sum', 'flux_diff1',\n",
       "       'flux_diff2', 'flux_diff3', 'flux_err_max', 'flux_err_mean',\n",
       "       'flux_err_median', 'flux_err_min', 'flux_err_skew', 'flux_err_std',\n",
       "       'flux_max', 'flux_mean', 'flux_median', 'flux_min',\n",
       "       'flux_ratio_sq_skew', 'flux_ratio_sq_sum', 'flux_skew', 'flux_std',\n",
       "       'flux_w_mean', 'haversine', 'hostgal_photoz', 'hostgal_photoz_certain',\n",
       "       'hostgal_photoz_err', 'latlon1', 'mjd__mean_abs_change',\n",
       "       'mjd__mean_change', 'mjd_diff_det', 'mwebv'],\n",
       "      dtype='object')"
      ]
     },
     "execution_count": 625,
     "metadata": {},
     "output_type": "execute_result"
    }
   ],
   "source": [
    "ranked_fn"
   ]
  },
  {
   "cell_type": "code",
   "execution_count": null,
   "metadata": {
    "ExecuteTime": {
     "start_time": "2018-11-28T17:46:20.145Z"
    }
   },
   "outputs": [],
   "source": [
    "scw = pd.Series(scores_without).sort_values()"
   ]
  },
  {
   "cell_type": "code",
   "execution_count": null,
   "metadata": {
    "ExecuteTime": {
     "start_time": "2018-11-28T17:46:21.084Z"
    }
   },
   "outputs": [],
   "source": [
    "scw"
   ]
  },
  {
   "cell_type": "code",
   "execution_count": null,
   "metadata": {
    "ExecuteTime": {
     "start_time": "2018-11-28T17:46:22.355Z"
    }
   },
   "outputs": [],
   "source": [
    "N= 5\n",
    "scores_without5 = {}\n",
    "configs = {}\n",
    "for i in range(10):\n",
    "    if i ==0:\n",
    "        features_to_drop = scw.sort_values().index[:N]\n",
    "    else:\n",
    "        features_to_drop = np.random.choice(ranked_fn, size=N, replace=False)\n",
    "    configs[i] = features_to_drop\n",
    "    scores_without5[i] = get_score_for_fnames(ranked_fn.drop(features_to_drop))"
   ]
  },
  {
   "cell_type": "code",
   "execution_count": null,
   "metadata": {
    "ExecuteTime": {
     "start_time": "2018-11-28T17:47:43.802Z"
    }
   },
   "outputs": [],
   "source": [
    "N= 2\n",
    "for i in tqdm_notebook(range(11, 200)):\n",
    "    if i in configs:\n",
    "        continue\n",
    "    features_to_drop = np.random.choice(ranked_fn, size=N, replace=False)\n",
    "    configs[i] = features_to_drop\n",
    "    scores_without5[i] = get_score_for_fnames(ranked_fn.drop(features_to_drop))\n"
   ]
  },
  {
   "cell_type": "code",
   "execution_count": 595,
   "metadata": {
    "ExecuteTime": {
     "end_time": "2018-11-28T17:03:38.184463Z",
     "start_time": "2018-11-28T17:02:43.121403Z"
    },
    "scrolled": true
   },
   "outputs": [
    {
     "data": {
      "application/vnd.jupyter.widget-view+json": {
       "model_id": "7665091f2b7f40858308ffd6a9634508",
       "version_major": 2,
       "version_minor": 0
      },
      "text/plain": [
       "HBox(children=(IntProgress(value=0, max=3), HTML(value='')))"
      ]
     },
     "metadata": {},
     "output_type": "display_data"
    },
    {
     "name": "stdout",
     "output_type": "stream",
     "text": [
      "Training until validation scores don't improve for 50 rounds.\n",
      "Early stopping, best iteration is:\n",
      "[441]\ttraining's multi_logloss: 0.281112\ttraining's wloss: 0.269796\tvalid_1's multi_logloss: 0.747057\tvalid_1's wloss: 0.687183\n",
      "Training until validation scores don't improve for 50 rounds.\n",
      "Early stopping, best iteration is:\n",
      "[543]\ttraining's multi_logloss: 0.24806\ttraining's wloss: 0.239191\tvalid_1's multi_logloss: 0.70333\tvalid_1's wloss: 0.646628\n",
      "Training until validation scores don't improve for 50 rounds.\n",
      "Early stopping, best iteration is:\n",
      "[554]\ttraining's multi_logloss: 0.243116\ttraining's wloss: 0.233538\tvalid_1's multi_logloss: 0.696061\tvalid_1's wloss: 0.665564\n",
      "OOFMWLL: 0.6665 n_folds=3, nfeatures=63\n"
     ]
    }
   ],
   "source": [
    "fn = get_num_cols(full_train).union(['efficient_flux__binned_entropy__max_bins_10'])\n",
    "res  = lgbm_modeling_cross_validation(\n",
    "    best_params, full_train=ft2[fn],\n",
    "    y=y, classes=classes, class_weights=class_weights,\n",
    "    nr_fold=3, random_state=1\n",
    ")\n",
    "_, score, imp_orig, oof = res"
   ]
  },
  {
   "cell_type": "code",
   "execution_count": 589,
   "metadata": {
    "ExecuteTime": {
     "end_time": "2018-11-28T16:58:48.401239Z",
     "start_time": "2018-11-28T16:58:48.328530Z"
    }
   },
   "outputs": [],
   "source": [
    "agg_importances(imp_orig).to_msgpack('baseline_fi.mp')"
   ]
  },
  {
   "cell_type": "code",
   "execution_count": null,
   "metadata": {},
   "outputs": [],
   "source": []
  },
  {
   "cell_type": "code",
   "execution_count": 586,
   "metadata": {
    "ExecuteTime": {
     "end_time": "2018-11-28T16:56:15.175498Z",
     "start_time": "2018-11-28T16:56:15.122746Z"
    }
   },
   "outputs": [],
   "source": [
    "from plasticc.inspection import build_and_plot_cm"
   ]
  },
  {
   "cell_type": "code",
   "execution_count": null,
   "metadata": {},
   "outputs": [],
   "source": []
  },
  {
   "cell_type": "code",
   "execution_count": 588,
   "metadata": {
    "ExecuteTime": {
     "end_time": "2018-11-28T16:58:14.581322Z",
     "start_time": "2018-11-28T16:58:14.414227Z"
    }
   },
   "outputs": [],
   "source": [
    "#build_and_plot_cm(y, oof)"
   ]
  },
  {
   "cell_type": "code",
   "execution_count": 580,
   "metadata": {
    "ExecuteTime": {
     "end_time": "2018-11-28T16:49:49.872431Z",
     "start_time": "2018-11-28T16:49:49.801538Z"
    }
   },
   "outputs": [
    {
     "data": {
      "text/plain": [
       "mean_gain    78.0\n",
       "std_gain     10.0\n",
       "len_gain      3.0\n",
       "Name: score, dtype: float64"
      ]
     },
     "execution_count": 580,
     "metadata": {},
     "output_type": "execute_result"
    }
   ],
   "source": [
    "agg_importances(imp_orig).loc['score']"
   ]
  },
  {
   "cell_type": "code",
   "execution_count": 570,
   "metadata": {
    "ExecuteTime": {
     "end_time": "2018-11-28T16:38:04.991818Z",
     "start_time": "2018-11-28T16:37:07.395719Z"
    }
   },
   "outputs": [
    {
     "data": {
      "application/vnd.jupyter.widget-view+json": {
       "model_id": "7303c75484f54c4f9ec2656af6419c19",
       "version_major": 2,
       "version_minor": 0
      },
      "text/plain": [
       "HBox(children=(IntProgress(value=0, max=3), HTML(value='')))"
      ]
     },
     "metadata": {},
     "output_type": "display_data"
    },
    {
     "name": "stdout",
     "output_type": "stream",
     "text": [
      "Training until validation scores don't improve for 50 rounds.\n",
      "Early stopping, best iteration is:\n",
      "[434]\ttraining's multi_logloss: 0.265213\ttraining's wloss: 0.254591\tvalid_1's multi_logloss: 0.74187\tvalid_1's wloss: 0.699232\n",
      "no 1-fold loss: 0.6992\n",
      "Training until validation scores don't improve for 50 rounds.\n",
      "Early stopping, best iteration is:\n",
      "[407]\ttraining's multi_logloss: 0.282543\ttraining's wloss: 0.273553\tvalid_1's multi_logloss: 0.728268\tvalid_1's wloss: 0.660829\n",
      "no 2-fold loss: 0.6608\n",
      "Training until validation scores don't improve for 50 rounds.\n",
      "Early stopping, best iteration is:\n",
      "[505]\ttraining's multi_logloss: 0.242221\ttraining's wloss: 0.232608\tvalid_1's multi_logloss: 0.690807\tvalid_1's wloss: 0.655596\n",
      "no 3-fold loss: 0.6556\n",
      "MULTI WEIGHTED LOG LOSS: 0.6719\n"
     ]
    }
   ],
   "source": [
    "res  = lgbm_modeling_cross_validation(\n",
    "    best_params, full_train=ft2[fnames], y=y, classes=classes, class_weights=class_weights,\n",
    "    nr_fold=3, random_state=1\n",
    ")\n",
    "_, score, imp2, oof = res\n",
    "#del res"
   ]
  },
  {
   "cell_type": "code",
   "execution_count": 571,
   "metadata": {
    "ExecuteTime": {
     "end_time": "2018-11-28T16:39:55.562940Z",
     "start_time": "2018-11-28T16:39:55.493020Z"
    }
   },
   "outputs": [
    {
     "data": {
      "text/plain": [
       "103"
      ]
     },
     "execution_count": 571,
     "metadata": {},
     "output_type": "execute_result"
    }
   ],
   "source": [
    "len(fnames)"
   ]
  },
  {
   "cell_type": "code",
   "execution_count": 549,
   "metadata": {
    "ExecuteTime": {
     "end_time": "2018-11-28T16:25:53.901740Z",
     "start_time": "2018-11-28T16:25:53.849798Z"
    }
   },
   "outputs": [],
   "source": [
    "from plasticc.forked_lgbm_script import agg_importances"
   ]
  },
  {
   "cell_type": "code",
   "execution_count": 557,
   "metadata": {
    "ExecuteTime": {
     "end_time": "2018-11-28T16:32:42.062964Z",
     "start_time": "2018-11-28T16:32:41.998495Z"
    }
   },
   "outputs": [
    {
     "data": {
      "text/plain": [
       "feature\n",
       "hostgal_photoz            1425.0\n",
       "mjd_diff_det              1164.0\n",
       "distmod                    840.0\n",
       "hostgal_photoz_err         751.0\n",
       "hostgal_photoz_certain     655.0\n",
       "Name: mean_gain, dtype: float64"
      ]
     },
     "execution_count": 557,
     "metadata": {},
     "output_type": "execute_result"
    }
   ],
   "source": [
    "read_importances().round().head()"
   ]
  },
  {
   "cell_type": "code",
   "execution_count": 576,
   "metadata": {
    "ExecuteTime": {
     "end_time": "2018-11-28T16:43:27.272005Z",
     "start_time": "2018-11-28T16:43:27.202334Z"
    }
   },
   "outputs": [
    {
     "data": {
      "text/plain": [
       "mean_gain    106\n",
       "std_gain       3\n",
       "len_gain       3\n",
       "dtype: int64"
      ]
     },
     "execution_count": 576,
     "metadata": {},
     "output_type": "execute_result"
    }
   ],
   "source": [
    "fi = agg_importances(imp2)\n",
    "fi.round().astype(int)"
   ]
  },
  {
   "cell_type": "code",
   "execution_count": 574,
   "metadata": {
    "ExecuteTime": {
     "end_time": "2018-11-28T16:43:06.606777Z",
     "start_time": "2018-11-28T16:43:06.542103Z"
    }
   },
   "outputs": [
    {
     "data": {
      "text/plain": [
       "(97, 3)"
      ]
     },
     "execution_count": 574,
     "metadata": {},
     "output_type": "execute_result"
    }
   ],
   "source": [
    "fi.shape"
   ]
  },
  {
   "cell_type": "code",
   "execution_count": 575,
   "metadata": {
    "ExecuteTime": {
     "end_time": "2018-11-28T16:43:15.657232Z",
     "start_time": "2018-11-28T16:43:15.603197Z"
    }
   },
   "outputs": [
    {
     "data": {
      "text/plain": [
       "Index(['ddf', 'decl', 'gal_b', 'gal_l', 'hostgal_specz', 'ra'], dtype='object')"
      ]
     },
     "execution_count": 575,
     "metadata": {},
     "output_type": "execute_result"
    }
   ],
   "source": [
    "fnames.difference(fi.index)"
   ]
  },
  {
   "cell_type": "code",
   "execution_count": null,
   "metadata": {},
   "outputs": [],
   "source": []
  },
  {
   "cell_type": "code",
   "execution_count": 546,
   "metadata": {
    "ExecuteTime": {
     "end_time": "2018-11-28T16:19:22.529326Z",
     "start_time": "2018-11-28T16:19:22.475815Z"
    }
   },
   "outputs": [],
   "source": [
    "#k"
   ]
  },
  {
   "cell_type": "code",
   "execution_count": null,
   "metadata": {},
   "outputs": [],
   "source": []
  },
  {
   "cell_type": "code",
   "execution_count": 382,
   "metadata": {
    "ExecuteTime": {
     "end_time": "2018-11-28T11:32:16.348499Z",
     "start_time": "2018-11-28T11:31:10.851077Z"
    },
    "scrolled": true
   },
   "outputs": [
    {
     "data": {
      "application/vnd.jupyter.widget-view+json": {
       "model_id": "67990f38bc164173b25e2c7546e76406",
       "version_major": 2,
       "version_minor": 0
      },
      "text/plain": [
       "HBox(children=(IntProgress(value=0, max=3), HTML(value='')))"
      ]
     },
     "metadata": {},
     "output_type": "display_data"
    },
    {
     "name": "stdout",
     "output_type": "stream",
     "text": [
      "Training until validation scores don't improve for 50 rounds.\n",
      "[100]\ttraining's multi_logloss: 0.717645\ttraining's wloss: 0.711326\tvalid_1's multi_logloss: 1.09423\tvalid_1's wloss: 0.957021\n",
      "[200]\ttraining's multi_logloss: 0.449317\ttraining's wloss: 0.440026\tvalid_1's multi_logloss: 0.87005\tvalid_1's wloss: 0.760878\n",
      "[300]\ttraining's multi_logloss: 0.341333\ttraining's wloss: 0.331064\tvalid_1's multi_logloss: 0.791509\tvalid_1's wloss: 0.71334\n",
      "[400]\ttraining's multi_logloss: 0.279137\ttraining's wloss: 0.268861\tvalid_1's multi_logloss: 0.752468\tvalid_1's wloss: 0.707887\n",
      "Early stopping, best iteration is:\n",
      "[407]\ttraining's multi_logloss: 0.275512\ttraining's wloss: 0.265282\tvalid_1's multi_logloss: 0.750057\tvalid_1's wloss: 0.70735\n",
      "no 1-fold loss: 0.7073500719592112\n",
      "Training until validation scores don't improve for 50 rounds.\n",
      "[100]\ttraining's multi_logloss: 0.724507\ttraining's wloss: 0.718836\tvalid_1's multi_logloss: 1.08705\tvalid_1's wloss: 0.921916\n",
      "[200]\ttraining's multi_logloss: 0.455624\ttraining's wloss: 0.447643\tvalid_1's multi_logloss: 0.854277\tvalid_1's wloss: 0.722326\n",
      "[300]\ttraining's multi_logloss: 0.347785\ttraining's wloss: 0.338851\tvalid_1's multi_logloss: 0.77429\tvalid_1's wloss: 0.68114\n",
      "[400]\ttraining's multi_logloss: 0.285734\ttraining's wloss: 0.276645\tvalid_1's multi_logloss: 0.73435\tvalid_1's wloss: 0.668691\n",
      "Early stopping, best iteration is:\n",
      "[407]\ttraining's multi_logloss: 0.282165\ttraining's wloss: 0.273136\tvalid_1's multi_logloss: 0.731839\tvalid_1's wloss: 0.668188\n",
      "no 2-fold loss: 0.6681876266774697\n",
      "Training until validation scores don't improve for 50 rounds.\n",
      "[100]\ttraining's multi_logloss: 0.719261\ttraining's wloss: 0.712178\tvalid_1's multi_logloss: 1.09612\tvalid_1's wloss: 0.942257\n",
      "[200]\ttraining's multi_logloss: 0.45279\ttraining's wloss: 0.443853\tvalid_1's multi_logloss: 0.859479\tvalid_1's wloss: 0.741061\n",
      "[300]\ttraining's multi_logloss: 0.34549\ttraining's wloss: 0.335992\tvalid_1's multi_logloss: 0.770292\tvalid_1's wloss: 0.692091\n",
      "[400]\ttraining's multi_logloss: 0.283576\ttraining's wloss: 0.274059\tvalid_1's multi_logloss: 0.727319\tvalid_1's wloss: 0.679237\n",
      "Early stopping, best iteration is:\n",
      "[440]\ttraining's multi_logloss: 0.264706\ttraining's wloss: 0.255004\tvalid_1's multi_logloss: 0.714099\tvalid_1's wloss: 0.677328\n",
      "no 3-fold loss: 0.6773275103165605\n",
      "MULTI WEIGHTED LOG LOSS: 0.68434\n"
     ]
    }
   ],
   "source": [
    "best_params.update({'n_estimators': 1200})\n",
    "# modeling from CV\n",
    "_, score, imp = eval_func(best_params)"
   ]
  },
  {
   "cell_type": "code",
   "execution_count": 390,
   "metadata": {
    "ExecuteTime": {
     "end_time": "2018-11-28T12:06:40.211140Z",
     "start_time": "2018-11-28T12:06:40.155631Z"
    }
   },
   "outputs": [],
   "source": [
    "#score"
   ]
  },
  {
   "cell_type": "code",
   "execution_count": 383,
   "metadata": {
    "ExecuteTime": {
     "end_time": "2018-11-28T11:32:57.061456Z",
     "start_time": "2018-11-28T11:32:56.958611Z"
    }
   },
   "outputs": [],
   "source": [
    "imp = read_importances()"
   ]
  },
  {
   "cell_type": "code",
   "execution_count": 392,
   "metadata": {
    "ExecuteTime": {
     "end_time": "2018-11-28T12:08:21.558001Z",
     "start_time": "2018-11-28T12:08:21.500374Z"
    }
   },
   "outputs": [],
   "source": [
    "useful_efficient_flux_feats = imp.loc[lambda x: x.index.str.startswith('efficient')].loc[lambda x: x > 100].index"
   ]
  },
  {
   "cell_type": "code",
   "execution_count": null,
   "metadata": {},
   "outputs": [],
   "source": []
  },
  {
   "cell_type": "code",
   "execution_count": 348,
   "metadata": {
    "ExecuteTime": {
     "end_time": "2018-11-28T08:27:18.878836Z",
     "start_time": "2018-11-28T08:27:18.796862Z"
    }
   },
   "outputs": [],
   "source": [
    "os.chdir(KRL_PATH)\n",
    "from shleifer.utils import *\n",
    "os.chdir(DATA_DIR)"
   ]
  },
  {
   "cell_type": "code",
   "execution_count": 350,
   "metadata": {
    "ExecuteTime": {
     "end_time": "2018-11-28T08:27:24.706829Z",
     "start_time": "2018-11-28T08:27:24.619520Z"
    }
   },
   "outputs": [
    {
     "data": {
      "text/plain": [
       "variable\n",
       "minimal_flux__median                    310.333333\n",
       "minimal_detected__standard_deviation    243.333333\n",
       "minimal_flux_err__minimum               237.333333\n",
       "minimal_detected__sum_values            208.333333\n",
       "minimal_detected__variance              182.333333\n",
       "minimal_flux__sum_values                177.333333\n",
       "minimal_passband__mean                  176.000000\n",
       "minimal_flux__maximum                   155.333333\n",
       "minimal_passband__sum_values            153.333333\n",
       "minimal_detected__mean                  147.000000\n",
       "minimal_flux__minimum                   144.000000\n",
       "minimal_flux_err__sum_values            129.000000\n",
       "minimal_passband__standard_deviation    125.333333\n",
       "minimal_flux_err__standard_deviation    123.333333\n",
       "minimal_flux__standard_deviation        108.000000\n",
       "minimal_flux__mean                       92.666667\n",
       "minimal_flux_err__maximum                83.666667\n",
       "minimal_passband__variance               75.666667\n",
       "minimal_flux_err__median                 73.333333\n",
       "minimal_flux_err__mean                   70.333333\n",
       "minimal_flux_err__variance               68.333333\n",
       "minimal_detected__length                 50.333333\n",
       "minimal_flux__variance                   48.333333\n",
       "minimal_flux__length                     28.000000\n",
       "minimal_flux_err__length                 18.666667\n",
       "minimal_passband__length                  8.666667\n",
       "minimal_detected__median                  7.666667\n",
       "minimal_passband__median                  6.666667\n",
       "minimal_passband__maximum                 0.000000\n",
       "minimal_detected__minimum                 0.000000\n",
       "minimal_passband__minimum                 0.000000\n",
       "minimal_detected__maximum                 0.000000\n",
       "Name: mean_gain, dtype: float64"
      ]
     },
     "execution_count": 350,
     "metadata": {},
     "output_type": "execute_result"
    }
   ],
   "source": [
    "imp.loc[min_feat.columns].pipe(blind_descending_sort)"
   ]
  },
  {
   "cell_type": "code",
   "execution_count": 225,
   "metadata": {
    "ExecuteTime": {
     "end_time": "2018-11-28T06:14:36.906145Z",
     "start_time": "2018-11-28T06:14:36.853402Z"
    }
   },
   "outputs": [],
   "source": [
    "fnames = full_train.columns\n",
    "from glob import glob"
   ]
  },
  {
   "cell_type": "code",
   "execution_count": 230,
   "metadata": {
    "ExecuteTime": {
     "end_time": "2018-11-28T06:14:59.959741Z",
     "start_time": "2018-11-28T06:14:59.909696Z"
    }
   },
   "outputs": [],
   "source": [
    "#sorted(paths)"
   ]
  },
  {
   "cell_type": "code",
   "execution_count": 234,
   "metadata": {
    "ExecuteTime": {
     "end_time": "2018-11-28T06:15:49.455422Z",
     "start_time": "2018-11-28T06:15:49.404691Z"
    }
   },
   "outputs": [],
   "source": [
    "from plasticc.forked_lgbm_script import make_pred_df"
   ]
  },
  {
   "cell_type": "code",
   "execution_count": 237,
   "metadata": {
    "ExecuteTime": {
     "end_time": "2018-11-28T06:51:13.011710Z",
     "start_time": "2018-11-28T06:17:33.310951Z"
    }
   },
   "outputs": [
    {
     "data": {
      "application/vnd.jupyter.widget-view+json": {
       "model_id": "5d1018ac6a1c46dc997a2ea11486e86a",
       "version_major": 2,
       "version_minor": 0
      },
      "text/plain": [
       "HBox(children=(IntProgress(value=0, max=92), HTML(value='')))"
      ]
     },
     "metadata": {},
     "output_type": "display_data"
    }
   ],
   "source": [
    "raw_chunks_pat='chunked_test_df/*.mp'\n",
    "save_path = 'preds_10_fold.csv'\n",
    "paths = sorted(list(glob(raw_chunks_pat)))\n",
    "for i, pth in tqdm_notebook(enumerate(paths), total=len(paths)):\n",
    "#     i_c = os.path.basename(pth)[:-3]   # could just use i?\n",
    "    feat_cache_path = f'feature_cache/{i}.mp'\n",
    "#     df = pd.read_msgpack(pth)\n",
    "    feats = pd.read_msgpack(feat_cache_path)\n",
    "#     test_feat_df = self.add_features(df, feats)\n",
    "    preds_df = make_pred_df(clfs, fnames, feats)\n",
    "    if i == 0:\n",
    "        preds_df.to_csv(save_path, index=False)\n",
    "    else:\n",
    "        preds_df.to_csv(save_path, header=False, mode='a', index=False)"
   ]
  },
  {
   "cell_type": "code",
   "execution_count": 249,
   "metadata": {
    "ExecuteTime": {
     "end_time": "2018-11-28T06:57:20.419768Z",
     "start_time": "2018-11-28T06:57:04.083661Z"
    }
   },
   "outputs": [],
   "source": [
    "sub_new  = pd.read_csv('preds_10_fold.csv')"
   ]
  },
  {
   "cell_type": "code",
   "execution_count": 254,
   "metadata": {
    "ExecuteTime": {
     "end_time": "2018-11-28T07:28:23.908116Z",
     "start_time": "2018-11-28T07:28:23.852562Z"
    }
   },
   "outputs": [],
   "source": [
    "from plasticc.inspection import GenUnknown"
   ]
  },
  {
   "cell_type": "code",
   "execution_count": 255,
   "metadata": {
    "ExecuteTime": {
     "end_time": "2018-11-28T07:28:40.232701Z",
     "start_time": "2018-11-28T07:28:32.252492Z"
    }
   },
   "outputs": [],
   "source": [
    "class_99 = GenUnknown(sub_new)"
   ]
  },
  {
   "cell_type": "code",
   "execution_count": 256,
   "metadata": {
    "ExecuteTime": {
     "end_time": "2018-11-28T07:28:40.495761Z",
     "start_time": "2018-11-28T07:28:40.438414Z"
    }
   },
   "outputs": [
    {
     "data": {
      "text/plain": [
       "(3492890,)"
      ]
     },
     "execution_count": 256,
     "metadata": {},
     "output_type": "execute_result"
    }
   ],
   "source": [
    "class_99.shape"
   ]
  },
  {
   "cell_type": "code",
   "execution_count": 259,
   "metadata": {
    "ExecuteTime": {
     "end_time": "2018-11-28T07:31:20.252368Z",
     "start_time": "2018-11-28T07:31:20.168190Z"
    }
   },
   "outputs": [],
   "source": [
    "sub_new['class_99'] = class_99"
   ]
  },
  {
   "cell_type": "code",
   "execution_count": 260,
   "metadata": {
    "ExecuteTime": {
     "end_time": "2018-11-28T07:33:10.393144Z",
     "start_time": "2018-11-28T07:31:34.379842Z"
    }
   },
   "outputs": [],
   "source": [
    "sub_new.to_csv('preds_10_fold_new_99.csv', index=False)"
   ]
  },
  {
   "cell_type": "code",
   "execution_count": null,
   "metadata": {},
   "outputs": [],
   "source": []
  },
  {
   "cell_type": "code",
   "execution_count": 251,
   "metadata": {
    "ExecuteTime": {
     "end_time": "2018-11-28T06:57:20.550882Z",
     "start_time": "2018-11-28T06:57:20.490521Z"
    }
   },
   "outputs": [
    {
     "data": {
      "text/plain": [
       "0"
      ]
     },
     "execution_count": 251,
     "metadata": {},
     "output_type": "execute_result"
    }
   ],
   "source": [
    "sub_new.shape[0] - 3492890"
   ]
  },
  {
   "cell_type": "code",
   "execution_count": 261,
   "metadata": {
    "ExecuteTime": {
     "end_time": "2018-11-28T07:33:58.680250Z",
     "start_time": "2018-11-28T07:33:28.735124Z"
    }
   },
   "outputs": [
    {
     "name": "stdout",
     "output_type": "stream",
     "text": [
      "100%|██████████████████████████████████████| 1.05G/1.05G [00:28<00:00, 40.2MB/s]\n",
      "Successfully submitted to PLAsTiCC Astronomical Classification"
     ]
    }
   ],
   "source": [
    "!kaggle competitions submit -c PLAsTiCC-2018 -f preds_10_fold_new_99.csv -m \"10 fold new 99 getUnknown\""
   ]
  },
  {
   "cell_type": "code",
   "execution_count": 245,
   "metadata": {
    "ExecuteTime": {
     "end_time": "2018-11-28T06:55:50.472424Z",
     "start_time": "2018-11-28T06:54:02.630331Z"
    }
   },
   "outputs": [],
   "source": [
    "sub_new.drop_duplicates(subset=['object_id']).to_csv('preds_10_fold.csv', index=False)"
   ]
  },
  {
   "cell_type": "code",
   "execution_count": 110,
   "metadata": {
    "ExecuteTime": {
     "end_time": "2018-11-27T22:21:12.358145Z",
     "start_time": "2018-11-27T22:21:12.295846Z"
    }
   },
   "outputs": [],
   "source": [
    "''#!mv lgbm_importances.csv v0_lgbm_importances.csv"
   ]
  },
  {
   "cell_type": "code",
   "execution_count": 18,
   "metadata": {
    "ExecuteTime": {
     "end_time": "2018-11-27T21:14:37.798709Z",
     "start_time": "2018-11-27T21:14:37.742885Z"
    }
   },
   "outputs": [],
   "source": [
    "from plasticc.inspection import *"
   ]
  },
  {
   "cell_type": "markdown",
   "metadata": {
    "ExecuteTime": {
     "end_time": "2018-11-27T21:14:43.758093Z",
     "start_time": "2018-11-27T21:14:43.705929Z"
    }
   },
   "source": [
    "### Inference Hacks"
   ]
  },
  {
   "cell_type": "code",
   "execution_count": 21,
   "metadata": {
    "ExecuteTime": {
     "end_time": "2018-11-27T21:18:37.564950Z",
     "start_time": "2018-11-27T21:18:29.549582Z"
    }
   },
   "outputs": [],
   "source": [
    "meta_test = process_meta(DATA_DIR / 'test_set_metadata.csv')"
   ]
  },
  {
   "cell_type": "code",
   "execution_count": 23,
   "metadata": {
    "ExecuteTime": {
     "end_time": "2018-11-27T21:19:02.043432Z",
     "start_time": "2018-11-27T21:18:59.645938Z"
    }
   },
   "outputs": [],
   "source": [
    "meta_test.to_msgpack('processed_test_set_meta.mp')"
   ]
  },
  {
   "cell_type": "code",
   "execution_count": 120,
   "metadata": {
    "ExecuteTime": {
     "end_time": "2018-11-27T22:43:25.764296Z",
     "start_time": "2018-11-27T22:43:25.713727Z"
    }
   },
   "outputs": [],
   "source": [
    "from plasticc.forked_lgbm_script import process_test\n"
   ]
  },
  {
   "cell_type": "code",
   "execution_count": 119,
   "metadata": {
    "ExecuteTime": {
     "end_time": "2018-11-27T22:43:02.562823Z",
     "start_time": "2018-11-27T22:43:02.499193Z"
    }
   },
   "outputs": [
    {
     "ename": "NameError",
     "evalue": "name 'df' is not defined",
     "output_type": "error",
     "traceback": [
      "\u001b[0;31m---------------------------------------------------------------------------\u001b[0m",
      "\u001b[0;31mNameError\u001b[0m                                 Traceback (most recent call last)",
      "\u001b[0;32m<ipython-input-119-b7ec48e0f2bf>\u001b[0m in \u001b[0;36m<module>\u001b[0;34m()\u001b[0m\n\u001b[0;32m----> 1\u001b[0;31m \u001b[0;32mdel\u001b[0m \u001b[0mdf\u001b[0m\u001b[0;34m\u001b[0m\u001b[0m\n\u001b[0m",
      "\u001b[0;31mNameError\u001b[0m: name 'df' is not defined"
     ]
    }
   ],
   "source": [
    "del df"
   ]
  },
  {
   "cell_type": "code",
   "execution_count": 131,
   "metadata": {
    "ExecuteTime": {
     "end_time": "2018-11-28T03:11:44.607651Z",
     "start_time": "2018-11-27T22:55:21.434938Z"
    }
   },
   "outputs": [
    {
     "name": "stdout",
     "output_type": "stream",
     "text": [
      "feature_cache\n",
      "{'object_id': <class 'numpy.int32'>, 'mjd': <class 'numpy.float32'>, 'passband': <class 'numpy.int8'>, 'flux': <class 'numpy.float32'>, 'flux_err': <class 'numpy.float32'>, 'detected': <class 'numpy.int8'>}\n"
     ]
    },
    {
     "data": {
      "application/vnd.jupyter.widget-view+json": {
       "model_id": "1a6670879d1c4c2e8fbe66d8b6ef6fe6",
       "version_major": 2,
       "version_minor": 0
      },
      "text/plain": [
       "HBox(children=(IntProgress(value=0, max=91), HTML(value='')))"
      ]
     },
     "metadata": {},
     "output_type": "display_data"
    },
    {
     "name": "stderr",
     "output_type": "stream",
     "text": [
      "Feature Extraction: 100%|██████████| 20/20 [00:03<00:00,  5.58it/s]\n",
      "Feature Extraction: 100%|██████████| 20/20 [00:02<00:00,  9.29it/s]\n"
     ]
    },
    {
     "name": "stdout",
     "output_type": "stream",
     "text": [
      "        5000000 done in   1.5 minutes\n"
     ]
    },
    {
     "name": "stderr",
     "output_type": "stream",
     "text": [
      "Feature Extraction: 100%|██████████| 20/20 [00:03<00:00,  5.50it/s]\n",
      "Feature Extraction: 100%|██████████| 20/20 [00:02<00:00,  8.97it/s]\n"
     ]
    },
    {
     "name": "stdout",
     "output_type": "stream",
     "text": [
      "       10000000 done in   3.0 minutes\n"
     ]
    },
    {
     "name": "stderr",
     "output_type": "stream",
     "text": [
      "Feature Extraction: 100%|██████████| 20/20 [00:05<00:00,  3.46it/s]\n",
      "Feature Extraction: 100%|██████████| 20/20 [00:05<00:00,  3.82it/s]\n"
     ]
    },
    {
     "name": "stdout",
     "output_type": "stream",
     "text": [
      "       15000000 done in   5.7 minutes\n"
     ]
    },
    {
     "name": "stderr",
     "output_type": "stream",
     "text": [
      "Feature Extraction: 100%|██████████| 20/20 [00:05<00:00,  3.36it/s]\n",
      "Feature Extraction: 100%|██████████| 20/20 [00:04<00:00,  4.18it/s]\n"
     ]
    },
    {
     "name": "stdout",
     "output_type": "stream",
     "text": [
      "       20000000 done in   8.7 minutes\n"
     ]
    },
    {
     "name": "stderr",
     "output_type": "stream",
     "text": [
      "Feature Extraction: 100%|██████████| 20/20 [00:07<00:00,  2.77it/s]\n",
      "Feature Extraction: 100%|██████████| 20/20 [00:05<00:00,  3.40it/s]\n"
     ]
    },
    {
     "name": "stdout",
     "output_type": "stream",
     "text": [
      "       25000000 done in  11.8 minutes\n"
     ]
    },
    {
     "name": "stderr",
     "output_type": "stream",
     "text": [
      "Feature Extraction: 100%|██████████| 20/20 [00:06<00:00,  3.25it/s]\n",
      "Feature Extraction: 100%|██████████| 20/20 [00:05<00:00,  3.85it/s]\n"
     ]
    },
    {
     "name": "stdout",
     "output_type": "stream",
     "text": [
      "       30000000 done in  14.8 minutes\n"
     ]
    },
    {
     "name": "stderr",
     "output_type": "stream",
     "text": [
      "Feature Extraction: 100%|██████████| 20/20 [00:09<00:00,  2.20it/s]\n",
      "Feature Extraction: 100%|██████████| 20/20 [00:05<00:00,  3.68it/s]\n"
     ]
    },
    {
     "name": "stdout",
     "output_type": "stream",
     "text": [
      "       35000000 done in  17.9 minutes\n"
     ]
    },
    {
     "name": "stderr",
     "output_type": "stream",
     "text": [
      "Feature Extraction: 100%|██████████| 20/20 [00:09<00:00,  2.12it/s]\n",
      "Feature Extraction: 100%|██████████| 20/20 [00:05<00:00,  3.67it/s]\n"
     ]
    },
    {
     "name": "stdout",
     "output_type": "stream",
     "text": [
      "       40000000 done in  21.2 minutes\n"
     ]
    },
    {
     "name": "stderr",
     "output_type": "stream",
     "text": [
      "Feature Extraction: 100%|██████████| 20/20 [00:05<00:00,  3.38it/s]\n",
      "Feature Extraction: 100%|██████████| 20/20 [00:04<00:00,  4.01it/s]\n"
     ]
    },
    {
     "name": "stdout",
     "output_type": "stream",
     "text": [
      "       45000000 done in  24.1 minutes\n"
     ]
    },
    {
     "name": "stderr",
     "output_type": "stream",
     "text": [
      "Feature Extraction: 100%|██████████| 20/20 [00:06<00:00,  3.31it/s]\n",
      "Feature Extraction: 100%|██████████| 20/20 [00:05<00:00,  3.98it/s]\n"
     ]
    },
    {
     "name": "stdout",
     "output_type": "stream",
     "text": [
      "       50000000 done in  26.9 minutes\n"
     ]
    },
    {
     "name": "stderr",
     "output_type": "stream",
     "text": [
      "Feature Extraction: 100%|██████████| 20/20 [00:06<00:00,  3.14it/s]\n",
      "Feature Extraction: 100%|██████████| 20/20 [00:05<00:00,  3.90it/s]\n"
     ]
    },
    {
     "name": "stdout",
     "output_type": "stream",
     "text": [
      "       55000000 done in  30.4 minutes\n"
     ]
    },
    {
     "name": "stderr",
     "output_type": "stream",
     "text": [
      "Feature Extraction: 100%|██████████| 20/20 [00:08<00:00,  2.26it/s]\n",
      "Feature Extraction: 100%|██████████| 20/20 [00:06<00:00,  3.14it/s]\n"
     ]
    },
    {
     "name": "stdout",
     "output_type": "stream",
     "text": [
      "       60000000 done in  34.2 minutes\n"
     ]
    },
    {
     "name": "stderr",
     "output_type": "stream",
     "text": [
      "Feature Extraction: 100%|██████████| 20/20 [00:06<00:00,  3.05it/s]\n",
      "Feature Extraction: 100%|██████████| 20/20 [00:05<00:00,  3.44it/s]\n"
     ]
    },
    {
     "name": "stdout",
     "output_type": "stream",
     "text": [
      "       65000000 done in  37.7 minutes\n"
     ]
    },
    {
     "name": "stderr",
     "output_type": "stream",
     "text": [
      "Feature Extraction: 100%|██████████| 20/20 [00:06<00:00,  3.24it/s]\n",
      "Feature Extraction: 100%|██████████| 20/20 [00:05<00:00,  3.48it/s]\n"
     ]
    },
    {
     "name": "stdout",
     "output_type": "stream",
     "text": [
      "       70000000 done in  41.1 minutes\n"
     ]
    },
    {
     "name": "stderr",
     "output_type": "stream",
     "text": [
      "Feature Extraction: 100%|██████████| 20/20 [00:06<00:00,  2.93it/s]\n",
      "Feature Extraction: 100%|██████████| 20/20 [00:05<00:00,  3.87it/s]\n"
     ]
    },
    {
     "name": "stdout",
     "output_type": "stream",
     "text": [
      "       75000000 done in  44.5 minutes\n"
     ]
    },
    {
     "name": "stderr",
     "output_type": "stream",
     "text": [
      "Feature Extraction: 100%|██████████| 20/20 [00:06<00:00,  3.06it/s]\n",
      "Feature Extraction: 100%|██████████| 20/20 [00:05<00:00,  3.44it/s]\n"
     ]
    },
    {
     "name": "stdout",
     "output_type": "stream",
     "text": [
      "       80000000 done in  47.5 minutes\n"
     ]
    },
    {
     "name": "stderr",
     "output_type": "stream",
     "text": [
      "Feature Extraction: 100%|██████████| 20/20 [00:05<00:00,  3.40it/s]\n",
      "Feature Extraction: 100%|██████████| 20/20 [00:04<00:00,  4.56it/s]\n"
     ]
    },
    {
     "name": "stdout",
     "output_type": "stream",
     "text": [
      "       85000000 done in  50.4 minutes\n"
     ]
    },
    {
     "name": "stderr",
     "output_type": "stream",
     "text": [
      "Feature Extraction: 100%|██████████| 20/20 [00:06<00:00,  3.31it/s]\n",
      "Feature Extraction: 100%|██████████| 20/20 [00:04<00:00,  4.37it/s]\n"
     ]
    },
    {
     "name": "stdout",
     "output_type": "stream",
     "text": [
      "       90000000 done in  53.4 minutes\n"
     ]
    },
    {
     "name": "stderr",
     "output_type": "stream",
     "text": [
      "Feature Extraction: 100%|██████████| 20/20 [00:07<00:00,  2.71it/s]\n",
      "Feature Extraction: 100%|██████████| 20/20 [00:06<00:00,  3.32it/s]\n"
     ]
    },
    {
     "name": "stdout",
     "output_type": "stream",
     "text": [
      "       95000000 done in  56.6 minutes\n"
     ]
    },
    {
     "name": "stderr",
     "output_type": "stream",
     "text": [
      "Feature Extraction: 100%|██████████| 20/20 [00:07<00:00,  2.77it/s]\n",
      "Feature Extraction: 100%|██████████| 20/20 [00:05<00:00,  3.50it/s]\n"
     ]
    },
    {
     "name": "stdout",
     "output_type": "stream",
     "text": [
      "      100000000 done in  60.0 minutes\n"
     ]
    },
    {
     "name": "stderr",
     "output_type": "stream",
     "text": [
      "Feature Extraction: 100%|██████████| 20/20 [00:05<00:00,  3.41it/s]\n",
      "Feature Extraction: 100%|██████████| 20/20 [00:04<00:00,  4.18it/s]\n"
     ]
    },
    {
     "name": "stdout",
     "output_type": "stream",
     "text": [
      "      105000000 done in  62.9 minutes\n"
     ]
    },
    {
     "name": "stderr",
     "output_type": "stream",
     "text": [
      "Feature Extraction: 100%|██████████| 20/20 [00:05<00:00,  3.41it/s]\n",
      "Feature Extraction: 100%|██████████| 20/20 [00:04<00:00,  4.19it/s]\n"
     ]
    },
    {
     "name": "stdout",
     "output_type": "stream",
     "text": [
      "      110000000 done in  65.7 minutes\n"
     ]
    },
    {
     "name": "stderr",
     "output_type": "stream",
     "text": [
      "Feature Extraction: 100%|██████████| 20/20 [00:07<00:00,  2.80it/s]\n",
      "Feature Extraction: 100%|██████████| 20/20 [00:06<00:00,  3.16it/s]\n"
     ]
    },
    {
     "name": "stdout",
     "output_type": "stream",
     "text": [
      "      115000000 done in  69.0 minutes\n"
     ]
    },
    {
     "name": "stderr",
     "output_type": "stream",
     "text": [
      "Feature Extraction: 100%|██████████| 20/20 [00:06<00:00,  3.21it/s]\n",
      "Feature Extraction: 100%|██████████| 20/20 [00:05<00:00,  3.46it/s]\n"
     ]
    },
    {
     "name": "stdout",
     "output_type": "stream",
     "text": [
      "      120000000 done in  72.1 minutes\n"
     ]
    },
    {
     "name": "stderr",
     "output_type": "stream",
     "text": [
      "Feature Extraction: 100%|██████████| 20/20 [00:05<00:00,  3.34it/s]\n",
      "Feature Extraction: 100%|██████████| 20/20 [00:05<00:00,  3.84it/s]\n"
     ]
    },
    {
     "name": "stdout",
     "output_type": "stream",
     "text": [
      "      125000000 done in  75.2 minutes\n"
     ]
    },
    {
     "name": "stderr",
     "output_type": "stream",
     "text": [
      "Feature Extraction: 100%|██████████| 20/20 [00:06<00:00,  3.11it/s]\n",
      "Feature Extraction: 100%|██████████| 20/20 [00:05<00:00,  3.63it/s]\n"
     ]
    },
    {
     "name": "stdout",
     "output_type": "stream",
     "text": [
      "      130000000 done in  78.3 minutes\n"
     ]
    },
    {
     "name": "stderr",
     "output_type": "stream",
     "text": [
      "Feature Extraction: 100%|██████████| 20/20 [00:05<00:00,  3.59it/s]\n",
      "Feature Extraction: 100%|██████████| 20/20 [00:04<00:00,  4.29it/s]\n"
     ]
    },
    {
     "name": "stdout",
     "output_type": "stream",
     "text": [
      "      135000000 done in  81.4 minutes\n"
     ]
    },
    {
     "name": "stderr",
     "output_type": "stream",
     "text": [
      "Feature Extraction: 100%|██████████| 20/20 [00:08<00:00,  2.37it/s]\n",
      "Feature Extraction: 100%|██████████| 20/20 [00:05<00:00,  3.60it/s]\n"
     ]
    },
    {
     "name": "stdout",
     "output_type": "stream",
     "text": [
      "      140000000 done in  84.7 minutes\n"
     ]
    },
    {
     "name": "stderr",
     "output_type": "stream",
     "text": [
      "Feature Extraction: 100%|██████████| 20/20 [00:05<00:00,  3.61it/s]\n",
      "Feature Extraction: 100%|██████████| 20/20 [00:03<00:00,  5.42it/s]\n"
     ]
    },
    {
     "name": "stdout",
     "output_type": "stream",
     "text": [
      "      145000000 done in  87.2 minutes\n"
     ]
    },
    {
     "name": "stderr",
     "output_type": "stream",
     "text": [
      "Feature Extraction: 100%|██████████| 20/20 [00:05<00:00,  3.49it/s]\n",
      "Feature Extraction: 100%|██████████| 20/20 [00:04<00:00,  4.79it/s]\n"
     ]
    },
    {
     "name": "stdout",
     "output_type": "stream",
     "text": [
      "      150000000 done in  89.7 minutes\n"
     ]
    },
    {
     "name": "stderr",
     "output_type": "stream",
     "text": [
      "Feature Extraction: 100%|██████████| 20/20 [00:08<00:00,  2.35it/s]\n",
      "Feature Extraction: 100%|██████████| 20/20 [00:05<00:00,  3.67it/s]\n"
     ]
    },
    {
     "name": "stdout",
     "output_type": "stream",
     "text": [
      "      155000000 done in  92.5 minutes\n"
     ]
    },
    {
     "name": "stderr",
     "output_type": "stream",
     "text": [
      "Feature Extraction: 100%|██████████| 20/20 [00:06<00:00,  2.96it/s]\n",
      "Feature Extraction: 100%|██████████| 20/20 [00:05<00:00,  3.50it/s]\n"
     ]
    },
    {
     "name": "stdout",
     "output_type": "stream",
     "text": [
      "      160000000 done in  95.5 minutes\n"
     ]
    },
    {
     "name": "stderr",
     "output_type": "stream",
     "text": [
      "Feature Extraction: 100%|██████████| 20/20 [00:09<00:00,  2.08it/s]\n",
      "Feature Extraction: 100%|██████████| 20/20 [00:05<00:00,  3.68it/s]\n"
     ]
    },
    {
     "name": "stdout",
     "output_type": "stream",
     "text": [
      "      165000000 done in  98.6 minutes\n"
     ]
    },
    {
     "name": "stderr",
     "output_type": "stream",
     "text": [
      "Feature Extraction: 100%|██████████| 20/20 [00:05<00:00,  3.63it/s]\n",
      "Feature Extraction: 100%|██████████| 20/20 [00:06<00:00,  3.17it/s]\n"
     ]
    },
    {
     "name": "stdout",
     "output_type": "stream",
     "text": [
      "      170000000 done in 101.6 minutes\n"
     ]
    },
    {
     "name": "stderr",
     "output_type": "stream",
     "text": [
      "Feature Extraction: 100%|██████████| 20/20 [00:05<00:00,  3.44it/s]\n",
      "Feature Extraction: 100%|██████████| 20/20 [00:04<00:00,  4.24it/s]\n"
     ]
    },
    {
     "name": "stdout",
     "output_type": "stream",
     "text": [
      "      175000000 done in 104.3 minutes\n"
     ]
    },
    {
     "name": "stderr",
     "output_type": "stream",
     "text": [
      "Feature Extraction: 100%|██████████| 20/20 [00:05<00:00,  3.69it/s]\n",
      "Feature Extraction: 100%|██████████| 20/20 [00:04<00:00,  4.39it/s]\n"
     ]
    },
    {
     "name": "stdout",
     "output_type": "stream",
     "text": [
      "      180000000 done in 107.0 minutes\n"
     ]
    },
    {
     "name": "stderr",
     "output_type": "stream",
     "text": [
      "Feature Extraction: 100%|██████████| 20/20 [00:05<00:00,  3.46it/s]\n",
      "Feature Extraction: 100%|██████████| 20/20 [00:04<00:00,  4.09it/s]\n"
     ]
    },
    {
     "name": "stdout",
     "output_type": "stream",
     "text": [
      "      185000000 done in 109.7 minutes\n"
     ]
    },
    {
     "name": "stderr",
     "output_type": "stream",
     "text": [
      "Feature Extraction: 100%|██████████| 20/20 [00:06<00:00,  3.28it/s]\n",
      "Feature Extraction: 100%|██████████| 20/20 [00:05<00:00,  3.88it/s]\n"
     ]
    },
    {
     "name": "stdout",
     "output_type": "stream",
     "text": [
      "      190000000 done in 113.4 minutes\n"
     ]
    },
    {
     "name": "stderr",
     "output_type": "stream",
     "text": [
      "Feature Extraction: 100%|██████████| 20/20 [00:06<00:00,  3.28it/s]\n",
      "Feature Extraction: 100%|██████████| 20/20 [00:04<00:00,  4.15it/s]\n"
     ]
    },
    {
     "name": "stdout",
     "output_type": "stream",
     "text": [
      "      195000000 done in 115.9 minutes\n"
     ]
    },
    {
     "name": "stderr",
     "output_type": "stream",
     "text": [
      "Feature Extraction: 100%|██████████| 20/20 [00:05<00:00,  3.40it/s]\n",
      "Feature Extraction: 100%|██████████| 20/20 [00:04<00:00,  4.12it/s]\n"
     ]
    },
    {
     "name": "stdout",
     "output_type": "stream",
     "text": [
      "      200000000 done in 121.3 minutes\n"
     ]
    },
    {
     "name": "stderr",
     "output_type": "stream",
     "text": [
      "Feature Extraction: 100%|██████████| 20/20 [00:05<00:00,  3.49it/s]\n",
      "Feature Extraction: 100%|██████████| 20/20 [00:05<00:00,  3.93it/s]\n"
     ]
    },
    {
     "name": "stdout",
     "output_type": "stream",
     "text": [
      "      205000000 done in 124.1 minutes\n"
     ]
    },
    {
     "name": "stderr",
     "output_type": "stream",
     "text": [
      "Feature Extraction: 100%|██████████| 20/20 [00:07<00:00,  2.83it/s]\n",
      "Feature Extraction: 100%|██████████| 20/20 [00:04<00:00,  4.02it/s]\n"
     ]
    },
    {
     "name": "stdout",
     "output_type": "stream",
     "text": [
      "      210000000 done in 127.1 minutes\n"
     ]
    },
    {
     "name": "stderr",
     "output_type": "stream",
     "text": [
      "Feature Extraction: 100%|██████████| 20/20 [00:07<00:00,  2.85it/s]\n",
      "Feature Extraction: 100%|██████████| 20/20 [00:05<00:00,  3.62it/s]\n"
     ]
    },
    {
     "name": "stdout",
     "output_type": "stream",
     "text": [
      "      215000000 done in 130.2 minutes\n"
     ]
    },
    {
     "name": "stderr",
     "output_type": "stream",
     "text": [
      "Feature Extraction: 100%|██████████| 20/20 [00:06<00:00,  3.15it/s]\n",
      "Feature Extraction: 100%|██████████| 20/20 [00:04<00:00,  4.09it/s]\n"
     ]
    },
    {
     "name": "stdout",
     "output_type": "stream",
     "text": [
      "      220000000 done in 133.3 minutes\n"
     ]
    },
    {
     "name": "stderr",
     "output_type": "stream",
     "text": [
      "Feature Extraction: 100%|██████████| 20/20 [00:06<00:00,  3.11it/s]\n",
      "Feature Extraction: 100%|██████████| 20/20 [00:05<00:00,  3.55it/s]\n"
     ]
    },
    {
     "name": "stdout",
     "output_type": "stream",
     "text": [
      "      225000000 done in 140.9 minutes\n"
     ]
    },
    {
     "name": "stderr",
     "output_type": "stream",
     "text": [
      "Feature Extraction: 100%|██████████| 20/20 [00:05<00:00,  3.74it/s]\n",
      "Feature Extraction: 100%|██████████| 20/20 [00:04<00:00,  4.49it/s]\n"
     ]
    },
    {
     "name": "stdout",
     "output_type": "stream",
     "text": [
      "      230000000 done in 143.9 minutes\n"
     ]
    },
    {
     "name": "stderr",
     "output_type": "stream",
     "text": [
      "Feature Extraction: 100%|██████████| 20/20 [00:07<00:00,  2.85it/s]\n",
      "Feature Extraction: 100%|██████████| 20/20 [00:05<00:00,  3.84it/s]\n"
     ]
    },
    {
     "name": "stdout",
     "output_type": "stream",
     "text": [
      "      235000000 done in 146.7 minutes\n"
     ]
    },
    {
     "name": "stderr",
     "output_type": "stream",
     "text": [
      "Feature Extraction: 100%|██████████| 20/20 [00:06<00:00,  3.33it/s]\n",
      "Feature Extraction: 100%|██████████| 20/20 [00:04<00:00,  4.26it/s]\n"
     ]
    },
    {
     "name": "stdout",
     "output_type": "stream",
     "text": [
      "      240000000 done in 149.5 minutes\n"
     ]
    },
    {
     "name": "stderr",
     "output_type": "stream",
     "text": [
      "Feature Extraction: 100%|██████████| 20/20 [00:05<00:00,  3.47it/s]\n",
      "Feature Extraction: 100%|██████████| 20/20 [00:04<00:00,  4.12it/s]\n"
     ]
    },
    {
     "name": "stdout",
     "output_type": "stream",
     "text": [
      "      245000000 done in 152.3 minutes\n"
     ]
    },
    {
     "name": "stderr",
     "output_type": "stream",
     "text": [
      "Feature Extraction: 100%|██████████| 20/20 [00:06<00:00,  3.20it/s]\n",
      "Feature Extraction: 100%|██████████| 20/20 [00:04<00:00,  4.52it/s]\n"
     ]
    },
    {
     "name": "stdout",
     "output_type": "stream",
     "text": [
      "      250000000 done in 155.0 minutes\n"
     ]
    },
    {
     "name": "stderr",
     "output_type": "stream",
     "text": [
      "Feature Extraction: 100%|██████████| 20/20 [00:07<00:00,  2.64it/s]\n",
      "Feature Extraction: 100%|██████████| 20/20 [00:06<00:00,  3.23it/s]\n"
     ]
    },
    {
     "name": "stdout",
     "output_type": "stream",
     "text": [
      "      255000000 done in 158.6 minutes\n"
     ]
    },
    {
     "name": "stderr",
     "output_type": "stream",
     "text": [
      "Feature Extraction: 100%|██████████| 20/20 [00:05<00:00,  3.71it/s]\n",
      "Feature Extraction: 100%|██████████| 20/20 [00:04<00:00,  4.76it/s]\n"
     ]
    },
    {
     "name": "stdout",
     "output_type": "stream",
     "text": [
      "      260000000 done in 161.9 minutes\n"
     ]
    },
    {
     "name": "stderr",
     "output_type": "stream",
     "text": [
      "Feature Extraction: 100%|██████████| 20/20 [00:05<00:00,  3.68it/s]\n",
      "Feature Extraction: 100%|██████████| 20/20 [00:03<00:00,  5.11it/s]\n"
     ]
    },
    {
     "name": "stdout",
     "output_type": "stream",
     "text": [
      "      265000000 done in 164.3 minutes\n"
     ]
    },
    {
     "name": "stderr",
     "output_type": "stream",
     "text": [
      "Feature Extraction: 100%|██████████| 20/20 [00:04<00:00,  4.04it/s]\n",
      "Feature Extraction: 100%|██████████| 20/20 [00:04<00:00,  5.00it/s]\n"
     ]
    },
    {
     "name": "stdout",
     "output_type": "stream",
     "text": [
      "      270000000 done in 166.7 minutes\n"
     ]
    },
    {
     "name": "stderr",
     "output_type": "stream",
     "text": [
      "Feature Extraction: 100%|██████████| 20/20 [00:05<00:00,  3.85it/s]\n",
      "Feature Extraction: 100%|██████████| 20/20 [00:03<00:00,  5.21it/s]\n"
     ]
    },
    {
     "name": "stdout",
     "output_type": "stream",
     "text": [
      "      275000000 done in 169.2 minutes\n"
     ]
    },
    {
     "name": "stderr",
     "output_type": "stream",
     "text": [
      "Feature Extraction: 100%|██████████| 20/20 [00:05<00:00,  3.96it/s]\n",
      "Feature Extraction: 100%|██████████| 20/20 [00:04<00:00,  4.85it/s]\n"
     ]
    },
    {
     "name": "stdout",
     "output_type": "stream",
     "text": [
      "      280000000 done in 171.6 minutes\n"
     ]
    },
    {
     "name": "stderr",
     "output_type": "stream",
     "text": [
      "Feature Extraction: 100%|██████████| 20/20 [00:05<00:00,  3.83it/s]\n",
      "Feature Extraction: 100%|██████████| 20/20 [00:03<00:00,  5.10it/s]\n"
     ]
    },
    {
     "name": "stdout",
     "output_type": "stream",
     "text": [
      "      285000000 done in 174.0 minutes\n"
     ]
    },
    {
     "name": "stderr",
     "output_type": "stream",
     "text": [
      "Feature Extraction: 100%|██████████| 20/20 [00:05<00:00,  3.87it/s]\n",
      "Feature Extraction: 100%|██████████| 20/20 [00:04<00:00,  4.80it/s]\n"
     ]
    },
    {
     "name": "stdout",
     "output_type": "stream",
     "text": [
      "      290000000 done in 176.4 minutes\n"
     ]
    },
    {
     "name": "stderr",
     "output_type": "stream",
     "text": [
      "Feature Extraction: 100%|██████████| 20/20 [00:05<00:00,  3.81it/s]\n",
      "Feature Extraction: 100%|██████████| 20/20 [00:04<00:00,  4.67it/s]\n"
     ]
    },
    {
     "name": "stdout",
     "output_type": "stream",
     "text": [
      "      295000000 done in 178.8 minutes\n"
     ]
    },
    {
     "name": "stderr",
     "output_type": "stream",
     "text": [
      "Feature Extraction: 100%|██████████| 20/20 [00:04<00:00,  4.05it/s]\n",
      "Feature Extraction: 100%|██████████| 20/20 [00:04<00:00,  4.48it/s]\n"
     ]
    },
    {
     "name": "stdout",
     "output_type": "stream",
     "text": [
      "      300000000 done in 181.2 minutes\n"
     ]
    },
    {
     "name": "stderr",
     "output_type": "stream",
     "text": [
      "Feature Extraction: 100%|██████████| 20/20 [00:05<00:00,  3.89it/s]\n",
      "Feature Extraction: 100%|██████████| 20/20 [00:04<00:00,  4.65it/s]\n"
     ]
    },
    {
     "name": "stdout",
     "output_type": "stream",
     "text": [
      "      305000000 done in 183.6 minutes\n"
     ]
    },
    {
     "name": "stderr",
     "output_type": "stream",
     "text": [
      "Feature Extraction: 100%|██████████| 20/20 [00:05<00:00,  3.95it/s]\n",
      "Feature Extraction: 100%|██████████| 20/20 [00:03<00:00,  5.24it/s]\n"
     ]
    },
    {
     "name": "stdout",
     "output_type": "stream",
     "text": [
      "      310000000 done in 186.0 minutes\n"
     ]
    },
    {
     "name": "stderr",
     "output_type": "stream",
     "text": [
      "Feature Extraction: 100%|██████████| 20/20 [00:05<00:00,  3.88it/s]\n",
      "Feature Extraction: 100%|██████████| 20/20 [00:04<00:00,  4.51it/s]\n"
     ]
    },
    {
     "name": "stdout",
     "output_type": "stream",
     "text": [
      "      315000000 done in 188.4 minutes\n"
     ]
    },
    {
     "name": "stderr",
     "output_type": "stream",
     "text": [
      "Feature Extraction: 100%|██████████| 20/20 [00:05<00:00,  3.94it/s]\n",
      "Feature Extraction: 100%|██████████| 20/20 [00:03<00:00,  5.24it/s]\n"
     ]
    },
    {
     "name": "stdout",
     "output_type": "stream",
     "text": [
      "      320000000 done in 190.8 minutes\n"
     ]
    },
    {
     "name": "stderr",
     "output_type": "stream",
     "text": [
      "Feature Extraction: 100%|██████████| 20/20 [00:05<00:00,  3.91it/s]\n",
      "Feature Extraction: 100%|██████████| 20/20 [00:04<00:00,  4.53it/s]\n"
     ]
    },
    {
     "name": "stdout",
     "output_type": "stream",
     "text": [
      "      325000000 done in 193.2 minutes\n"
     ]
    },
    {
     "name": "stderr",
     "output_type": "stream",
     "text": [
      "Feature Extraction: 100%|██████████| 20/20 [00:05<00:00,  3.88it/s]\n",
      "Feature Extraction: 100%|██████████| 20/20 [00:03<00:00,  5.50it/s]\n"
     ]
    },
    {
     "name": "stdout",
     "output_type": "stream",
     "text": [
      "      330000000 done in 195.6 minutes\n"
     ]
    },
    {
     "name": "stderr",
     "output_type": "stream",
     "text": [
      "Feature Extraction: 100%|██████████| 20/20 [00:05<00:00,  3.81it/s]\n",
      "Feature Extraction: 100%|██████████| 20/20 [00:03<00:00,  5.03it/s]\n"
     ]
    },
    {
     "name": "stdout",
     "output_type": "stream",
     "text": [
      "      335000000 done in 198.0 minutes\n"
     ]
    },
    {
     "name": "stderr",
     "output_type": "stream",
     "text": [
      "Feature Extraction: 100%|██████████| 20/20 [00:05<00:00,  3.98it/s]\n",
      "Feature Extraction: 100%|██████████| 20/20 [00:03<00:00,  5.05it/s]\n"
     ]
    },
    {
     "name": "stdout",
     "output_type": "stream",
     "text": [
      "      340000000 done in 200.4 minutes\n"
     ]
    },
    {
     "name": "stderr",
     "output_type": "stream",
     "text": [
      "Feature Extraction: 100%|██████████| 20/20 [00:05<00:00,  3.93it/s]\n",
      "Feature Extraction: 100%|██████████| 20/20 [00:04<00:00,  4.72it/s]\n"
     ]
    },
    {
     "name": "stdout",
     "output_type": "stream",
     "text": [
      "      345000000 done in 202.9 minutes\n"
     ]
    },
    {
     "name": "stderr",
     "output_type": "stream",
     "text": [
      "Feature Extraction: 100%|██████████| 20/20 [00:05<00:00,  3.65it/s]\n",
      "Feature Extraction: 100%|██████████| 20/20 [00:04<00:00,  4.25it/s]\n"
     ]
    },
    {
     "name": "stdout",
     "output_type": "stream",
     "text": [
      "      350000000 done in 205.3 minutes\n"
     ]
    },
    {
     "name": "stderr",
     "output_type": "stream",
     "text": [
      "Feature Extraction: 100%|██████████| 20/20 [00:05<00:00,  3.79it/s]\n",
      "Feature Extraction: 100%|██████████| 20/20 [00:03<00:00,  5.40it/s]\n"
     ]
    },
    {
     "name": "stdout",
     "output_type": "stream",
     "text": [
      "      355000000 done in 207.7 minutes\n"
     ]
    },
    {
     "name": "stderr",
     "output_type": "stream",
     "text": [
      "Feature Extraction: 100%|██████████| 20/20 [00:05<00:00,  4.00it/s]\n",
      "Feature Extraction: 100%|██████████| 20/20 [00:04<00:00,  4.89it/s]\n"
     ]
    },
    {
     "name": "stdout",
     "output_type": "stream",
     "text": [
      "      360000000 done in 210.1 minutes\n"
     ]
    },
    {
     "name": "stderr",
     "output_type": "stream",
     "text": [
      "Feature Extraction: 100%|██████████| 20/20 [00:05<00:00,  3.79it/s]\n",
      "Feature Extraction: 100%|██████████| 20/20 [00:04<00:00,  4.47it/s]\n"
     ]
    },
    {
     "name": "stdout",
     "output_type": "stream",
     "text": [
      "      365000000 done in 212.6 minutes\n"
     ]
    },
    {
     "name": "stderr",
     "output_type": "stream",
     "text": [
      "Feature Extraction: 100%|██████████| 20/20 [00:05<00:00,  3.71it/s]\n",
      "Feature Extraction: 100%|██████████| 20/20 [00:04<00:00,  4.44it/s]\n"
     ]
    },
    {
     "name": "stdout",
     "output_type": "stream",
     "text": [
      "      370000000 done in 215.1 minutes\n"
     ]
    },
    {
     "name": "stderr",
     "output_type": "stream",
     "text": [
      "Feature Extraction: 100%|██████████| 20/20 [00:05<00:00,  3.88it/s]\n",
      "Feature Extraction: 100%|██████████| 20/20 [00:04<00:00,  4.74it/s]\n"
     ]
    },
    {
     "name": "stdout",
     "output_type": "stream",
     "text": [
      "      375000000 done in 217.5 minutes\n"
     ]
    },
    {
     "name": "stderr",
     "output_type": "stream",
     "text": [
      "Feature Extraction: 100%|██████████| 20/20 [00:05<00:00,  3.90it/s]\n",
      "Feature Extraction: 100%|██████████| 20/20 [00:04<00:00,  4.89it/s]\n"
     ]
    },
    {
     "name": "stdout",
     "output_type": "stream",
     "text": [
      "      380000000 done in 219.9 minutes\n"
     ]
    },
    {
     "name": "stderr",
     "output_type": "stream",
     "text": [
      "Feature Extraction: 100%|██████████| 20/20 [00:05<00:00,  3.95it/s]\n",
      "Feature Extraction: 100%|██████████| 20/20 [00:04<00:00,  4.72it/s]\n"
     ]
    },
    {
     "name": "stdout",
     "output_type": "stream",
     "text": [
      "      385000000 done in 222.3 minutes\n"
     ]
    },
    {
     "name": "stderr",
     "output_type": "stream",
     "text": [
      "Feature Extraction: 100%|██████████| 20/20 [00:05<00:00,  3.82it/s]\n",
      "Feature Extraction: 100%|██████████| 20/20 [00:04<00:00,  4.52it/s]\n"
     ]
    },
    {
     "name": "stdout",
     "output_type": "stream",
     "text": [
      "      390000000 done in 224.7 minutes\n"
     ]
    },
    {
     "name": "stderr",
     "output_type": "stream",
     "text": [
      "Feature Extraction: 100%|██████████| 20/20 [00:06<00:00,  3.12it/s]\n",
      "Feature Extraction: 100%|██████████| 20/20 [00:04<00:00,  4.57it/s]\n"
     ]
    },
    {
     "name": "stdout",
     "output_type": "stream",
     "text": [
      "      395000000 done in 227.2 minutes\n"
     ]
    },
    {
     "name": "stderr",
     "output_type": "stream",
     "text": [
      "Feature Extraction: 100%|██████████| 20/20 [00:05<00:00,  3.62it/s]\n",
      "Feature Extraction: 100%|██████████| 20/20 [00:05<00:00,  3.37it/s]\n"
     ]
    },
    {
     "name": "stdout",
     "output_type": "stream",
     "text": [
      "      400000000 done in 229.9 minutes\n"
     ]
    },
    {
     "name": "stderr",
     "output_type": "stream",
     "text": [
      "Feature Extraction: 100%|██████████| 20/20 [00:05<00:00,  3.86it/s]\n",
      "Feature Extraction: 100%|██████████| 20/20 [00:04<00:00,  4.82it/s]\n"
     ]
    },
    {
     "name": "stdout",
     "output_type": "stream",
     "text": [
      "      405000000 done in 232.9 minutes\n"
     ]
    },
    {
     "name": "stderr",
     "output_type": "stream",
     "text": [
      "Feature Extraction: 100%|██████████| 20/20 [00:05<00:00,  3.58it/s]\n",
      "Feature Extraction: 100%|██████████| 20/20 [00:04<00:00,  4.81it/s]\n"
     ]
    },
    {
     "name": "stdout",
     "output_type": "stream",
     "text": [
      "      410000000 done in 235.3 minutes\n"
     ]
    },
    {
     "name": "stderr",
     "output_type": "stream",
     "text": [
      "Feature Extraction: 100%|██████████| 20/20 [00:05<00:00,  3.92it/s]\n",
      "Feature Extraction: 100%|██████████| 20/20 [00:03<00:00,  5.37it/s]\n"
     ]
    },
    {
     "name": "stdout",
     "output_type": "stream",
     "text": [
      "      415000000 done in 237.7 minutes\n"
     ]
    },
    {
     "name": "stderr",
     "output_type": "stream",
     "text": [
      "Feature Extraction: 100%|██████████| 20/20 [00:05<00:00,  3.90it/s]\n",
      "Feature Extraction: 100%|██████████| 20/20 [00:04<00:00,  4.66it/s]\n"
     ]
    },
    {
     "name": "stdout",
     "output_type": "stream",
     "text": [
      "      420000000 done in 240.2 minutes\n"
     ]
    },
    {
     "name": "stderr",
     "output_type": "stream",
     "text": [
      "Feature Extraction: 100%|██████████| 20/20 [00:05<00:00,  3.81it/s]\n",
      "Feature Extraction: 100%|██████████| 20/20 [00:03<00:00,  5.05it/s]\n"
     ]
    },
    {
     "name": "stdout",
     "output_type": "stream",
     "text": [
      "      425000000 done in 242.5 minutes\n"
     ]
    },
    {
     "name": "stderr",
     "output_type": "stream",
     "text": [
      "Feature Extraction: 100%|██████████| 20/20 [00:05<00:00,  3.89it/s]\n",
      "Feature Extraction: 100%|██████████| 20/20 [00:03<00:00,  5.03it/s]\n"
     ]
    },
    {
     "name": "stdout",
     "output_type": "stream",
     "text": [
      "      430000000 done in 245.0 minutes\n"
     ]
    },
    {
     "name": "stderr",
     "output_type": "stream",
     "text": [
      "Feature Extraction: 100%|██████████| 20/20 [00:04<00:00,  4.01it/s]\n",
      "Feature Extraction: 100%|██████████| 20/20 [00:03<00:00,  5.08it/s]\n"
     ]
    },
    {
     "name": "stdout",
     "output_type": "stream",
     "text": [
      "      435000000 done in 247.4 minutes\n"
     ]
    },
    {
     "name": "stderr",
     "output_type": "stream",
     "text": [
      "Feature Extraction: 100%|██████████| 20/20 [00:05<00:00,  3.96it/s]\n",
      "Feature Extraction: 100%|██████████| 20/20 [00:04<00:00,  4.36it/s]\n"
     ]
    },
    {
     "name": "stdout",
     "output_type": "stream",
     "text": [
      "      440000000 done in 249.8 minutes\n"
     ]
    },
    {
     "name": "stderr",
     "output_type": "stream",
     "text": [
      "Feature Extraction: 100%|██████████| 20/20 [00:05<00:00,  3.95it/s]\n",
      "Feature Extraction: 100%|██████████| 20/20 [00:04<00:00,  5.00it/s]\n"
     ]
    },
    {
     "name": "stdout",
     "output_type": "stream",
     "text": [
      "      445000000 done in 252.2 minutes\n"
     ]
    },
    {
     "name": "stderr",
     "output_type": "stream",
     "text": [
      "Feature Extraction: 100%|██████████| 20/20 [00:05<00:00,  3.96it/s]\n",
      "Feature Extraction: 100%|██████████| 20/20 [00:04<00:00,  4.77it/s]\n"
     ]
    },
    {
     "name": "stdout",
     "output_type": "stream",
     "text": [
      "      450000000 done in 254.6 minutes\n"
     ]
    },
    {
     "name": "stderr",
     "output_type": "stream",
     "text": [
      "Feature Extraction: 100%|██████████| 20/20 [00:03<00:00,  5.32it/s]\n",
      "Feature Extraction: 100%|██████████| 20/20 [00:03<00:00,  6.58it/s]\n"
     ]
    },
    {
     "name": "stdout",
     "output_type": "stream",
     "text": [
      "      455000000 done in 256.3 minutes\n"
     ]
    },
    {
     "name": "stderr",
     "output_type": "stream",
     "text": [
      "Feature Extraction: 100%|██████████| 1/1 [00:00<00:00, 483.10it/s]\n",
      "Feature Extraction: 100%|██████████| 1/1 [00:00<00:00, 995.09it/s]\n"
     ]
    }
   ],
   "source": [
    "process_test(clfs, full_train.columns,\n",
    "             featurize_configs={'aggs': aggs, 'fcp': fcp},\n",
    "             train_mean=train_mean, feat_dir='feature_cache',\n",
    "             filename='first_preds.csv')"
   ]
  },
  {
   "cell_type": "code",
   "execution_count": 134,
   "metadata": {
    "ExecuteTime": {
     "end_time": "2018-11-28T05:38:44.560310Z",
     "start_time": "2018-11-28T05:38:42.896823Z"
    }
   },
   "outputs": [
    {
     "name": "stdout",
     "output_type": "stream",
     "text": [
      " 3523213 first_preds.csv\r\n"
     ]
    }
   ],
   "source": [
    "!wc -l first_preds.csv  "
   ]
  },
  {
   "cell_type": "code",
   "execution_count": 136,
   "metadata": {
    "ExecuteTime": {
     "end_time": "2018-11-28T05:40:48.856453Z",
     "start_time": "2018-11-28T05:40:26.763629Z"
    }
   },
   "outputs": [],
   "source": [
    "sub = pd.read_csv('first_preds.csv')"
   ]
  },
  {
   "cell_type": "code",
   "execution_count": 153,
   "metadata": {
    "ExecuteTime": {
     "end_time": "2018-11-28T05:45:26.196985Z",
     "start_time": "2018-11-28T05:45:20.602535Z"
    }
   },
   "outputs": [],
   "source": [
    "samp = pd.read_csv('sample_submission.csv')"
   ]
  },
  {
   "cell_type": "code",
   "execution_count": 156,
   "metadata": {
    "ExecuteTime": {
     "end_time": "2018-11-28T05:45:50.014159Z",
     "start_time": "2018-11-28T05:45:49.270379Z"
    }
   },
   "outputs": [],
   "source": [
    "samp_ids = set(samp.object_id)"
   ]
  },
  {
   "cell_type": "code",
   "execution_count": 186,
   "metadata": {
    "ExecuteTime": {
     "end_time": "2018-11-28T05:52:03.565049Z",
     "start_time": "2018-11-28T05:52:01.942695Z"
    }
   },
   "outputs": [],
   "source": [
    "my_ids = set([int(x) for x in sub2.index])"
   ]
  },
  {
   "cell_type": "code",
   "execution_count": 185,
   "metadata": {
    "ExecuteTime": {
     "end_time": "2018-11-28T05:52:01.935031Z",
     "start_time": "2018-11-28T05:51:41.965824Z"
    }
   },
   "outputs": [],
   "source": [
    "sub2 = sub2.drop('object_id')"
   ]
  },
  {
   "cell_type": "code",
   "execution_count": 187,
   "metadata": {
    "ExecuteTime": {
     "end_time": "2018-11-28T05:52:11.818111Z",
     "start_time": "2018-11-28T05:52:10.920137Z"
    }
   },
   "outputs": [],
   "source": [
    "extra = my_ids.difference(samp_ids)\n",
    "missing = samp_ids.difference(my_ids)"
   ]
  },
  {
   "cell_type": "code",
   "execution_count": 178,
   "metadata": {
    "ExecuteTime": {
     "end_time": "2018-11-28T05:50:33.784399Z",
     "start_time": "2018-11-28T05:50:33.647665Z"
    }
   },
   "outputs": [
    {
     "data": {
      "text/plain": [
       "dtype('O')"
      ]
     },
     "execution_count": 178,
     "metadata": {},
     "output_type": "execute_result"
    }
   ],
   "source": [
    "sub2.index.dtype"
   ]
  },
  {
   "cell_type": "code",
   "execution_count": 189,
   "metadata": {
    "ExecuteTime": {
     "end_time": "2018-11-28T05:52:20.156040Z",
     "start_time": "2018-11-28T05:52:20.099665Z"
    }
   },
   "outputs": [
    {
     "data": {
      "text/plain": [
       "[]"
      ]
     },
     "execution_count": 189,
     "metadata": {},
     "output_type": "execute_result"
    }
   ],
   "source": [
    "sorted(extra)"
   ]
  },
  {
   "cell_type": "code",
   "execution_count": 194,
   "metadata": {
    "ExecuteTime": {
     "end_time": "2018-11-28T05:53:12.493582Z",
     "start_time": "2018-11-28T05:53:12.341647Z"
    }
   },
   "outputs": [],
   "source": [
    "sub2.index = sub2.index.astype(int)"
   ]
  },
  {
   "cell_type": "code",
   "execution_count": 195,
   "metadata": {
    "ExecuteTime": {
     "end_time": "2018-11-28T05:53:23.180099Z",
     "start_time": "2018-11-28T05:53:19.656118Z"
    }
   },
   "outputs": [],
   "source": [
    "sub2 =sub2.reset_index()"
   ]
  },
  {
   "cell_type": "code",
   "execution_count": 196,
   "metadata": {
    "ExecuteTime": {
     "end_time": "2018-11-28T05:53:34.629674Z",
     "start_time": "2018-11-28T05:53:32.632683Z"
    }
   },
   "outputs": [],
   "source": [
    "sub2 = sub2.drop_duplicates(subset=['object_id'])"
   ]
  },
  {
   "cell_type": "code",
   "execution_count": 200,
   "metadata": {
    "ExecuteTime": {
     "end_time": "2018-11-28T05:55:47.403203Z",
     "start_time": "2018-11-28T05:54:21.758786Z"
    }
   },
   "outputs": [],
   "source": [
    "sub2.to_csv('first_preds_fixed.csv', index=False)"
   ]
  },
  {
   "cell_type": "code",
   "execution_count": 202,
   "metadata": {
    "ExecuteTime": {
     "end_time": "2018-11-28T05:58:18.279695Z",
     "start_time": "2018-11-28T05:57:14.884451Z"
    }
   },
   "outputs": [
    {
     "name": "stdout",
     "output_type": "stream",
     "text": [
      "100%|██████████████████████████████████████| 1.05G/1.05G [01:01<00:00, 18.5MB/s]\n",
      "Successfully submitted to PLAsTiCC Astronomical Classification"
     ]
    }
   ],
   "source": [
    "!kaggle competitions submit -c PLAsTiCC-2018 -f first_preds_fixed.csv -m \"fixed\""
   ]
  },
  {
   "cell_type": "code",
   "execution_count": 204,
   "metadata": {
    "ExecuteTime": {
     "end_time": "2018-11-28T06:02:53.384969Z",
     "start_time": "2018-11-28T06:02:53.325248Z"
    }
   },
   "outputs": [],
   "source": [
    "from plasticc.constants import *"
   ]
  },
  {
   "cell_type": "code",
   "execution_count": 206,
   "metadata": {
    "ExecuteTime": {
     "end_time": "2018-11-28T06:03:13.163999Z",
     "start_time": "2018-11-28T06:03:13.105688Z"
    }
   },
   "outputs": [],
   "source": [
    "a = pd.Series(DART_KERNEL_PARAMS)\n",
    "b = pd.Series(best_params)"
   ]
  },
  {
   "cell_type": "code",
   "execution_count": 523,
   "metadata": {
    "ExecuteTime": {
     "end_time": "2018-11-28T16:12:13.627421Z",
     "start_time": "2018-11-28T16:12:13.574388Z"
    }
   },
   "outputs": [],
   "source": [
    "#tryleN"
   ]
  },
  {
   "cell_type": "code",
   "execution_count": 217,
   "metadata": {
    "ExecuteTime": {
     "end_time": "2018-11-28T06:05:46.986039Z",
     "start_time": "2018-11-28T06:05:46.933302Z"
    }
   },
   "outputs": [
    {
     "data": {
      "text/plain": [
       "True"
      ]
     },
     "execution_count": 217,
     "metadata": {},
     "output_type": "execute_result"
    }
   ],
   "source": [
    "best_params == DART_KERNEL_PARAMS"
   ]
  },
  {
   "cell_type": "code",
   "execution_count": 216,
   "metadata": {
    "ExecuteTime": {
     "end_time": "2018-11-28T06:04:51.822397Z",
     "start_time": "2018-11-28T06:04:51.770578Z"
    }
   },
   "outputs": [],
   "source": [
    "#pd.DataFrame(dict(a=a.sort_index(), b=b))"
   ]
  },
  {
   "cell_type": "code",
   "execution_count": null,
   "metadata": {},
   "outputs": [],
   "source": [
    "pd.read_css"
   ]
  },
  {
   "cell_type": "code",
   "execution_count": 168,
   "metadata": {
    "ExecuteTime": {
     "end_time": "2018-11-28T05:49:01.747158Z",
     "start_time": "2018-11-28T05:49:01.686722Z"
    }
   },
   "outputs": [
    {
     "data": {
      "text/plain": [
       "False"
      ]
     },
     "execution_count": 168,
     "metadata": {},
     "output_type": "execute_result"
    }
   ],
   "source": [
    "104853812 in missing"
   ]
  },
  {
   "cell_type": "code",
   "execution_count": 169,
   "metadata": {
    "ExecuteTime": {
     "end_time": "2018-11-28T05:49:07.475824Z",
     "start_time": "2018-11-28T05:49:07.422547Z"
    }
   },
   "outputs": [
    {
     "data": {
      "text/plain": [
       "False"
      ]
     },
     "execution_count": 169,
     "metadata": {},
     "output_type": "execute_result"
    }
   ],
   "source": [
    "104853812 in extra"
   ]
  },
  {
   "cell_type": "code",
   "execution_count": 161,
   "metadata": {
    "ExecuteTime": {
     "end_time": "2018-11-28T05:46:54.067902Z",
     "start_time": "2018-11-28T05:46:49.964477Z"
    }
   },
   "outputs": [],
   "source": [
    "sub2 = sub2.set_index('object_id')"
   ]
  },
  {
   "cell_type": "code",
   "execution_count": 162,
   "metadata": {
    "ExecuteTime": {
     "end_time": "2018-11-28T05:46:59.362651Z",
     "start_time": "2018-11-28T05:46:55.912255Z"
    }
   },
   "outputs": [
    {
     "data": {
      "text/plain": [
       "(3490443, 15)"
      ]
     },
     "execution_count": 162,
     "metadata": {},
     "output_type": "execute_result"
    }
   ],
   "source": [
    "sub2.drop(delta).shape"
   ]
  },
  {
   "cell_type": "code",
   "execution_count": 164,
   "metadata": {
    "ExecuteTime": {
     "end_time": "2018-11-28T05:47:48.636177Z",
     "start_time": "2018-11-28T05:47:48.583730Z"
    }
   },
   "outputs": [
    {
     "data": {
      "text/plain": [
       "30321"
      ]
     },
     "execution_count": 164,
     "metadata": {},
     "output_type": "execute_result"
    }
   ],
   "source": [
    "len(delta)"
   ]
  },
  {
   "cell_type": "code",
   "execution_count": null,
   "metadata": {},
   "outputs": [],
   "source": [
    "sub2."
   ]
  },
  {
   "cell_type": "code",
   "execution_count": 163,
   "metadata": {
    "ExecuteTime": {
     "end_time": "2018-11-28T05:46:59.429795Z",
     "start_time": "2018-11-28T05:46:59.366162Z"
    }
   },
   "outputs": [
    {
     "data": {
      "text/plain": [
       "(3492890, 16)"
      ]
     },
     "execution_count": 163,
     "metadata": {},
     "output_type": "execute_result"
    }
   ],
   "source": [
    "samp.shape"
   ]
  },
  {
   "cell_type": "code",
   "execution_count": null,
   "metadata": {},
   "outputs": [],
   "source": [
    "my_ids.difference(samp_ids)"
   ]
  },
  {
   "cell_type": "code",
   "execution_count": 143,
   "metadata": {
    "ExecuteTime": {
     "end_time": "2018-11-28T05:42:26.516379Z",
     "start_time": "2018-11-28T05:42:21.542290Z"
    }
   },
   "outputs": [],
   "source": [
    "sub2 = sub.drop_duplicates(subset=['object_id'])"
   ]
  },
  {
   "cell_type": "code",
   "execution_count": 144,
   "metadata": {
    "ExecuteTime": {
     "end_time": "2018-11-28T05:42:26.584358Z",
     "start_time": "2018-11-28T05:42:26.519017Z"
    }
   },
   "outputs": [
    {
     "data": {
      "text/plain": [
       "(3520764, 16)"
      ]
     },
     "execution_count": 144,
     "metadata": {},
     "output_type": "execute_result"
    }
   ],
   "source": [
    "sub2.shape"
   ]
  },
  {
   "cell_type": "code",
   "execution_count": 146,
   "metadata": {
    "ExecuteTime": {
     "end_time": "2018-11-28T05:42:57.568628Z",
     "start_time": "2018-11-28T05:42:54.125585Z"
    }
   },
   "outputs": [],
   "source": [
    "vc = pd.value_counts(sub2.object_id)"
   ]
  },
  {
   "cell_type": "code",
   "execution_count": 148,
   "metadata": {
    "ExecuteTime": {
     "end_time": "2018-11-28T05:43:09.518254Z",
     "start_time": "2018-11-28T05:43:09.449823Z"
    }
   },
   "outputs": [
    {
     "data": {
      "text/html": [
       "<div>\n",
       "<style scoped>\n",
       "    .dataframe tbody tr th:only-of-type {\n",
       "        vertical-align: middle;\n",
       "    }\n",
       "\n",
       "    .dataframe tbody tr th {\n",
       "        vertical-align: top;\n",
       "    }\n",
       "\n",
       "    .dataframe thead th {\n",
       "        text-align: right;\n",
       "    }\n",
       "</style>\n",
       "<table border=\"1\" class=\"dataframe\">\n",
       "  <thead>\n",
       "    <tr style=\"text-align: right;\">\n",
       "      <th></th>\n",
       "      <th>class_6</th>\n",
       "      <th>class_15</th>\n",
       "      <th>class_16</th>\n",
       "      <th>class_42</th>\n",
       "      <th>class_52</th>\n",
       "      <th>class_53</th>\n",
       "      <th>class_62</th>\n",
       "      <th>class_64</th>\n",
       "      <th>class_65</th>\n",
       "      <th>class_67</th>\n",
       "      <th>class_88</th>\n",
       "      <th>class_90</th>\n",
       "      <th>class_92</th>\n",
       "      <th>class_95</th>\n",
       "      <th>object_id</th>\n",
       "      <th>class_99</th>\n",
       "    </tr>\n",
       "  </thead>\n",
       "  <tbody>\n",
       "    <tr>\n",
       "      <th>0</th>\n",
       "      <td>0.00042159098351455615</td>\n",
       "      <td>0.0030379560671521984</td>\n",
       "      <td>0.00029275080648271144</td>\n",
       "      <td>0.45595269159243806</td>\n",
       "      <td>0.2804592333744509</td>\n",
       "      <td>0.0006910813628231637</td>\n",
       "      <td>0.08942402332825233</td>\n",
       "      <td>0.0002075177739158999</td>\n",
       "      <td>0.0002836066644621261</td>\n",
       "      <td>0.0032308286998010403</td>\n",
       "      <td>0.0007111506041599018</td>\n",
       "      <td>0.16433540032704178</td>\n",
       "      <td>0.00031499909458101587</td>\n",
       "      <td>0.0006371693209242944</td>\n",
       "      <td>13</td>\n",
       "      <td>0.1607617306512936</td>\n",
       "    </tr>\n",
       "    <tr>\n",
       "      <th>1</th>\n",
       "      <td>0.0008159140588685449</td>\n",
       "      <td>0.017125214236182813</td>\n",
       "      <td>0.0007435573041927157</td>\n",
       "      <td>0.14719029359404806</td>\n",
       "      <td>0.05294479242832356</td>\n",
       "      <td>0.0011661945220325669</td>\n",
       "      <td>0.08232548795622037</td>\n",
       "      <td>0.001567461692882966</td>\n",
       "      <td>0.0017629124713281507</td>\n",
       "      <td>0.029462455102237474</td>\n",
       "      <td>0.0043286793934914965</td>\n",
       "      <td>0.6511402188403274</td>\n",
       "      <td>0.0006304547920983374</td>\n",
       "      <td>0.008796363607765607</td>\n",
       "      <td>14</td>\n",
       "      <td>0.13178509220085244</td>\n",
       "    </tr>\n",
       "    <tr>\n",
       "      <th>2</th>\n",
       "      <td>0.00033142823164166184</td>\n",
       "      <td>0.004331229856657922</td>\n",
       "      <td>0.00033312024043870346</td>\n",
       "      <td>0.037704749431268086</td>\n",
       "      <td>0.02318125644214907</td>\n",
       "      <td>0.00048525138971455535</td>\n",
       "      <td>0.019961882384480767</td>\n",
       "      <td>0.001991095911329846</td>\n",
       "      <td>0.00047038873300541556</td>\n",
       "      <td>0.040385322320161635</td>\n",
       "      <td>0.004974595833210926</td>\n",
       "      <td>0.8617779746143593</td>\n",
       "      <td>0.0001952725555538284</td>\n",
       "      <td>0.003876432056028196</td>\n",
       "      <td>17</td>\n",
       "      <td>0.0654731354551779</td>\n",
       "    </tr>\n",
       "    <tr>\n",
       "      <th>3</th>\n",
       "      <td>0.0005724627506404486</td>\n",
       "      <td>0.0025806437112120563</td>\n",
       "      <td>0.00048005840770520836</td>\n",
       "      <td>0.05508326139135594</td>\n",
       "      <td>0.01773669625794712</td>\n",
       "      <td>0.0006795811073073843</td>\n",
       "      <td>0.0642062959563797</td>\n",
       "      <td>0.002887964809079866</td>\n",
       "      <td>0.0007552165230634139</td>\n",
       "      <td>0.2573716093434447</td>\n",
       "      <td>0.0016108630017106541</td>\n",
       "      <td>0.5721887482586194</td>\n",
       "      <td>0.00025669450751963354</td>\n",
       "      <td>0.02358990397401442</td>\n",
       "      <td>23</td>\n",
       "      <td>0.14541283642635097</td>\n",
       "    </tr>\n",
       "    <tr>\n",
       "      <th>4</th>\n",
       "      <td>0.0003864480210215806</td>\n",
       "      <td>0.004330789487860544</td>\n",
       "      <td>0.00025451987809244027</td>\n",
       "      <td>0.10050289575397502</td>\n",
       "      <td>0.18919605880345533</td>\n",
       "      <td>0.0005370575132184383</td>\n",
       "      <td>0.044846256830256635</td>\n",
       "      <td>0.00033626396706666807</td>\n",
       "      <td>0.0004983174433396428</td>\n",
       "      <td>0.016630143911280128</td>\n",
       "      <td>0.0004057031901211652</td>\n",
       "      <td>0.6413389036116804</td>\n",
       "      <td>0.0002134064563031003</td>\n",
       "      <td>0.0005232351323289412</td>\n",
       "      <td>34</td>\n",
       "      <td>0.13290774743702988</td>\n",
       "    </tr>\n",
       "  </tbody>\n",
       "</table>\n",
       "</div>"
      ],
      "text/plain": [
       "                  class_6               class_15                class_16  \\\n",
       "0  0.00042159098351455615  0.0030379560671521984  0.00029275080648271144   \n",
       "1   0.0008159140588685449   0.017125214236182813   0.0007435573041927157   \n",
       "2  0.00033142823164166184   0.004331229856657922  0.00033312024043870346   \n",
       "3   0.0005724627506404486  0.0025806437112120563  0.00048005840770520836   \n",
       "4   0.0003864480210215806   0.004330789487860544  0.00025451987809244027   \n",
       "\n",
       "               class_42             class_52                class_53  \\\n",
       "0   0.45595269159243806   0.2804592333744509   0.0006910813628231637   \n",
       "1   0.14719029359404806  0.05294479242832356   0.0011661945220325669   \n",
       "2  0.037704749431268086  0.02318125644214907  0.00048525138971455535   \n",
       "3   0.05508326139135594  0.01773669625794712   0.0006795811073073843   \n",
       "4   0.10050289575397502  0.18919605880345533   0.0005370575132184383   \n",
       "\n",
       "               class_62                class_64                class_65  \\\n",
       "0   0.08942402332825233   0.0002075177739158999   0.0002836066644621261   \n",
       "1   0.08232548795622037    0.001567461692882966   0.0017629124713281507   \n",
       "2  0.019961882384480767    0.001991095911329846  0.00047038873300541556   \n",
       "3    0.0642062959563797    0.002887964809079866   0.0007552165230634139   \n",
       "4  0.044846256830256635  0.00033626396706666807   0.0004983174433396428   \n",
       "\n",
       "                class_67               class_88             class_90  \\\n",
       "0  0.0032308286998010403  0.0007111506041599018  0.16433540032704178   \n",
       "1   0.029462455102237474  0.0043286793934914965   0.6511402188403274   \n",
       "2   0.040385322320161635   0.004974595833210926   0.8617779746143593   \n",
       "3     0.2573716093434447  0.0016108630017106541   0.5721887482586194   \n",
       "4   0.016630143911280128  0.0004057031901211652   0.6413389036116804   \n",
       "\n",
       "                 class_92               class_95 object_id  \\\n",
       "0  0.00031499909458101587  0.0006371693209242944        13   \n",
       "1   0.0006304547920983374   0.008796363607765607        14   \n",
       "2   0.0001952725555538284   0.003876432056028196        17   \n",
       "3  0.00025669450751963354    0.02358990397401442        23   \n",
       "4   0.0002134064563031003  0.0005232351323289412        34   \n",
       "\n",
       "              class_99  \n",
       "0   0.1607617306512936  \n",
       "1  0.13178509220085244  \n",
       "2   0.0654731354551779  \n",
       "3  0.14541283642635097  \n",
       "4  0.13290774743702988  "
      ]
     },
     "execution_count": 148,
     "metadata": {},
     "output_type": "execute_result"
    }
   ],
   "source": [
    "sub2.head()"
   ]
  },
  {
   "cell_type": "code",
   "execution_count": 132,
   "metadata": {
    "ExecuteTime": {
     "end_time": "2018-11-28T05:38:17.133606Z",
     "start_time": "2018-11-28T05:38:15.620028Z"
    }
   },
   "outputs": [
    {
     "name": "stdout",
     "output_type": "stream",
     "text": [
      "400 - Bad Request\r\n"
     ]
    }
   ],
   "source": [
    "!kaggle competitions submit -c PLAsTiCC-2018 -f first_preds.csv -m \"with new dtypes!\""
   ]
  },
  {
   "cell_type": "code",
   "execution_count": 126,
   "metadata": {
    "ExecuteTime": {
     "end_time": "2018-11-27T22:54:17.466182Z",
     "start_time": "2018-11-27T22:54:17.412835Z"
    }
   },
   "outputs": [],
   "source": [
    "from plasticc.constants import TEST_SET_SIZE\n",
    "n_chunks = int(np.ceil(TEST_SET_SIZE / chunksize))"
   ]
  },
  {
   "cell_type": "code",
   "execution_count": 127,
   "metadata": {
    "ExecuteTime": {
     "end_time": "2018-11-27T22:54:20.556992Z",
     "start_time": "2018-11-27T22:54:20.492918Z"
    }
   },
   "outputs": [
    {
     "data": {
      "text/plain": [
       "91"
      ]
     },
     "execution_count": 127,
     "metadata": {},
     "output_type": "execute_result"
    }
   ],
   "source": [
    "n_chunks"
   ]
  },
  {
   "cell_type": "code",
   "execution_count": 130,
   "metadata": {
    "ExecuteTime": {
     "end_time": "2018-11-27T22:54:36.477351Z",
     "start_time": "2018-11-27T22:54:36.420316Z"
    }
   },
   "outputs": [
    {
     "data": {
      "text/plain": [
       "90.7306208"
      ]
     },
     "execution_count": 130,
     "metadata": {},
     "output_type": "execute_result"
    }
   ],
   "source": [
    "TEST_SET_SIZE / 5e6"
   ]
  },
  {
   "cell_type": "code",
   "execution_count": 124,
   "metadata": {
    "ExecuteTime": {
     "end_time": "2018-11-27T22:52:42.430211Z",
     "start_time": "2018-11-27T22:52:42.232716Z"
    }
   },
   "outputs": [],
   "source": [
    "from plasticc.forked_lgbm_script import CHUNKSIZE"
   ]
  },
  {
   "cell_type": "code",
   "execution_count": null,
   "metadata": {},
   "outputs": [],
   "source": [
    "TE"
   ]
  },
  {
   "cell_type": "code",
   "execution_count": 66,
   "metadata": {
    "ExecuteTime": {
     "end_time": "2018-11-27T21:29:00.129847Z",
     "start_time": "2018-11-27T21:28:59.785343Z"
    }
   },
   "outputs": [],
   "source": [
    "t = df['object_id'].isin(set(unique_ids[:-1]))"
   ]
  },
  {
   "cell_type": "code",
   "execution_count": 71,
   "metadata": {
    "ExecuteTime": {
     "end_time": "2018-11-27T21:29:22.026152Z",
     "start_time": "2018-11-27T21:29:21.966076Z"
    }
   },
   "outputs": [],
   "source": [
    "#df.object_id.unique()"
   ]
  },
  {
   "cell_type": "code",
   "execution_count": 98,
   "metadata": {
    "ExecuteTime": {
     "end_time": "2018-11-27T22:08:29.349468Z",
     "start_time": "2018-11-27T22:06:02.861387Z"
    }
   },
   "outputs": [
    {
     "data": {
      "application/vnd.jupyter.widget-view+json": {
       "model_id": "69841ccefb9a4d9fa0c5a899b37d65cd",
       "version_major": 2,
       "version_minor": 0
      },
      "text/plain": [
       "HBox(children=(IntProgress(value=1, bar_style='info', max=1), HTML(value='')))"
      ]
     },
     "metadata": {},
     "output_type": "display_data"
    },
    {
     "name": "stdout",
     "output_type": "stream",
     "text": [
      "        5000000 done in   0.1 minutes\n"
     ]
    },
    {
     "name": "stderr",
     "output_type": "stream",
     "text": [
      "Feature Extraction: 100%|██████████| 20/20 [00:17<00:00,  1.12it/s]\n",
      "Feature Extraction: 100%|██████████| 20/20 [00:06<00:00,  3.03it/s]\n",
      "Feature Extraction: 100%|██████████| 20/20 [00:03<00:00,  5.47it/s]\n",
      "Feature Extraction: 100%|██████████| 20/20 [00:02<00:00,  9.76it/s]\n"
     ]
    },
    {
     "name": "stdout",
     "output_type": "stream",
     "text": [
      "       10000000 done in   1.3 minutes\n"
     ]
    },
    {
     "name": "stderr",
     "output_type": "stream",
     "text": [
      "Feature Extraction: 100%|██████████| 20/20 [00:20<00:00,  1.01s/it]\n",
      "Feature Extraction: 100%|██████████| 20/20 [00:06<00:00,  3.03it/s]\n",
      "Feature Extraction: 100%|██████████| 20/20 [00:03<00:00,  5.69it/s]\n",
      "Feature Extraction: 100%|██████████| 20/20 [00:02<00:00,  9.38it/s]\n"
     ]
    },
    {
     "name": "stdout",
     "output_type": "stream",
     "text": [
      "\n"
     ]
    }
   ],
   "source": [
    "chunksize = int(5e6)\n",
    "start = time.time()\n",
    "remain_df = None\n",
    "for i_c, df in tqdm_notebook(enumerate(\n",
    "        pd.read_csv(DATA_DIR / 'test_set.csv', chunksize=chunksize, \n",
    "                    dtype=DTYPES,\n",
    "                    nrows=int(10e6),\n",
    "                    iterator=True))):\n",
    "    # Check object_ids\n",
    "    # I believe np.unique keeps the order of group_ids as they appear in the file\n",
    "    unique_ids = np.unique(df['object_id'])\n",
    "\n",
    "    new_remain_df = df.loc[df['object_id'] == unique_ids[-1]].copy()\n",
    "    if remain_df is None:\n",
    "        df = df.loc[df['object_id'].isin(unique_ids[:-1])]\n",
    "    else:\n",
    "        df = pd.concat([remain_df, df.loc[df['object_id'].isin(unique_ids[:-1])]], axis=0)\n",
    "    # Create remaining samples df\n",
    "    remain_df = new_remain_df\n",
    "    \n",
    "    feat_df = featurize(df, meta_test, aggs, fcp).fillna(0)\n",
    "    print('{:15d} done in {:5.1f} minutes'.format(\n",
    "        chunksize * (i_c + 1), (time.time() - start) / 60), \n",
    "          flush=True)\n",
    "    gc.collect()\n",
    "    # save features\n",
    "    # save preds\n"
   ]
  },
  {
   "cell_type": "code",
   "execution_count": 101,
   "metadata": {
    "ExecuteTime": {
     "end_time": "2018-11-27T22:11:22.800194Z",
     "start_time": "2018-11-27T22:11:16.207843Z"
    }
   },
   "outputs": [],
   "source": [
    "preds_ = None\n",
    "for clf in clfs:\n",
    "    if preds_ is None:\n",
    "        preds_ = clf.predict_proba(feat_df[full_train.columns])\n",
    "    else:\n",
    "        preds_ += clf.predict_proba(feat_df[full_train.columns])\n"
   ]
  },
  {
   "cell_type": "code",
   "execution_count": 103,
   "metadata": {
    "ExecuteTime": {
     "end_time": "2018-11-27T22:12:33.514504Z",
     "start_time": "2018-11-27T22:12:33.468966Z"
    }
   },
   "outputs": [],
   "source": []
  },
  {
   "cell_type": "code",
   "execution_count": 80,
   "metadata": {
    "ExecuteTime": {
     "end_time": "2018-11-27T21:31:54.143999Z",
     "start_time": "2018-11-27T21:31:32.303177Z"
    }
   },
   "outputs": [
    {
     "name": "stderr",
     "output_type": "stream",
     "text": [
      "\n",
      "Feature Extraction:   0%|          | 0/20 [00:00<?, ?it/s]\u001b[A\n",
      "Feature Extraction:   5%|▌         | 1/20 [00:00<00:16,  1.14it/s]\u001b[A\n",
      "Feature Extraction:  10%|█         | 2/20 [00:01<00:11,  1.52it/s]\u001b[A\n",
      "Feature Extraction:  25%|██▌       | 5/20 [00:01<00:05,  2.92it/s]\u001b[A\n",
      "Feature Extraction:  30%|███       | 6/20 [00:01<00:04,  3.20it/s]\u001b[A\n",
      "Feature Extraction:  35%|███▌      | 7/20 [00:02<00:04,  2.92it/s]\u001b[A\n",
      "Feature Extraction:  40%|████      | 8/20 [00:02<00:03,  3.12it/s]\u001b[A\n",
      "Feature Extraction:  45%|████▌     | 9/20 [00:03<00:03,  2.84it/s]\u001b[A\n",
      "Feature Extraction:  50%|█████     | 10/20 [00:03<00:03,  3.02it/s]\u001b[A\n",
      "Feature Extraction:  55%|█████▌    | 11/20 [00:03<00:02,  3.05it/s]\u001b[A\n",
      "Feature Extraction:  60%|██████    | 12/20 [00:03<00:02,  3.23it/s]\u001b[A\n",
      "Feature Extraction:  65%|██████▌   | 13/20 [00:03<00:02,  3.30it/s]\u001b[A\n",
      "Feature Extraction:  70%|███████   | 14/20 [00:04<00:01,  3.42it/s]\u001b[A\n",
      "Feature Extraction:  75%|███████▌  | 15/20 [00:04<00:01,  3.39it/s]\u001b[A\n",
      "Feature Extraction:  80%|████████  | 16/20 [00:04<00:01,  3.52it/s]\u001b[A\n",
      "Feature Extraction:  85%|████████▌ | 17/20 [00:04<00:00,  3.56it/s]\u001b[A\n",
      "Feature Extraction:  90%|█████████ | 18/20 [00:04<00:00,  3.67it/s]\u001b[A\n",
      "Feature Extraction:  95%|█████████▌| 19/20 [00:05<00:00,  3.69it/s]\u001b[A\n",
      "Feature Extraction: 100%|██████████| 20/20 [00:05<00:00,  3.79it/s]\u001b[A\n",
      "\u001b[A\n",
      "Feature Extraction:   0%|          | 0/20 [00:00<?, ?it/s]\u001b[A\n",
      "Feature Extraction:   5%|▌         | 1/20 [00:00<00:05,  3.80it/s]\u001b[A\n",
      "Feature Extraction:  20%|██        | 4/20 [00:00<00:01, 10.37it/s]\u001b[A\n",
      "Feature Extraction:  25%|██▌       | 5/20 [00:00<00:01,  8.72it/s]\u001b[A\n",
      "Feature Extraction:  45%|████▌     | 9/20 [00:00<00:01, 11.00it/s]\u001b[A\n",
      "Feature Extraction:  65%|██████▌   | 13/20 [00:01<00:00, 12.52it/s]\u001b[A\n",
      "Feature Extraction:  85%|████████▌ | 17/20 [00:01<00:00, 12.64it/s]\u001b[A\n",
      "Feature Extraction: 100%|██████████| 20/20 [00:01<00:00, 14.13it/s]\u001b[A\n",
      "Feature Extraction:   0%|          | 0/20 [00:00<?, ?it/s]\u001b[A\n",
      "Feature Extraction:   5%|▌         | 1/20 [00:00<00:02,  6.36it/s]\u001b[A\n",
      "Feature Extraction:  20%|██        | 4/20 [00:00<00:01, 14.88it/s]\u001b[A\n",
      "Feature Extraction:  35%|███▌      | 7/20 [00:00<00:00, 18.79it/s]\u001b[A\n",
      "Feature Extraction:  50%|█████     | 10/20 [00:00<00:00, 20.46it/s]\u001b[A\n",
      "Feature Extraction:  70%|███████   | 14/20 [00:00<00:00, 22.78it/s]\u001b[A\n",
      "Feature Extraction:  90%|█████████ | 18/20 [00:00<00:00, 25.16it/s]\u001b[A\n",
      "Feature Extraction: 100%|██████████| 20/20 [00:00<00:00, 26.19it/s]\u001b[A\n",
      "Feature Extraction:   0%|          | 0/20 [00:00<?, ?it/s]\u001b[A\n",
      "Feature Extraction:  35%|███▌      | 7/20 [00:00<00:00, 56.19it/s]\u001b[A\n",
      "Feature Extraction:  45%|████▌     | 9/20 [00:00<00:00, 23.89it/s]\u001b[A\n",
      "Feature Extraction:  65%|██████▌   | 13/20 [00:00<00:00, 15.30it/s]\u001b[A\n",
      "Feature Extraction: 100%|██████████| 20/20 [00:00<00:00, 22.39it/s]\u001b[A"
     ]
    }
   ],
   "source": [
    "pred_df = predict_chunk(df, clfs,  ,\n",
    "               features=full_train.columns,\n",
    "                 featurize_configs={'aggs': aggs, 'fcp': fcp},\n",
    "              train_mean=train_mean,\n",
    "             )"
   ]
  },
  {
   "cell_type": "code",
   "execution_count": 81,
   "metadata": {
    "ExecuteTime": {
     "end_time": "2018-11-27T21:32:45.576771Z",
     "start_time": "2018-11-27T21:32:45.483605Z"
    }
   },
   "outputs": [
    {
     "data": {
      "text/html": [
       "<div>\n",
       "<style scoped>\n",
       "    .dataframe tbody tr th:only-of-type {\n",
       "        vertical-align: middle;\n",
       "    }\n",
       "\n",
       "    .dataframe tbody tr th {\n",
       "        vertical-align: top;\n",
       "    }\n",
       "\n",
       "    .dataframe thead th {\n",
       "        text-align: right;\n",
       "    }\n",
       "</style>\n",
       "<table border=\"1\" class=\"dataframe\">\n",
       "  <thead>\n",
       "    <tr style=\"text-align: right;\">\n",
       "      <th></th>\n",
       "      <th>class_6</th>\n",
       "      <th>class_15</th>\n",
       "      <th>class_16</th>\n",
       "      <th>class_42</th>\n",
       "      <th>class_52</th>\n",
       "      <th>class_53</th>\n",
       "      <th>class_62</th>\n",
       "      <th>class_64</th>\n",
       "      <th>class_65</th>\n",
       "      <th>class_67</th>\n",
       "      <th>class_88</th>\n",
       "      <th>class_90</th>\n",
       "      <th>class_92</th>\n",
       "      <th>class_95</th>\n",
       "      <th>object_id</th>\n",
       "      <th>class_99</th>\n",
       "    </tr>\n",
       "  </thead>\n",
       "  <tbody>\n",
       "    <tr>\n",
       "      <th>0</th>\n",
       "      <td>0.000442</td>\n",
       "      <td>0.003173</td>\n",
       "      <td>0.000313</td>\n",
       "      <td>0.368685</td>\n",
       "      <td>0.310588</td>\n",
       "      <td>0.000657</td>\n",
       "      <td>0.133823</td>\n",
       "      <td>0.000268</td>\n",
       "      <td>0.000322</td>\n",
       "      <td>0.006321</td>\n",
       "      <td>0.000505</td>\n",
       "      <td>0.173858</td>\n",
       "      <td>0.000339</td>\n",
       "      <td>0.000704</td>\n",
       "      <td>13</td>\n",
       "      <td>0.166044</td>\n",
       "    </tr>\n",
       "    <tr>\n",
       "      <th>1</th>\n",
       "      <td>0.000767</td>\n",
       "      <td>0.015908</td>\n",
       "      <td>0.000744</td>\n",
       "      <td>0.134479</td>\n",
       "      <td>0.057759</td>\n",
       "      <td>0.001046</td>\n",
       "      <td>0.068530</td>\n",
       "      <td>0.001509</td>\n",
       "      <td>0.001617</td>\n",
       "      <td>0.027713</td>\n",
       "      <td>0.004643</td>\n",
       "      <td>0.675786</td>\n",
       "      <td>0.000603</td>\n",
       "      <td>0.008897</td>\n",
       "      <td>14</td>\n",
       "      <td>0.124782</td>\n",
       "    </tr>\n",
       "    <tr>\n",
       "      <th>2</th>\n",
       "      <td>0.000359</td>\n",
       "      <td>0.004265</td>\n",
       "      <td>0.000381</td>\n",
       "      <td>0.039115</td>\n",
       "      <td>0.027294</td>\n",
       "      <td>0.000485</td>\n",
       "      <td>0.022146</td>\n",
       "      <td>0.002347</td>\n",
       "      <td>0.000560</td>\n",
       "      <td>0.047605</td>\n",
       "      <td>0.005354</td>\n",
       "      <td>0.845279</td>\n",
       "      <td>0.000223</td>\n",
       "      <td>0.004587</td>\n",
       "      <td>17</td>\n",
       "      <td>0.071405</td>\n",
       "    </tr>\n",
       "    <tr>\n",
       "      <th>3</th>\n",
       "      <td>0.000599</td>\n",
       "      <td>0.003013</td>\n",
       "      <td>0.000518</td>\n",
       "      <td>0.057779</td>\n",
       "      <td>0.019449</td>\n",
       "      <td>0.000670</td>\n",
       "      <td>0.083602</td>\n",
       "      <td>0.003973</td>\n",
       "      <td>0.000811</td>\n",
       "      <td>0.249554</td>\n",
       "      <td>0.001867</td>\n",
       "      <td>0.553925</td>\n",
       "      <td>0.000297</td>\n",
       "      <td>0.023944</td>\n",
       "      <td>23</td>\n",
       "      <td>0.147678</td>\n",
       "    </tr>\n",
       "    <tr>\n",
       "      <th>4</th>\n",
       "      <td>0.000386</td>\n",
       "      <td>0.004665</td>\n",
       "      <td>0.000283</td>\n",
       "      <td>0.108579</td>\n",
       "      <td>0.170461</td>\n",
       "      <td>0.000524</td>\n",
       "      <td>0.044408</td>\n",
       "      <td>0.000351</td>\n",
       "      <td>0.000525</td>\n",
       "      <td>0.018262</td>\n",
       "      <td>0.000442</td>\n",
       "      <td>0.650277</td>\n",
       "      <td>0.000235</td>\n",
       "      <td>0.000603</td>\n",
       "      <td>34</td>\n",
       "      <td>0.129999</td>\n",
       "    </tr>\n",
       "  </tbody>\n",
       "</table>\n",
       "</div>"
      ],
      "text/plain": [
       "    class_6  class_15  class_16  class_42  class_52  class_53  class_62  \\\n",
       "0  0.000442  0.003173  0.000313  0.368685  0.310588  0.000657  0.133823   \n",
       "1  0.000767  0.015908  0.000744  0.134479  0.057759  0.001046  0.068530   \n",
       "2  0.000359  0.004265  0.000381  0.039115  0.027294  0.000485  0.022146   \n",
       "3  0.000599  0.003013  0.000518  0.057779  0.019449  0.000670  0.083602   \n",
       "4  0.000386  0.004665  0.000283  0.108579  0.170461  0.000524  0.044408   \n",
       "\n",
       "   class_64  class_65  class_67  class_88  class_90  class_92  class_95  \\\n",
       "0  0.000268  0.000322  0.006321  0.000505  0.173858  0.000339  0.000704   \n",
       "1  0.001509  0.001617  0.027713  0.004643  0.675786  0.000603  0.008897   \n",
       "2  0.002347  0.000560  0.047605  0.005354  0.845279  0.000223  0.004587   \n",
       "3  0.003973  0.000811  0.249554  0.001867  0.553925  0.000297  0.023944   \n",
       "4  0.000351  0.000525  0.018262  0.000442  0.650277  0.000235  0.000603   \n",
       "\n",
       "   object_id  class_99  \n",
       "0         13  0.166044  \n",
       "1         14  0.124782  \n",
       "2         17  0.071405  \n",
       "3         23  0.147678  \n",
       "4         34  0.129999  "
      ]
     },
     "execution_count": 81,
     "metadata": {},
     "output_type": "execute_result"
    }
   ],
   "source": [
    "pred_df.head()"
   ]
  },
  {
   "cell_type": "code",
   "execution_count": 43,
   "metadata": {
    "ExecuteTime": {
     "end_time": "2018-11-27T21:23:58.887383Z",
     "start_time": "2018-11-27T21:23:58.832633Z"
    }
   },
   "outputs": [],
   "source": [
    "os.chdir(KRL_PATH)"
   ]
  },
  {
   "cell_type": "code",
   "execution_count": null,
   "metadata": {},
   "outputs": [],
   "source": []
  },
  {
   "cell_type": "code",
   "execution_count": 44,
   "metadata": {
    "ExecuteTime": {
     "end_time": "2018-11-27T21:24:08.967983Z",
     "start_time": "2018-11-27T21:24:08.910347Z"
    }
   },
   "outputs": [],
   "source": [
    "from shleifer.utils import optimize_dtypes"
   ]
  },
  {
   "cell_type": "code",
   "execution_count": 46,
   "metadata": {
    "ExecuteTime": {
     "end_time": "2018-11-27T21:24:20.467949Z",
     "start_time": "2018-11-27T21:24:18.236898Z"
    }
   },
   "outputs": [],
   "source": [
    "d2 = optimize_dtypes(df)"
   ]
  },
  {
   "cell_type": "code",
   "execution_count": 49,
   "metadata": {
    "ExecuteTime": {
     "end_time": "2018-11-27T21:25:05.895039Z",
     "start_time": "2018-11-27T21:25:05.833037Z"
    }
   },
   "outputs": [
    {
     "name": "stdout",
     "output_type": "stream",
     "text": [
      "<class 'pandas.core.frame.DataFrame'>\n",
      "Int64Index: 5000000 entries, 0 to 4999999\n",
      "Data columns (total 6 columns):\n",
      "object_id    int32\n",
      "mjd          float16\n",
      "passband     int8\n",
      "flux         float32\n",
      "flux_err     float16\n",
      "detected     int8\n",
      "dtypes: float16(2), float32(1), int32(1), int8(2)\n",
      "memory usage: 104.9 MB\n"
     ]
    }
   ],
   "source": [
    "d2.info()"
   ]
  },
  {
   "cell_type": "code",
   "execution_count": 53,
   "metadata": {
    "ExecuteTime": {
     "end_time": "2018-11-27T21:25:41.909259Z",
     "start_time": "2018-11-27T21:25:41.846331Z"
    }
   },
   "outputs": [
    {
     "name": "stdout",
     "output_type": "stream",
     "text": [
      "<class 'pandas.core.frame.DataFrame'>\n",
      "RangeIndex: 5000000 entries, 0 to 4999999\n",
      "Data columns (total 6 columns):\n",
      "object_id    int32\n",
      "mjd          float16\n",
      "passband     int8\n",
      "flux         float32\n",
      "flux_err     float16\n",
      "detected     int8\n",
      "dtypes: float16(2), float32(1), int32(1), int8(2)\n",
      "memory usage: 66.8 MB\n"
     ]
    }
   ],
   "source": [
    "df.info()"
   ]
  },
  {
   "cell_type": "code",
   "execution_count": 35,
   "metadata": {
    "ExecuteTime": {
     "end_time": "2018-11-27T21:22:23.355293Z",
     "start_time": "2018-11-27T21:22:23.309233Z"
    }
   },
   "outputs": [
    {
     "data": {
      "text/plain": [
       "{'object_id': dtype('int64'),\n",
       " 'mjd': dtype('float64'),\n",
       " 'passband': dtype('int64'),\n",
       " 'flux': dtype('float64'),\n",
       " 'flux_err': dtype('float64'),\n",
       " 'detected': dtype('int64')}"
      ]
     },
     "execution_count": 35,
     "metadata": {},
     "output_type": "execute_result"
    }
   ],
   "source": [
    "df.dtypes.to_dict()"
   ]
  },
  {
   "cell_type": "code",
   "execution_count": 30,
   "metadata": {
    "ExecuteTime": {
     "end_time": "2018-11-27T21:21:43.945817Z",
     "start_time": "2018-11-27T21:21:39.505018Z"
    }
   },
   "outputs": [],
   "source": [
    "for i_c, df in enumerate(pd.read_csv(DATA_DIR / 'test_set.csv', chunksize=5000000, iterator=True)):\n",
    "    break"
   ]
  },
  {
   "cell_type": "code",
   "execution_count": 32,
   "metadata": {
    "ExecuteTime": {
     "end_time": "2018-11-27T21:21:51.961473Z",
     "start_time": "2018-11-27T21:21:51.899512Z"
    }
   },
   "outputs": [
    {
     "data": {
      "text/html": [
       "<div>\n",
       "<style scoped>\n",
       "    .dataframe tbody tr th:only-of-type {\n",
       "        vertical-align: middle;\n",
       "    }\n",
       "\n",
       "    .dataframe tbody tr th {\n",
       "        vertical-align: top;\n",
       "    }\n",
       "\n",
       "    .dataframe thead th {\n",
       "        text-align: right;\n",
       "    }\n",
       "</style>\n",
       "<table border=\"1\" class=\"dataframe\">\n",
       "  <thead>\n",
       "    <tr style=\"text-align: right;\">\n",
       "      <th></th>\n",
       "      <th>object_id</th>\n",
       "      <th>mjd</th>\n",
       "      <th>passband</th>\n",
       "      <th>flux</th>\n",
       "      <th>flux_err</th>\n",
       "      <th>detected</th>\n",
       "    </tr>\n",
       "  </thead>\n",
       "  <tbody>\n",
       "    <tr>\n",
       "      <th>0</th>\n",
       "      <td>13</td>\n",
       "      <td>59798.3205</td>\n",
       "      <td>2</td>\n",
       "      <td>-1.299735</td>\n",
       "      <td>1.357315</td>\n",
       "      <td>0</td>\n",
       "    </tr>\n",
       "    <tr>\n",
       "      <th>1</th>\n",
       "      <td>13</td>\n",
       "      <td>59798.3281</td>\n",
       "      <td>1</td>\n",
       "      <td>-2.095392</td>\n",
       "      <td>1.148654</td>\n",
       "      <td>0</td>\n",
       "    </tr>\n",
       "    <tr>\n",
       "      <th>2</th>\n",
       "      <td>13</td>\n",
       "      <td>59798.3357</td>\n",
       "      <td>3</td>\n",
       "      <td>-0.923794</td>\n",
       "      <td>1.763655</td>\n",
       "      <td>0</td>\n",
       "    </tr>\n",
       "    <tr>\n",
       "      <th>3</th>\n",
       "      <td>13</td>\n",
       "      <td>59798.3466</td>\n",
       "      <td>4</td>\n",
       "      <td>-4.009815</td>\n",
       "      <td>2.602911</td>\n",
       "      <td>0</td>\n",
       "    </tr>\n",
       "    <tr>\n",
       "      <th>4</th>\n",
       "      <td>13</td>\n",
       "      <td>59798.3576</td>\n",
       "      <td>5</td>\n",
       "      <td>-3.403503</td>\n",
       "      <td>5.367328</td>\n",
       "      <td>0</td>\n",
       "    </tr>\n",
       "  </tbody>\n",
       "</table>\n",
       "</div>"
      ],
      "text/plain": [
       "   object_id         mjd  passband      flux  flux_err  detected\n",
       "0         13  59798.3205         2 -1.299735  1.357315         0\n",
       "1         13  59798.3281         1 -2.095392  1.148654         0\n",
       "2         13  59798.3357         3 -0.923794  1.763655         0\n",
       "3         13  59798.3466         4 -4.009815  2.602911         0\n",
       "4         13  59798.3576         5 -3.403503  5.367328         0"
      ]
     },
     "execution_count": 32,
     "metadata": {},
     "output_type": "execute_result"
    }
   ],
   "source": [
    "df.head()"
   ]
  },
  {
   "cell_type": "code",
   "execution_count": null,
   "metadata": {},
   "outputs": [],
   "source": []
  }
 ],
 "metadata": {
  "kernelspec": {
   "display_name": "Python 3",
   "language": "python",
   "name": "python3"
  },
  "language_info": {
   "codemirror_mode": {
    "name": "ipython",
    "version": 3
   },
   "file_extension": ".py",
   "mimetype": "text/x-python",
   "name": "python",
   "nbconvert_exporter": "python",
   "pygments_lexer": "ipython3",
   "version": "3.6.1"
  }
 },
 "nbformat": 4,
 "nbformat_minor": 2
}
